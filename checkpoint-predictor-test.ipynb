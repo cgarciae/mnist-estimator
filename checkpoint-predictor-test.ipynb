{
 "cells": [
  {
   "cell_type": "code",
   "execution_count": 1,
   "metadata": {},
   "outputs": [
    {
     "name": "stderr",
     "output_type": "stream",
     "text": [
      "/home/cristian/anaconda2/envs/py36/lib/python3.6/site-packages/h5py/__init__.py:34: FutureWarning: Conversion of the second argument of issubdtype from `float` to `np.floating` is deprecated. In future, it will be treated as `np.float64 == np.dtype(float).type`.\n",
      "  from ._conv import register_converters as _register_converters\n"
     ]
    }
   ],
   "source": [
    "import tfinterface as ti\n",
    "import tensorflow as tf\n",
    "import dataget as dg\n",
    "import cv2\n",
    "import numpy as np"
   ]
  },
  {
   "cell_type": "code",
   "execution_count": 2,
   "metadata": {},
   "outputs": [
    {
     "name": "stdout",
     "output_type": "stream",
     "text": [
      "INFO:tensorflow:Restoring parameters from models/all_cnn3/model.ckpt-903\n"
     ]
    }
   ],
   "source": [
    "input_map_fn = lambda: dict(\n",
    "    IteratorGetNext = tf.layers.Input(\n",
    "        shape = [28, 28, 1],\n",
    "        name = \"input_image\",\n",
    "    )\n",
    ")\n",
    "\n",
    "input_names = dict(\n",
    "    image = \"input_image:0\"\n",
    ")\n",
    "\n",
    "output_names = dict(\n",
    "    class_probs = \"AllCNN/Softmax:0\"\n",
    ")\n",
    "\n",
    "predictor = ti.estimator.CheckpointPredictor(input_names, output_names, input_map_fn = input_map_fn, model_dir=\"models/all_cnn3\")"
   ]
  },
  {
   "cell_type": "code",
   "execution_count": 3,
   "metadata": {},
   "outputs": [],
   "source": [
    "df = dg.data(\"mnist\").get().df\n",
    "img = cv2.imread(df.filename.iloc[17000], cv2.IMREAD_GRAYSCALE)\n",
    "img = np.expand_dims(img, axis = 2)"
   ]
  },
  {
   "cell_type": "code",
   "execution_count": 4,
   "metadata": {},
   "outputs": [
    {
     "data": {
      "text/plain": [
       "{'class_probs': array([[0.03211612, 0.03211612, 0.1788985 , 0.56336963, 0.0326691 ,\n",
       "         0.03211612, 0.03211612, 0.03236601, 0.03211612, 0.03211612]],\n",
       "       dtype=float32)}"
      ]
     },
     "execution_count": 4,
     "metadata": {},
     "output_type": "execute_result"
    }
   ],
   "source": [
    "predictor.predict(image = [img])"
   ]
  },
  {
   "cell_type": "code",
   "execution_count": null,
   "metadata": {},
   "outputs": [],
   "source": []
  }
 ],
 "metadata": {
  "kernelspec": {
   "display_name": "Python 2",
   "language": "python",
   "name": "python2"
  },
  "language_info": {
   "codemirror_mode": {
    "name": "ipython",
    "version": 3
   },
   "file_extension": ".py",
   "mimetype": "text/x-python",
   "name": "python",
   "nbconvert_exporter": "python",
   "pygments_lexer": "ipython3",
   "version": "3.6.3"
  }
 },
 "nbformat": 4,
 "nbformat_minor": 2
}
