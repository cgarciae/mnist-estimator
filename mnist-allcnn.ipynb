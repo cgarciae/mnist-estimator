{
 "cells": [
  {
   "cell_type": "markdown",
   "metadata": {},
   "source": [
    "# Why this tutorial?\n",
    "* TensorFlow has been \"good but messy\"\n",
    "* Its been adding higher-level APIs\n",
    "* A lot of documentation and tutorials out there still use lower-level APIs\n",
    "* While basic should serve as a basis to create a real project\n",
    "* Created with some of the best practices (suggestions and pull requests are welcome).\n",
    "* The new APIs are GOOD"
   ]
  },
  {
   "cell_type": "code",
   "execution_count": 1,
   "metadata": {},
   "outputs": [
    {
     "name": "stderr",
     "output_type": "stream",
     "text": [
      "/home/dgromov/anaconda3/envs/dataget/lib/python3.6/site-packages/h5py/__init__.py:36: FutureWarning: Conversion of the second argument of issubdtype from `float` to `np.floating` is deprecated. In future, it will be treated as `np.float64 == np.dtype(float).type`.\n",
      "  from ._conv import register_converters as _register_converters\n"
     ]
    }
   ],
   "source": [
    "%matplotlib inline # Magic Function to make matplotlib interact nice with the Jupyter ecosystem\n",
    "\n",
    "import dataget as dg\n",
    "import sonnet as snt\n",
    "import tfinterface as ti\n",
    "import tensorflow as tf\n",
    "import numpy as np\n",
    "from matplotlib import pyplot as plt\n",
    "import cytoolz as cz\n",
    "from dicto import dicto\n",
    "\n",
    "sess = tf.InteractiveSession()\n",
    "params = dicto.load_(\"parameters.yml\")"
   ]
  },
  {
   "cell_type": "markdown",
   "metadata": {},
   "source": [
    "# The APIs\n",
    "Tensorflow includes 2 new APIs that help with a lot of common task and ensure good practices:\n",
    "* Dataset API: used for ETL purposes\n",
    "* Estimator API: helps with the common tasks of traning, evalauating and doing inference. Includes lots of tensorflow best practices.\n",
    "\n",
    "![estimator_architecture](https://cdn-images-1.medium.com/max/1600/1*zoNZvvuJb06yAghetc6BfQ.png)\n",
    "\n",
    "The Estimator API makes us implement a couple of functions:\n",
    "* `train_input_fn`\n",
    "* `test_input_fn`\n",
    "* `model_fn`\n",
    "\n",
    "Although you could fuse the input functions into a single function it you structure you code well. For more information I recommend these resouces:\n",
    "* [Higher-Level APIs in TensorFlow](https://medium.com/onfido-tech/higher-level-apis-in-tensorflow-67bfb602e6c0)\n",
    "* [Introduction to TensorFlow Datasets and Estimators](https://developers.googleblog.com/2017/09/introducing-tensorflow-datasets.html)"
   ]
  },
  {
   "cell_type": "markdown",
   "metadata": {},
   "source": [
    "## Dataget\n",
    "To download and import the MNIST dataset we will use `dataget` here but you can import the mnist however you want, there are various ways to import the mnist like using keras sample datasets. The first time you run this code `dataget` will download, extract, and transform the `MNIST` to jpg images; any subsequent calls use the cached data. "
   ]
  },
  {
   "cell_type": "code",
   "execution_count": 2,
   "metadata": {},
   "outputs": [
    {
     "data": {
      "text/plain": [
       "Index(['class_id', 'filename'], dtype='object')"
      ]
     },
     "execution_count": 2,
     "metadata": {},
     "output_type": "execute_result"
    }
   ],
   "source": [
    "dataset = dg.data(\"mnist\").get() # use .get(rm = True) is something fails\n",
    "\n",
    "dataset.df.columns"
   ]
  },
  {
   "cell_type": "markdown",
   "metadata": {},
   "source": [
    "Dataget's `df` property give us the dataset as a pandas dataframe. The images are not loaded, it give us the absolute path of the image in the `filename` column and the corresping label in the `class_id` column. We will use TensorFlow to load the images.\n",
    "\n",
    "## Input\n",
    "The first thing we will do is create an input pipeline by implementing the `input_fn` function. This function will take a dataframe, the parameters, the training mode, and return a dictionary of feature tensors. Here we will heavily rely on the `Dataset` class in the `tf.data` module. It has many useful function to transform and filter data like:\n",
    "* `map`\n",
    "* `filter`\n",
    "* `flat_map`\n",
    "* `take`\n",
    "* `skip`\n",
    "* etc\n",
    "\n",
    "as well as methods to load data. \n",
    "\n",
    "Concretely our input function should take no arguments and return a`features` object, which can be a single tensor or a structure of tensors, and a`labels` tensor. We will create a function that accepts parameters and turn it into a parameter-less function by using a lambda later."
   ]
  },
  {
   "cell_type": "code",
   "execution_count": 3,
   "metadata": {
    "collapsed": true
   },
   "outputs": [],
   "source": [
    "def input_fn(df, params, mode):\n",
    "    # helper function to read the data from a file\n",
    "    def parse(row):\n",
    "\n",
    "        img = tf.read_file(row[\"filename\"])\n",
    "        img = tf.image.decode_jpeg(img, channels = 1)\n",
    "        img = tf.image.resize_images(img, params.img_shape)\n",
    "\n",
    "        row[\"image\"] = img\n",
    "        \n",
    "        return row\n",
    "\n",
    "\n",
    "    # create the dataset from numpy arrays\n",
    "    ds = tf.data.Dataset.from_tensor_slices(dict(\n",
    "        filename = df.filename.as_matrix(), \n",
    "        class_id = df.class_id.as_matrix(),\n",
    "    ))\n",
    "    # read the images\n",
    "    ds = ds.map(parse)\n",
    "    \n",
    "    # if training, shuffle, batch, and repeat for n epochs\n",
    "    if mode == tf.estimator.ModeKeys.TRAIN:\n",
    "        ds = ds.shuffle(buffer_size = params.buffer_size)\n",
    "        ds = ds.apply(tf.contrib.data.batch_and_drop_remainder(params.batch_size))\n",
    "        ds = ds.repeat(params.epochs)\n",
    "    else:\n",
    "        ds = ds.batch(params.batch_size)\n",
    "    \n",
    "    # use prefetching to optimize training speed by getting data concurrently\n",
    "    # while the gpu performs training\n",
    "    ds = ds.prefetch(1)\n",
    "\n",
    "    # get iterator and feature tensors\n",
    "    iterator = ds.make_one_shot_iterator()\n",
    "    features = iterator.get_next()\n",
    "\n",
    "    return features, None"
   ]
  },
  {
   "cell_type": "markdown",
   "metadata": {},
   "source": [
    "Before testing our input pipeline we have to shuffle and split the data properly into training and testing. We can use dataget for this purpose."
   ]
  },
  {
   "cell_type": "code",
   "execution_count": 4,
   "metadata": {
    "collapsed": true
   },
   "outputs": [],
   "source": [
    "df = dataset.df\n",
    "df = dg.shuffle(df)\n",
    "df_train, df_test = dg.split(df, 0.8)"
   ]
  },
  {
   "cell_type": "markdown",
   "metadata": {},
   "source": [
    "Now lets call our input function to get tensor operations that will iterate through our dataset."
   ]
  },
  {
   "cell_type": "code",
   "execution_count": 5,
   "metadata": {},
   "outputs": [
    {
     "name": "stdout",
     "output_type": "stream",
     "text": [
      "filename: Tensor(\"IteratorGetNext:1\", shape=(64,), dtype=string)\n",
      "class_id: Tensor(\"IteratorGetNext:0\", shape=(64,), dtype=int64)\n",
      "image: Tensor(\"IteratorGetNext:2\", shape=(64, 28, 28, 1), dtype=float32)\n"
     ]
    }
   ],
   "source": [
    "features, _ = input_fn(df_train, params, tf.estimator.ModeKeys.TRAIN)\n",
    "\n",
    "for name, tensor in features.items():\n",
    "    print(\"{}: {}\".format(name, tensor))"
   ]
  },
  {
   "cell_type": "markdown",
   "metadata": {},
   "source": [
    "Notice that they have a fixed batch size, but most importantly they are not placeholders! This is a little different from the common (naive?) way of feading data through `feed_dict` and you can do tons of optimizations.\n",
    "\n",
    "Now lets get a single batch of data by running our tensors. We will visualize the images using matplotlib."
   ]
  },
  {
   "cell_type": "code",
   "execution_count": 6,
   "metadata": {},
   "outputs": [
    {
     "name": "stderr",
     "output_type": "stream",
     "text": [
      "/home/dgromov/anaconda3/envs/dataget/lib/python3.6/site-packages/matplotlib/figure.py:418: UserWarning: matplotlib is currently using a non-GUI backend, so cannot show the figure\n",
      "  \"matplotlib is currently using a non-GUI backend, \"\n"
     ]
    },
    {
     "data": {
      "image/png": "[encoded data removed]",
      "text/plain": [
       "<matplotlib.figure.Figure at 0x7fae0432d748>"
      ]
     },
     "metadata": {},
     "output_type": "display_data"
    },
    {
     "data": {
      "image/png": "[encoded data removed]",
      "text/plain": [
       "<matplotlib.figure.Figure at 0x7fadffc70f60>"
      ]
     },
     "metadata": {},
     "output_type": "display_data"
    },
    {
     "data": {
      "image/png": "[encoded data removed]",
      "text/plain": [
       "<matplotlib.figure.Figure at 0x7fadfed64908>"
      ]
     },
     "metadata": {},
     "output_type": "display_data"
    },
    {
     "data": {
      "image/png": "[encoded data removed]",
      "text/plain": [
       "<matplotlib.figure.Figure at 0x7fae0c0482b0>"
      ]
     },
     "metadata": {},
     "output_type": "display_data"
    },
    {
     "data": {
      "image/png": "[encoded data removed]",
      "text/plain": [
       "<matplotlib.figure.Figure at 0x7fae0428f438>"
      ]
     },
     "metadata": {},
     "output_type": "display_data"
    },
    {
     "data": {
      "image/png": "[encoded data removed]",
      "text/plain": [
       "<matplotlib.figure.Figure at 0x7fae040b68d0>"
      ]
     },
     "metadata": {},
     "output_type": "display_data"
    },
    {
     "data": {
      "image/png": "[encoded data removed]",
      "text/plain": [
       "<matplotlib.figure.Figure at 0x7fadffe7a898>"
      ]
     },
     "metadata": {},
     "output_type": "display_data"
    },
    {
     "data": {
      "image/png": "[encoded data removed]",
      "text/plain": [
       "<matplotlib.figure.Figure at 0x7fadffc18860>"
      ]
     },
     "metadata": {},
     "output_type": "display_data"
    },
    {
     "data": {
      "image/png": "[encoded data removed]",
      "text/plain": [
       "<matplotlib.figure.Figure at 0x7fadff9dcd68>"
      ]
     },
     "metadata": {},
     "output_type": "display_data"
    },
    {
     "data": {
      "image/png": "[encoded data removed]",
      "text/plain": [
       "<matplotlib.figure.Figure at 0x7fadff7eec50>"
      ]
     },
     "metadata": {},
     "output_type": "display_data"
    },
    {
     "data": {
      "image/png": "[encoded data removed]",
      "text/plain": [
       "<matplotlib.figure.Figure at 0x7fadff542dd8>"
      ]
     },
     "metadata": {},
     "output_type": "display_data"
    },
    {
     "data": {
      "image/png": "[encoded data removed]",
      "text/plain": [
       "<matplotlib.figure.Figure at 0x7fadff3702b0>"
      ]
     },
     "metadata": {},
     "output_type": "display_data"
    }
   ],
   "source": [
    "image = features[\"image\"]\n",
    "class_id = features[\"class_id\"]\n",
    "    \n",
    "images, class_ids = sess.run([image, class_id])\n",
    "\n",
    "for tup in cz.partition(5, zip(images, class_ids)):\n",
    "\n",
    "    fig, axes = plt.subplots(1, 5, subplot_kw=dict())\n",
    "\n",
    "    for i, (img, class_id) in enumerate(tup):\n",
    "\n",
    "\n",
    "        img = np.squeeze(img).astype(np.uint8)\n",
    "\n",
    "        axes[i].imshow(img, cmap=\"gray\")\n",
    "        axes[i].title.set_text(class_id)\n",
    "        axes[i].get_yaxis().set_visible(False)\n",
    "        axes[i].get_xaxis().set_visible(False)\n",
    "\n",
    "    fig.show()\n",
    "\n",
    "plt.show()"
   ]
  },
  {
   "cell_type": "markdown",
   "metadata": {},
   "source": [
    "### Model Architecture\n",
    "The model architecture is arguably the most fun part of doing Deep Learning, also the part one less spends time coding. While it is not required by the Estimator API, its a good practice to split the code from the Neural Network architecture from the rest of the code and, if possible, make the architecture reusable. We get both of these benefits by using [sonnet](https://github.com/deepmind/sonnet) which is Deep Mind's library that helps you create reusable structures.\n",
    "\n",
    "More precisely  we will be creating a small [All Convolutional Neural Network](https://arxiv.org/abs/1412.6806) with the following structure:\n",
    "\n",
    "* Conv2D: 16 filters, kernel 4x4, stride 2, padding same, relu activation, batch normalization.\n",
    "* Conv2D: 32 filters, kernel 4x4, stride 2, padding same, relu activation, batch normalization.\n",
    "* Conv2D: 64 filters, kernel 3x3, stride 1, padding valid, relu activation, batch normalization.\n",
    "* Conv2D: 10 filters, kernel 3x3, stride 1, padding valid, relu activation.\n",
    "* Global Average Pooling\n",
    "* Softmax Activation\n",
    "\n",
    "#### Sonnet\n",
    "Using sonnet is easy, we just have to create a class that inherits from `sonnet.AbstractModule` and implement it `_build` method. `_build` takes an inputs object containing the inputs tensors, constructs the main graph of the neural network, and returns an output structure of tensors."
   ]
  },
  {
   "cell_type": "code",
   "execution_count": 7,
   "metadata": {
    "collapsed": true
   },
   "outputs": [],
   "source": [
    "class AllCNNN(snt.AbstractModule):\n",
    "    \n",
    "    def __init__(self, *args, **kwargs):\n",
    "        kwargs[\"name\"] = kwargs.get(\"name\", \"AllCNN\")\n",
    "        super(AllCNNN, self).__init__(*args, **kwargs)\n",
    "    \n",
    "    def _build(self, inputs):\n",
    "        \n",
    "        print(\"##########################\")\n",
    "        print(\"## AllCNN\")\n",
    "        print(\"##########################\")\n",
    "        \n",
    "        net = inputs[\"image\"]; print(net)\n",
    "        training = inputs[\"mode\"] == tf.estimator.ModeKeys.TRAIN\n",
    "        \n",
    "        net = ti.layers.conv2d_batch_norm(net, 16, [4, 4], strides = 2, activation = tf.nn.relu, \n",
    "                                          padding = \"same\", batch_norm = dict(training = training)); print(net)\n",
    "        \n",
    "        \n",
    "        net = ti.layers.conv2d_batch_norm(net, 32, [4, 4], strides = 2, activation = tf.nn.relu, \n",
    "                                          padding = \"same\", batch_norm = dict(training = training)); print(net)\n",
    "        \n",
    "        \n",
    "        net = ti.layers.conv2d_batch_norm(net, 64, [3, 3], strides = 1, activation = tf.nn.relu, \n",
    "                                          padding = \"valid\", batch_norm = dict(training = training)); print(net)\n",
    "        \n",
    "        \n",
    "        with tf.variable_scope(\"Conv2d\"):\n",
    "            net = tf.layers.conv2d(net, 10, [3, 3], strides = 1, activation = tf.nn.relu, \n",
    "                                   padding = \"valid\")\n",
    "            \n",
    "        print(net)\n",
    "        \n",
    "        \n",
    "        \n",
    "        # global average pooling\n",
    "        logits = net = tf.reduce_mean(net, axis = [1, 2]); print(net)\n",
    "        \n",
    "        # predictions\n",
    "        predictions = net = tf.nn.softmax(logits); print(net)\n",
    "    \n",
    "        print(\"\")\n",
    "        \n",
    "        return logits, predictions"
   ]
  },
  {
   "cell_type": "markdown",
   "metadata": {},
   "source": [
    "Just to verify our architecture is correct we will create an input tensors and construct neural network using our `AllCNN` sonnet module."
   ]
  },
  {
   "cell_type": "code",
   "execution_count": 8,
   "metadata": {},
   "outputs": [
    {
     "name": "stdout",
     "output_type": "stream",
     "text": [
      "##########################\n",
      "## AllCNN\n",
      "##########################\n",
      "Tensor(\"input_layer_1:0\", shape=(?, 28, 28, 1), dtype=float32)\n",
      "Tensor(\"AllCNN/Conv2dBatchNorm/Relu:0\", shape=(?, 14, 14, 16), dtype=float32)\n",
      "Tensor(\"AllCNN/Conv2dBatchNorm_1/Relu:0\", shape=(?, 7, 7, 32), dtype=float32)\n",
      "Tensor(\"AllCNN/Conv2dBatchNorm_2/Relu:0\", shape=(?, 5, 5, 64), dtype=float32)\n",
      "Tensor(\"AllCNN/Conv2d/conv2d/Relu:0\", shape=(?, 3, 3, 10), dtype=float32)\n",
      "Tensor(\"AllCNN/Mean:0\", shape=(?, 10), dtype=float32)\n",
      "Tensor(\"AllCNN/Softmax:0\", shape=(?, 10), dtype=float32)\n",
      "\n"
     ]
    }
   ],
   "source": [
    "inputs = dict(\n",
    "    image = tf.layers.Input(shape=(28, 28, 1)),\n",
    "    mode = tf.estimator.ModeKeys.TRAIN,\n",
    ")\n",
    "\n",
    "all_cnn = AllCNNN()\n",
    "logits, predictions = all_cnn(inputs)"
   ]
  },
  {
   "cell_type": "markdown",
   "metadata": {},
   "source": [
    "### The Model\n",
    "Finally we can create our last piece in the estimator API, the model function. This function takes in 4 arguments:\n",
    "* `features` tensor/structure from `ìnput_fn`\n",
    "* `labels` tensor from `ìnput_fn`\n",
    "* `mode` enum indicating the current mode (training, testing or predicting)\n",
    "* `params` dict with hyperparameters and other information we might want to pass\n",
    "\n",
    "The model function should return a `tf.estimator.EstimatorSpec` with information such as `predictions`, `loss` and `train_op`, depending on the `mode`. Our model function is going to execute the following steps:\n",
    "1. Create the network architecture to get the predictions.\n",
    "1. Use the predictions and labels to construct the loss.\n",
    "1. Use the loss and construct the traning operation. It will use the Adam Optimizer as our algorithm to perform Stochastic Gradient Descent."
   ]
  },
  {
   "cell_type": "code",
   "execution_count": 9,
   "metadata": {
    "collapsed": true
   },
   "outputs": [],
   "source": [
    "def model_fn(features, labels, mode, params):\n",
    "    \n",
    "    inputs = features\n",
    "    inputs[\"mode\"] = mode\n",
    "    \n",
    "    # create networks\n",
    "    all_cnn = AllCNNN()\n",
    "    \n",
    "    # predictions\n",
    "    logits, predictions = all_cnn(inputs)\n",
    "    \n",
    "    \n",
    "    if mode == tf.estimator.ModeKeys.PREDICT:\n",
    "        return tf.estimator.EstimatorSpec(\n",
    "            mode = mode,\n",
    "            predictions = dict(\n",
    "                classes = predictions,\n",
    "                image = inputs[\"image\"],\n",
    "            )\n",
    "        )\n",
    "    \n",
    "    \n",
    "    # loss\n",
    "    labels = features[\"class_id\"]\n",
    "    onehot_labels = tf.one_hot(labels, 10)\n",
    "    \n",
    "    loss = tf.losses.softmax_cross_entropy(logits = logits, onehot_labels = onehot_labels)\n",
    "    loss = tf.reduce_mean(loss)\n",
    "    \n",
    "    if mode == tf.estimator.ModeKeys.EVAL:\n",
    "        return tf.estimator.EstimatorSpec(\n",
    "            mode = mode,\n",
    "            predictions = predictions,\n",
    "            loss = loss,\n",
    "            eval_metric_ops = dict(\n",
    "                accuracy = tf.metrics.accuracy(\n",
    "                    labels = labels,\n",
    "                    predictions = tf.argmax(predictions, axis = 1)\n",
    "                )\n",
    "            )\n",
    "        )\n",
    "    \n",
    "    #update\n",
    "    with tf.control_dependencies(tf.get_collection(tf.GraphKeys.UPDATE_OPS)):\n",
    "        update = tf.train.AdamOptimizer(params[\"learning_rate\"]).minimize(loss, global_step = tf.train.get_global_step())\n",
    "        \n",
    "    \n",
    "    accuracy = tf.contrib.metrics.accuracy(\n",
    "        labels = labels,\n",
    "        predictions = tf.argmax(predictions, axis = 1)\n",
    "    )\n",
    "        \n",
    "    # metrics\n",
    "    tf.summary.scalar(\"accuracy\", accuracy)\n",
    "    \n",
    "    \n",
    "    return tf.estimator.EstimatorSpec(\n",
    "        mode = mode,\n",
    "        predictions = predictions,\n",
    "        loss = loss,\n",
    "        train_op = update,\n",
    "        training_hooks = [\n",
    "            tf.train.LoggingTensorHook(\n",
    "                dict(\n",
    "                    loss = loss, \n",
    "                    accuracy = accuracy\n",
    "                ),  \n",
    "                every_n_iter = 50\n",
    "            )\n",
    "        ],\n",
    "    )"
   ]
  },
  {
   "cell_type": "markdown",
   "metadata": {},
   "source": [
    "## Estimator\n",
    "Now that we have all of our functions creating the Estimator object is quite easy. We just pass it the `model_fn`, a directory were we want to store our model, the params object. Here we additionally pass a `RunConfig` object to control the frequency of checkpoints and summaries."
   ]
  },
  {
   "cell_type": "code",
   "execution_count": 10,
   "metadata": {},
   "outputs": [
    {
     "name": "stdout",
     "output_type": "stream",
     "text": [
      "INFO:tensorflow:Using config: {'_model_dir': 'models/all_cnn', '_tf_random_seed': None, '_save_summary_steps': 50, '_save_checkpoints_steps': 50, '_save_checkpoints_secs': None, '_session_config': None, '_keep_checkpoint_max': 5, '_keep_checkpoint_every_n_hours': 10000, '_log_step_count_steps': 100, '_service': None, '_cluster_spec': <tensorflow.python.training.server_lib.ClusterSpec object at 0x7fadfec43cf8>, '_task_type': 'worker', '_task_id': 0, '_master': '', '_is_chief': True, '_num_ps_replicas': 0, '_num_worker_replicas': 1}\n"
     ]
    }
   ],
   "source": [
    "estimator = tf.estimator.Estimator(\n",
    "    model_fn = model_fn,\n",
    "    model_dir = params.model_dir,\n",
    "    params = params,\n",
    "    config = tf.estimator.RunConfig(save_checkpoints_steps = params.checkpoint_steps, save_summary_steps = params.summary_steps)\n",
    ")"
   ]
  },
  {
   "cell_type": "markdown",
   "metadata": {},
   "source": [
    "The estimator object by itself doesn't do anything but it contains the `train`, `evaluate` and `predict` methods which will do all the hard work. \n",
    "\n",
    "#### Train\n",
    "The `train` method accepts a parameterless `input_fn`, since our `input_fn` has parameters, we will just create a parameterless lambda that return our `input_fn` applied to the corresponding training parameters capture by the *closure* of the labmda. Excecuting this method will infact train our network!"
   ]
  },
  {
   "cell_type": "code",
   "execution_count": 11,
   "metadata": {},
   "outputs": [
    {
     "name": "stdout",
     "output_type": "stream",
     "text": [
      "##########################\n",
      "## AllCNN\n",
      "##########################\n",
      "Tensor(\"IteratorGetNext:2\", shape=(64, 28, 28, 1), dtype=float32, device=/device:CPU:0)\n",
      "Tensor(\"AllCNN/Conv2dBatchNorm/Relu:0\", shape=(64, 14, 14, 16), dtype=float32)\n",
      "Tensor(\"AllCNN/Conv2dBatchNorm_1/Relu:0\", shape=(64, 7, 7, 32), dtype=float32)\n",
      "Tensor(\"AllCNN/Conv2dBatchNorm_2/Relu:0\", shape=(64, 5, 5, 64), dtype=float32)\n",
      "Tensor(\"AllCNN/Conv2d/conv2d/Relu:0\", shape=(64, 3, 3, 10), dtype=float32)\n",
      "Tensor(\"AllCNN/Mean:0\", shape=(64, 10), dtype=float32)\n",
      "Tensor(\"AllCNN/Softmax:0\", shape=(64, 10), dtype=float32)\n",
      "\n",
      "WARNING:tensorflow:From /home/dgromov/anaconda3/envs/dataget/lib/python3.6/site-packages/tensorflow/python/ops/losses/losses_impl.py:691: softmax_cross_entropy_with_logits (from tensorflow.python.ops.nn_ops) is deprecated and will be removed in a future version.\n",
      "Instructions for updating:\n",
      "\n",
      "Future major versions of TensorFlow will allow gradients to flow\n",
      "into the labels input on backprop by default.\n",
      "\n",
      "See tf.nn.softmax_cross_entropy_with_logits_v2.\n",
      "\n",
      "INFO:tensorflow:Create CheckpointSaverHook.\n",
      "INFO:tensorflow:Saving checkpoints for 1 into models/all_cnn/model.ckpt.\n",
      "INFO:tensorflow:loss = 2.4526062, step = 1\n",
      "INFO:tensorflow:loss = 2.4526062, accuracy = 0.046875\n",
      "INFO:tensorflow:Saving checkpoints for 51 into models/all_cnn/model.ckpt.\n",
      "INFO:tensorflow:loss = 0.7796682, accuracy = 0.84375 (1.366 sec)\n",
      "INFO:tensorflow:Saving checkpoints for 101 into models/all_cnn/model.ckpt.\n",
      "INFO:tensorflow:global_step/sec: 37.9499\n",
      "INFO:tensorflow:loss = 0.25427315, step = 101 (2.636 sec)\n",
      "INFO:tensorflow:loss = 0.25427315, accuracy = 0.953125 (1.270 sec)\n",
      "INFO:tensorflow:Saving checkpoints for 151 into models/all_cnn/model.ckpt.\n",
      "INFO:tensorflow:loss = 0.16422299, accuracy = 0.96875 (1.001 sec)\n",
      "INFO:tensorflow:Saving checkpoints for 201 into models/all_cnn/model.ckpt.\n",
      "INFO:tensorflow:global_step/sec: 42.2698\n",
      "INFO:tensorflow:loss = 0.14064308, step = 201 (2.366 sec)\n",
      "INFO:tensorflow:loss = 0.14064308, accuracy = 0.96875 (1.367 sec)\n",
      "INFO:tensorflow:Saving checkpoints for 251 into models/all_cnn/model.ckpt.\n",
      "INFO:tensorflow:loss = 0.11517979, accuracy = 0.953125 (1.103 sec)\n",
      "INFO:tensorflow:Saving checkpoints for 301 into models/all_cnn/model.ckpt.\n",
      "INFO:tensorflow:global_step/sec: 44.832\n",
      "INFO:tensorflow:loss = 0.11493569, step = 301 (2.233 sec)\n",
      "INFO:tensorflow:loss = 0.11493569, accuracy = 0.953125 (1.130 sec)\n",
      "INFO:tensorflow:Saving checkpoints for 351 into models/all_cnn/model.ckpt.\n",
      "INFO:tensorflow:loss = 0.073987246, accuracy = 0.984375 (1.080 sec)\n",
      "INFO:tensorflow:Saving checkpoints for 401 into models/all_cnn/model.ckpt.\n",
      "INFO:tensorflow:global_step/sec: 45.9836\n",
      "INFO:tensorflow:loss = 0.096635304, step = 401 (2.171 sec)\n",
      "INFO:tensorflow:loss = 0.096635304, accuracy = 0.96875 (1.091 sec)\n",
      "INFO:tensorflow:Saving checkpoints for 451 into models/all_cnn/model.ckpt.\n",
      "INFO:tensorflow:loss = 0.09634849, accuracy = 0.96875 (1.100 sec)\n",
      "INFO:tensorflow:Saving checkpoints for 501 into models/all_cnn/model.ckpt.\n",
      "INFO:tensorflow:global_step/sec: 46.0909\n",
      "INFO:tensorflow:loss = 0.04902187, step = 501 (2.171 sec)\n",
      "INFO:tensorflow:loss = 0.04902187, accuracy = 0.984375 (1.071 sec)\n",
      "INFO:tensorflow:Saving checkpoints for 551 into models/all_cnn/model.ckpt.\n",
      "INFO:tensorflow:loss = 0.13525437, accuracy = 0.953125 (1.445 sec)\n",
      "INFO:tensorflow:Saving checkpoints for 601 into models/all_cnn/model.ckpt.\n",
      "INFO:tensorflow:global_step/sec: 39.6319\n",
      "INFO:tensorflow:loss = 0.07855316, step = 601 (2.524 sec)\n",
      "INFO:tensorflow:loss = 0.07855316, accuracy = 0.953125 (1.079 sec)\n",
      "INFO:tensorflow:Saving checkpoints for 651 into models/all_cnn/model.ckpt.\n",
      "INFO:tensorflow:loss = 0.06512943, accuracy = 0.984375 (1.173 sec)\n",
      "INFO:tensorflow:Saving checkpoints for 701 into models/all_cnn/model.ckpt.\n",
      "INFO:tensorflow:global_step/sec: 42.0505\n",
      "INFO:tensorflow:loss = 0.06807985, step = 701 (2.382 sec)\n",
      "INFO:tensorflow:loss = 0.06807985, accuracy = 0.96875 (1.210 sec)\n",
      "INFO:tensorflow:Saving checkpoints for 751 into models/all_cnn/model.ckpt.\n",
      "INFO:tensorflow:loss = 0.0911521, accuracy = 0.96875 (1.311 sec)\n",
      "INFO:tensorflow:Saving checkpoints for 801 into models/all_cnn/model.ckpt.\n",
      "INFO:tensorflow:global_step/sec: 39.659\n",
      "INFO:tensorflow:loss = 0.09270826, step = 801 (2.517 sec)\n",
      "INFO:tensorflow:loss = 0.09270826, accuracy = 0.984375 (1.207 sec)\n",
      "INFO:tensorflow:Saving checkpoints for 851 into models/all_cnn/model.ckpt.\n",
      "INFO:tensorflow:loss = 0.073885515, accuracy = 0.984375 (1.096 sec)\n",
      "INFO:tensorflow:Saving checkpoints for 901 into models/all_cnn/model.ckpt.\n",
      "INFO:tensorflow:global_step/sec: 52.0464\n",
      "INFO:tensorflow:loss = 0.056073904, step = 901 (1.921 sec)\n",
      "INFO:tensorflow:loss = 0.056073904, accuracy = 0.96875 (0.825 sec)\n",
      "INFO:tensorflow:Saving checkpoints for 951 into models/all_cnn/model.ckpt.\n",
      "INFO:tensorflow:loss = 0.0642858, accuracy = 0.96875 (0.537 sec)\n",
      "INFO:tensorflow:Saving checkpoints for 1001 into models/all_cnn/model.ckpt.\n",
      "INFO:tensorflow:global_step/sec: 90.5354\n",
      "INFO:tensorflow:loss = 0.04666708, step = 1001 (1.103 sec)\n",
      "INFO:tensorflow:loss = 0.04666708, accuracy = 0.984375 (0.566 sec)\n",
      "INFO:tensorflow:Saving checkpoints for 1051 into models/all_cnn/model.ckpt.\n",
      "INFO:tensorflow:loss = 0.009677092, accuracy = 1.0 (0.654 sec)\n",
      "INFO:tensorflow:Saving checkpoints for 1101 into models/all_cnn/model.ckpt.\n",
      "INFO:tensorflow:global_step/sec: 82.3993\n",
      "INFO:tensorflow:loss = 0.019361295, step = 1101 (1.214 sec)\n",
      "INFO:tensorflow:loss = 0.019361295, accuracy = 1.0 (0.560 sec)\n",
      "INFO:tensorflow:Saving checkpoints for 1151 into models/all_cnn/model.ckpt.\n",
      "INFO:tensorflow:loss = 0.022128368, accuracy = 1.0 (0.579 sec)\n",
      "INFO:tensorflow:Saving checkpoints for 1201 into models/all_cnn/model.ckpt.\n",
      "INFO:tensorflow:global_step/sec: 87.638\n",
      "INFO:tensorflow:loss = 0.038316283, step = 1201 (1.141 sec)\n",
      "INFO:tensorflow:loss = 0.038316283, accuracy = 1.0 (0.563 sec)\n",
      "INFO:tensorflow:Saving checkpoints for 1251 into models/all_cnn/model.ckpt.\n",
      "INFO:tensorflow:loss = 0.076720566, accuracy = 0.96875 (0.558 sec)\n",
      "INFO:tensorflow:Saving checkpoints for 1301 into models/all_cnn/model.ckpt.\n",
      "INFO:tensorflow:global_step/sec: 90.6181\n",
      "INFO:tensorflow:loss = 0.028310642, step = 1301 (1.105 sec)\n",
      "INFO:tensorflow:loss = 0.028310642, accuracy = 0.984375 (0.545 sec)\n",
      "INFO:tensorflow:Saving checkpoints for 1351 into models/all_cnn/model.ckpt.\n",
      "INFO:tensorflow:loss = 0.00696042, accuracy = 1.0 (0.559 sec)\n",
      "INFO:tensorflow:Saving checkpoints for 1401 into models/all_cnn/model.ckpt.\n",
      "INFO:tensorflow:global_step/sec: 89.8641\n",
      "INFO:tensorflow:loss = 0.044404406, step = 1401 (1.112 sec)\n",
      "INFO:tensorflow:loss = 0.044404406, accuracy = 0.984375 (0.554 sec)\n",
      "INFO:tensorflow:Saving checkpoints for 1451 into models/all_cnn/model.ckpt.\n",
      "INFO:tensorflow:loss = 0.05347517, accuracy = 0.984375 (0.566 sec)\n",
      "INFO:tensorflow:Saving checkpoints for 1501 into models/all_cnn/model.ckpt.\n",
      "INFO:tensorflow:global_step/sec: 87.8825\n",
      "INFO:tensorflow:loss = 0.028136462, step = 1501 (1.137 sec)\n",
      "INFO:tensorflow:loss = 0.028136462, accuracy = 1.0 (0.572 sec)\n",
      "INFO:tensorflow:Saving checkpoints for 1551 into models/all_cnn/model.ckpt.\n",
      "INFO:tensorflow:loss = 0.020446125, accuracy = 1.0 (0.560 sec)\n",
      "INFO:tensorflow:Saving checkpoints for 1601 into models/all_cnn/model.ckpt.\n",
      "INFO:tensorflow:global_step/sec: 90.1453\n",
      "INFO:tensorflow:loss = 0.0069141537, step = 1601 (1.111 sec)\n",
      "INFO:tensorflow:loss = 0.0069141537, accuracy = 1.0 (0.549 sec)\n",
      "INFO:tensorflow:Saving checkpoints for 1651 into models/all_cnn/model.ckpt.\n",
      "INFO:tensorflow:loss = 0.23218915, accuracy = 0.90625 (0.558 sec)\n",
      "INFO:tensorflow:Saving checkpoints for 1701 into models/all_cnn/model.ckpt.\n",
      "INFO:tensorflow:global_step/sec: 89.6761\n",
      "INFO:tensorflow:loss = 0.06743936, step = 1701 (1.114 sec)\n",
      "INFO:tensorflow:loss = 0.06743936, accuracy = 0.984375 (0.557 sec)\n",
      "INFO:tensorflow:Saving checkpoints for 1751 into models/all_cnn/model.ckpt.\n",
      "INFO:tensorflow:loss = 0.008970867, accuracy = 1.0 (0.595 sec)\n",
      "INFO:tensorflow:Saving checkpoints for 1801 into models/all_cnn/model.ckpt.\n",
      "INFO:tensorflow:global_step/sec: 87.2631\n",
      "INFO:tensorflow:loss = 0.017349312, step = 1801 (1.148 sec)\n",
      "INFO:tensorflow:loss = 0.017349312, accuracy = 1.0 (0.552 sec)\n",
      "INFO:tensorflow:Saving checkpoints for 1851 into models/all_cnn/model.ckpt.\n"
     ]
    },
    {
     "name": "stdout",
     "output_type": "stream",
     "text": [
      "INFO:tensorflow:loss = 0.1624168, accuracy = 0.953125 (0.537 sec)\n",
      "INFO:tensorflow:Saving checkpoints for 1901 into models/all_cnn/model.ckpt.\n",
      "INFO:tensorflow:global_step/sec: 93.094\n",
      "INFO:tensorflow:loss = 0.045908332, step = 1901 (1.073 sec)\n",
      "INFO:tensorflow:loss = 0.045908332, accuracy = 0.96875 (0.536 sec)\n",
      "INFO:tensorflow:Saving checkpoints for 1951 into models/all_cnn/model.ckpt.\n",
      "INFO:tensorflow:loss = 0.049016185, accuracy = 0.984375 (0.531 sec)\n",
      "INFO:tensorflow:Saving checkpoints for 2001 into models/all_cnn/model.ckpt.\n",
      "INFO:tensorflow:global_step/sec: 93.9458\n",
      "INFO:tensorflow:loss = 0.026349647, step = 2001 (1.065 sec)\n",
      "INFO:tensorflow:loss = 0.026349647, accuracy = 1.0 (0.534 sec)\n",
      "INFO:tensorflow:Saving checkpoints for 2051 into models/all_cnn/model.ckpt.\n",
      "INFO:tensorflow:loss = 0.0417905, accuracy = 0.984375 (0.554 sec)\n",
      "INFO:tensorflow:Saving checkpoints for 2101 into models/all_cnn/model.ckpt.\n",
      "INFO:tensorflow:global_step/sec: 88.8746\n",
      "INFO:tensorflow:loss = 0.02898502, step = 2101 (1.124 sec)\n",
      "INFO:tensorflow:loss = 0.02898502, accuracy = 0.984375 (0.570 sec)\n",
      "INFO:tensorflow:Saving checkpoints for 2151 into models/all_cnn/model.ckpt.\n",
      "INFO:tensorflow:loss = 0.015640637, accuracy = 1.0 (0.570 sec)\n",
      "INFO:tensorflow:Saving checkpoints for 2201 into models/all_cnn/model.ckpt.\n",
      "INFO:tensorflow:global_step/sec: 89.2203\n",
      "INFO:tensorflow:loss = 0.019416524, step = 2201 (1.122 sec)\n",
      "INFO:tensorflow:loss = 0.019416524, accuracy = 0.984375 (0.551 sec)\n",
      "INFO:tensorflow:Saving checkpoints for 2251 into models/all_cnn/model.ckpt.\n",
      "INFO:tensorflow:loss = 0.010935483, accuracy = 1.0 (0.574 sec)\n",
      "INFO:tensorflow:Saving checkpoints for 2301 into models/all_cnn/model.ckpt.\n",
      "INFO:tensorflow:global_step/sec: 88.6347\n",
      "INFO:tensorflow:loss = 0.0260845, step = 2301 (1.129 sec)\n",
      "INFO:tensorflow:loss = 0.0260845, accuracy = 1.0 (0.555 sec)\n",
      "INFO:tensorflow:Saving checkpoints for 2351 into models/all_cnn/model.ckpt.\n",
      "INFO:tensorflow:loss = 0.00711739, accuracy = 1.0 (0.554 sec)\n",
      "INFO:tensorflow:Saving checkpoints for 2401 into models/all_cnn/model.ckpt.\n",
      "INFO:tensorflow:global_step/sec: 90.4054\n",
      "INFO:tensorflow:loss = 0.029508622, step = 2401 (1.105 sec)\n",
      "INFO:tensorflow:loss = 0.029508622, accuracy = 0.984375 (0.551 sec)\n",
      "INFO:tensorflow:Saving checkpoints for 2451 into models/all_cnn/model.ckpt.\n",
      "INFO:tensorflow:loss = 0.008271039, accuracy = 1.0 (0.535 sec)\n",
      "INFO:tensorflow:Saving checkpoints for 2501 into models/all_cnn/model.ckpt.\n",
      "INFO:tensorflow:global_step/sec: 92.6665\n",
      "INFO:tensorflow:loss = 0.038354572, step = 2501 (1.078 sec)\n",
      "INFO:tensorflow:loss = 0.038354572, accuracy = 0.984375 (0.543 sec)\n",
      "INFO:tensorflow:Saving checkpoints for 2551 into models/all_cnn/model.ckpt.\n",
      "INFO:tensorflow:loss = 0.012663347, accuracy = 1.0 (0.546 sec)\n",
      "INFO:tensorflow:Saving checkpoints for 2601 into models/all_cnn/model.ckpt.\n",
      "INFO:tensorflow:global_step/sec: 91.7395\n",
      "INFO:tensorflow:loss = 0.024715984, step = 2601 (1.091 sec)\n",
      "INFO:tensorflow:loss = 0.024715984, accuracy = 0.984375 (0.545 sec)\n",
      "INFO:tensorflow:Saving checkpoints for 2651 into models/all_cnn/model.ckpt.\n",
      "INFO:tensorflow:loss = 0.12889603, accuracy = 0.953125 (0.590 sec)\n",
      "INFO:tensorflow:Saving checkpoints for 2701 into models/all_cnn/model.ckpt.\n",
      "INFO:tensorflow:global_step/sec: 85.8396\n",
      "INFO:tensorflow:loss = 0.013855418, step = 2701 (1.164 sec)\n",
      "INFO:tensorflow:loss = 0.013855418, accuracy = 1.0 (0.574 sec)\n",
      "INFO:tensorflow:Saving checkpoints for 2751 into models/all_cnn/model.ckpt.\n",
      "INFO:tensorflow:loss = 0.005559271, accuracy = 1.0 (0.572 sec)\n",
      "INFO:tensorflow:Saving checkpoints for 2801 into models/all_cnn/model.ckpt.\n",
      "INFO:tensorflow:global_step/sec: 87.6566\n",
      "INFO:tensorflow:loss = 0.038812574, step = 2801 (1.142 sec)\n",
      "INFO:tensorflow:loss = 0.038812574, accuracy = 0.984375 (0.570 sec)\n",
      "INFO:tensorflow:Saving checkpoints for 2851 into models/all_cnn/model.ckpt.\n",
      "INFO:tensorflow:loss = 0.018924862, accuracy = 1.0 (0.587 sec)\n",
      "INFO:tensorflow:Saving checkpoints for 2901 into models/all_cnn/model.ckpt.\n",
      "INFO:tensorflow:global_step/sec: 84.2982\n",
      "INFO:tensorflow:loss = 0.037970513, step = 2901 (1.185 sec)\n",
      "INFO:tensorflow:loss = 0.037970513, accuracy = 0.984375 (0.597 sec)\n",
      "INFO:tensorflow:Saving checkpoints for 2951 into models/all_cnn/model.ckpt.\n",
      "INFO:tensorflow:loss = 0.0027766586, accuracy = 1.0 (0.553 sec)\n",
      "INFO:tensorflow:Saving checkpoints for 3001 into models/all_cnn/model.ckpt.\n",
      "INFO:tensorflow:global_step/sec: 92.2997\n",
      "INFO:tensorflow:loss = 0.060376238, step = 3001 (1.083 sec)\n",
      "INFO:tensorflow:loss = 0.060376238, accuracy = 0.96875 (0.530 sec)\n",
      "INFO:tensorflow:Saving checkpoints for 3051 into models/all_cnn/model.ckpt.\n",
      "INFO:tensorflow:loss = 0.07266862, accuracy = 0.96875 (0.540 sec)\n",
      "INFO:tensorflow:Saving checkpoints for 3101 into models/all_cnn/model.ckpt.\n",
      "INFO:tensorflow:global_step/sec: 92.6846\n",
      "INFO:tensorflow:loss = 0.013790636, step = 3101 (1.079 sec)\n",
      "INFO:tensorflow:loss = 0.013790636, accuracy = 1.0 (0.539 sec)\n",
      "INFO:tensorflow:Saving checkpoints for 3151 into models/all_cnn/model.ckpt.\n",
      "INFO:tensorflow:loss = 0.045973714, accuracy = 0.984375 (0.556 sec)\n",
      "INFO:tensorflow:Saving checkpoints for 3201 into models/all_cnn/model.ckpt.\n",
      "INFO:tensorflow:global_step/sec: 89.6645\n",
      "INFO:tensorflow:loss = 0.0186729, step = 3201 (1.117 sec)\n",
      "INFO:tensorflow:loss = 0.0186729, accuracy = 0.984375 (0.561 sec)\n",
      "INFO:tensorflow:Saving checkpoints for 3251 into models/all_cnn/model.ckpt.\n",
      "INFO:tensorflow:loss = 0.009014785, accuracy = 1.0 (0.539 sec)\n",
      "INFO:tensorflow:Saving checkpoints for 3301 into models/all_cnn/model.ckpt.\n",
      "INFO:tensorflow:global_step/sec: 93.2565\n",
      "INFO:tensorflow:loss = 0.018674683, step = 3301 (1.071 sec)\n",
      "INFO:tensorflow:loss = 0.018674683, accuracy = 1.0 (0.533 sec)\n",
      "INFO:tensorflow:Saving checkpoints for 3351 into models/all_cnn/model.ckpt.\n",
      "INFO:tensorflow:loss = 0.016512718, accuracy = 1.0 (0.545 sec)\n",
      "INFO:tensorflow:Saving checkpoints for 3401 into models/all_cnn/model.ckpt.\n",
      "INFO:tensorflow:global_step/sec: 90.4586\n",
      "INFO:tensorflow:loss = 0.12481731, step = 3401 (1.105 sec)\n",
      "INFO:tensorflow:loss = 0.12481731, accuracy = 0.96875 (0.559 sec)\n",
      "INFO:tensorflow:Saving checkpoints for 3451 into models/all_cnn/model.ckpt.\n",
      "INFO:tensorflow:loss = 0.0022823007, accuracy = 1.0 (0.554 sec)\n",
      "INFO:tensorflow:Saving checkpoints for 3501 into models/all_cnn/model.ckpt.\n",
      "INFO:tensorflow:global_step/sec: 88.4943\n",
      "INFO:tensorflow:loss = 0.07079506, step = 3501 (1.130 sec)\n",
      "INFO:tensorflow:loss = 0.07079506, accuracy = 0.96875 (0.576 sec)\n",
      "INFO:tensorflow:Saving checkpoints for 3551 into models/all_cnn/model.ckpt.\n",
      "INFO:tensorflow:loss = 0.043245237, accuracy = 0.984375 (0.546 sec)\n",
      "INFO:tensorflow:Saving checkpoints for 3601 into models/all_cnn/model.ckpt.\n",
      "INFO:tensorflow:global_step/sec: 89.3867\n",
      "INFO:tensorflow:loss = 0.013894042, step = 3601 (1.121 sec)\n",
      "INFO:tensorflow:loss = 0.013894042, accuracy = 1.0 (0.576 sec)\n",
      "INFO:tensorflow:Saving checkpoints for 3651 into models/all_cnn/model.ckpt.\n",
      "INFO:tensorflow:loss = 0.0032727364, accuracy = 1.0 (0.560 sec)\n",
      "INFO:tensorflow:Saving checkpoints for 3701 into models/all_cnn/model.ckpt.\n",
      "INFO:tensorflow:global_step/sec: 85.6302\n",
      "INFO:tensorflow:loss = 0.045585867, step = 3701 (1.166 sec)\n",
      "INFO:tensorflow:loss = 0.045585867, accuracy = 0.984375 (0.606 sec)\n",
      "INFO:tensorflow:Saving checkpoints for 3751 into models/all_cnn/model.ckpt.\n",
      "INFO:tensorflow:loss = 0.0028854324, accuracy = 1.0 (0.539 sec)\n",
      "INFO:tensorflow:Saving checkpoints for 3801 into models/all_cnn/model.ckpt.\n",
      "INFO:tensorflow:global_step/sec: 91.1771\n",
      "INFO:tensorflow:loss = 0.018775064, step = 3801 (1.097 sec)\n",
      "INFO:tensorflow:loss = 0.018775064, accuracy = 0.984375 (0.559 sec)\n",
      "INFO:tensorflow:Saving checkpoints for 3851 into models/all_cnn/model.ckpt.\n",
      "INFO:tensorflow:loss = 0.0057146973, accuracy = 1.0 (0.557 sec)\n",
      "INFO:tensorflow:Saving checkpoints for 3901 into models/all_cnn/model.ckpt.\n",
      "INFO:tensorflow:global_step/sec: 90.1886\n",
      "INFO:tensorflow:loss = 0.0041966066, step = 3901 (1.109 sec)\n",
      "INFO:tensorflow:loss = 0.0041966066, accuracy = 1.0 (0.551 sec)\n",
      "INFO:tensorflow:Saving checkpoints for 3951 into models/all_cnn/model.ckpt.\n",
      "INFO:tensorflow:loss = 0.013734393, accuracy = 1.0 (0.538 sec)\n",
      "INFO:tensorflow:Saving checkpoints for 4001 into models/all_cnn/model.ckpt.\n",
      "INFO:tensorflow:global_step/sec: 93.0437\n"
     ]
    },
    {
     "name": "stdout",
     "output_type": "stream",
     "text": [
      "INFO:tensorflow:loss = 0.0067719277, step = 4001 (1.076 sec)\n",
      "INFO:tensorflow:loss = 0.0067719277, accuracy = 1.0 (0.538 sec)\n",
      "INFO:tensorflow:Saving checkpoints for 4051 into models/all_cnn/model.ckpt.\n",
      "INFO:tensorflow:loss = 0.02054449, accuracy = 0.984375 (0.579 sec)\n",
      "INFO:tensorflow:Saving checkpoints for 4101 into models/all_cnn/model.ckpt.\n",
      "INFO:tensorflow:global_step/sec: 88.1391\n",
      "INFO:tensorflow:loss = 0.0023073438, step = 4101 (1.133 sec)\n",
      "INFO:tensorflow:loss = 0.0023073438, accuracy = 1.0 (0.554 sec)\n",
      "INFO:tensorflow:Saving checkpoints for 4151 into models/all_cnn/model.ckpt.\n",
      "INFO:tensorflow:loss = 0.06619475, accuracy = 0.96875 (0.538 sec)\n",
      "INFO:tensorflow:Saving checkpoints for 4201 into models/all_cnn/model.ckpt.\n",
      "INFO:tensorflow:global_step/sec: 91.6605\n",
      "INFO:tensorflow:loss = 0.0045939675, step = 4201 (1.093 sec)\n",
      "INFO:tensorflow:loss = 0.0045939675, accuracy = 1.0 (0.556 sec)\n",
      "INFO:tensorflow:Saving checkpoints for 4251 into models/all_cnn/model.ckpt.\n",
      "INFO:tensorflow:loss = 0.0012275383, accuracy = 1.0 (0.527 sec)\n",
      "INFO:tensorflow:Saving checkpoints for 4301 into models/all_cnn/model.ckpt.\n",
      "INFO:tensorflow:global_step/sec: 91.6754\n",
      "INFO:tensorflow:loss = 0.04653888, step = 4301 (1.089 sec)\n",
      "INFO:tensorflow:loss = 0.04653888, accuracy = 0.984375 (0.561 sec)\n",
      "INFO:tensorflow:Saving checkpoints for 4351 into models/all_cnn/model.ckpt.\n",
      "INFO:tensorflow:loss = 0.007904353, accuracy = 1.0 (0.549 sec)\n",
      "INFO:tensorflow:Saving checkpoints for 4401 into models/all_cnn/model.ckpt.\n",
      "INFO:tensorflow:global_step/sec: 88.6843\n",
      "INFO:tensorflow:loss = 0.008336841, step = 4401 (1.129 sec)\n",
      "INFO:tensorflow:loss = 0.008336841, accuracy = 1.0 (0.581 sec)\n",
      "INFO:tensorflow:Saving checkpoints for 4451 into models/all_cnn/model.ckpt.\n",
      "INFO:tensorflow:loss = 0.025044873, accuracy = 1.0 (0.539 sec)\n",
      "INFO:tensorflow:Saving checkpoints for 4501 into models/all_cnn/model.ckpt.\n",
      "INFO:tensorflow:global_step/sec: 91.8337\n",
      "INFO:tensorflow:loss = 0.0028241547, step = 4501 (1.088 sec)\n",
      "INFO:tensorflow:loss = 0.0028241547, accuracy = 1.0 (0.548 sec)\n",
      "INFO:tensorflow:Saving checkpoints for 4551 into models/all_cnn/model.ckpt.\n",
      "INFO:tensorflow:loss = 0.007052684, accuracy = 1.0 (0.552 sec)\n",
      "INFO:tensorflow:Saving checkpoints for 4601 into models/all_cnn/model.ckpt.\n",
      "INFO:tensorflow:global_step/sec: 90.8435\n",
      "INFO:tensorflow:loss = 0.0040982068, step = 4601 (1.101 sec)\n",
      "INFO:tensorflow:loss = 0.0040982068, accuracy = 1.0 (0.549 sec)\n",
      "INFO:tensorflow:Saving checkpoints for 4651 into models/all_cnn/model.ckpt.\n",
      "INFO:tensorflow:loss = 0.009119993, accuracy = 1.0 (0.540 sec)\n",
      "INFO:tensorflow:Saving checkpoints for 4701 into models/all_cnn/model.ckpt.\n",
      "INFO:tensorflow:global_step/sec: 92.3364\n",
      "INFO:tensorflow:loss = 0.0070118667, step = 4701 (1.082 sec)\n",
      "INFO:tensorflow:loss = 0.0070118667, accuracy = 1.0 (0.542 sec)\n",
      "INFO:tensorflow:Saving checkpoints for 4751 into models/all_cnn/model.ckpt.\n",
      "INFO:tensorflow:loss = 0.00793184, accuracy = 1.0 (0.606 sec)\n",
      "INFO:tensorflow:Saving checkpoints for 4801 into models/all_cnn/model.ckpt.\n",
      "INFO:tensorflow:global_step/sec: 87.4061\n",
      "INFO:tensorflow:loss = 0.01156925, step = 4801 (1.145 sec)\n",
      "INFO:tensorflow:loss = 0.01156925, accuracy = 1.0 (0.539 sec)\n",
      "INFO:tensorflow:Saving checkpoints for 4851 into models/all_cnn/model.ckpt.\n",
      "INFO:tensorflow:loss = 0.0082595525, accuracy = 1.0 (0.524 sec)\n",
      "INFO:tensorflow:Saving checkpoints for 4901 into models/all_cnn/model.ckpt.\n",
      "INFO:tensorflow:global_step/sec: 94.3271\n",
      "INFO:tensorflow:loss = 0.0026719486, step = 4901 (1.061 sec)\n",
      "INFO:tensorflow:loss = 0.0026719486, accuracy = 1.0 (0.537 sec)\n",
      "INFO:tensorflow:Saving checkpoints for 4951 into models/all_cnn/model.ckpt.\n",
      "INFO:tensorflow:loss = 0.010139709, accuracy = 1.0 (0.549 sec)\n",
      "INFO:tensorflow:Saving checkpoints for 5001 into models/all_cnn/model.ckpt.\n",
      "INFO:tensorflow:global_step/sec: 91.4076\n",
      "INFO:tensorflow:loss = 0.0011075347, step = 5001 (1.093 sec)\n",
      "INFO:tensorflow:loss = 0.0011075347, accuracy = 1.0 (0.544 sec)\n",
      "INFO:tensorflow:Saving checkpoints for 5051 into models/all_cnn/model.ckpt.\n",
      "INFO:tensorflow:loss = 0.0017249668, accuracy = 1.0 (0.555 sec)\n",
      "INFO:tensorflow:Saving checkpoints for 5101 into models/all_cnn/model.ckpt.\n",
      "INFO:tensorflow:global_step/sec: 90.4177\n",
      "INFO:tensorflow:loss = 0.002406164, step = 5101 (1.106 sec)\n",
      "INFO:tensorflow:loss = 0.002406164, accuracy = 1.0 (0.551 sec)\n",
      "INFO:tensorflow:Saving checkpoints for 5151 into models/all_cnn/model.ckpt.\n",
      "INFO:tensorflow:loss = 0.015350325, accuracy = 1.0 (0.541 sec)\n",
      "INFO:tensorflow:Saving checkpoints for 5201 into models/all_cnn/model.ckpt.\n",
      "INFO:tensorflow:global_step/sec: 90.4827\n",
      "INFO:tensorflow:loss = 0.033812016, step = 5201 (1.106 sec)\n",
      "INFO:tensorflow:loss = 0.033812016, accuracy = 1.0 (0.566 sec)\n",
      "INFO:tensorflow:Saving checkpoints for 5251 into models/all_cnn/model.ckpt.\n",
      "INFO:tensorflow:loss = 0.010554363, accuracy = 1.0 (0.599 sec)\n",
      "INFO:tensorflow:Saving checkpoints for 5301 into models/all_cnn/model.ckpt.\n",
      "INFO:tensorflow:global_step/sec: 86.6714\n",
      "INFO:tensorflow:loss = 0.00264554, step = 5301 (1.152 sec)\n",
      "INFO:tensorflow:loss = 0.00264554, accuracy = 1.0 (0.552 sec)\n",
      "INFO:tensorflow:Saving checkpoints for 5351 into models/all_cnn/model.ckpt.\n",
      "INFO:tensorflow:loss = 0.009778784, accuracy = 1.0 (0.530 sec)\n",
      "INFO:tensorflow:Saving checkpoints for 5401 into models/all_cnn/model.ckpt.\n",
      "INFO:tensorflow:global_step/sec: 93.7955\n",
      "INFO:tensorflow:loss = 0.07950553, step = 5401 (1.066 sec)\n",
      "INFO:tensorflow:loss = 0.07950553, accuracy = 0.96875 (0.537 sec)\n",
      "INFO:tensorflow:Saving checkpoints for 5451 into models/all_cnn/model.ckpt.\n",
      "INFO:tensorflow:loss = 0.0149978865, accuracy = 1.0 (0.560 sec)\n",
      "INFO:tensorflow:Saving checkpoints for 5501 into models/all_cnn/model.ckpt.\n",
      "INFO:tensorflow:global_step/sec: 83.7085\n",
      "INFO:tensorflow:loss = 0.0065815384, step = 5501 (1.195 sec)\n",
      "INFO:tensorflow:loss = 0.0065815384, accuracy = 1.0 (0.635 sec)\n",
      "INFO:tensorflow:Saving checkpoints for 5551 into models/all_cnn/model.ckpt.\n",
      "INFO:tensorflow:loss = 0.01119512, accuracy = 1.0 (0.543 sec)\n",
      "INFO:tensorflow:Saving checkpoints for 5601 into models/all_cnn/model.ckpt.\n",
      "INFO:tensorflow:global_step/sec: 92.9703\n",
      "INFO:tensorflow:loss = 0.012732204, step = 5601 (1.076 sec)\n",
      "INFO:tensorflow:loss = 0.012732204, accuracy = 1.0 (0.533 sec)\n",
      "INFO:tensorflow:Saving checkpoints for 5651 into models/all_cnn/model.ckpt.\n",
      "INFO:tensorflow:loss = 0.007085185, accuracy = 1.0 (0.515 sec)\n",
      "INFO:tensorflow:Saving checkpoints for 5701 into models/all_cnn/model.ckpt.\n",
      "INFO:tensorflow:global_step/sec: 92.0118\n",
      "INFO:tensorflow:loss = 0.008475077, step = 5701 (1.089 sec)\n",
      "INFO:tensorflow:loss = 0.008475077, accuracy = 1.0 (0.575 sec)\n",
      "INFO:tensorflow:Saving checkpoints for 5751 into models/all_cnn/model.ckpt.\n",
      "INFO:tensorflow:loss = 0.016119871, accuracy = 1.0 (0.503 sec)\n",
      "INFO:tensorflow:Saving checkpoints for 5801 into models/all_cnn/model.ckpt.\n",
      "INFO:tensorflow:global_step/sec: 95.345\n",
      "INFO:tensorflow:loss = 0.017610699, step = 5801 (1.048 sec)\n",
      "INFO:tensorflow:loss = 0.017610699, accuracy = 0.984375 (0.543 sec)\n",
      "INFO:tensorflow:Saving checkpoints for 5851 into models/all_cnn/model.ckpt.\n",
      "INFO:tensorflow:loss = 0.0006818383, accuracy = 1.0 (0.531 sec)\n",
      "INFO:tensorflow:Saving checkpoints for 5901 into models/all_cnn/model.ckpt.\n",
      "INFO:tensorflow:global_step/sec: 98.0629\n",
      "INFO:tensorflow:loss = 0.0015082197, step = 5901 (1.019 sec)\n",
      "INFO:tensorflow:loss = 0.0015082197, accuracy = 1.0 (0.488 sec)\n",
      "INFO:tensorflow:Saving checkpoints for 5951 into models/all_cnn/model.ckpt.\n",
      "INFO:tensorflow:loss = 0.009108628, accuracy = 1.0 (0.529 sec)\n",
      "INFO:tensorflow:Saving checkpoints for 6001 into models/all_cnn/model.ckpt.\n",
      "INFO:tensorflow:global_step/sec: 97.6121\n",
      "INFO:tensorflow:loss = 0.0011869094, step = 6001 (1.024 sec)\n",
      "INFO:tensorflow:loss = 0.0011869094, accuracy = 1.0 (0.495 sec)\n",
      "INFO:tensorflow:Saving checkpoints for 6051 into models/all_cnn/model.ckpt.\n",
      "INFO:tensorflow:loss = 0.036213595, accuracy = 0.984375 (0.505 sec)\n",
      "INFO:tensorflow:Saving checkpoints for 6101 into models/all_cnn/model.ckpt.\n",
      "INFO:tensorflow:global_step/sec: 89.8603\n",
      "INFO:tensorflow:loss = 0.019362798, step = 6101 (1.115 sec)\n",
      "INFO:tensorflow:loss = 0.019362798, accuracy = 0.984375 (0.610 sec)\n",
      "INFO:tensorflow:Saving checkpoints for 6151 into models/all_cnn/model.ckpt.\n"
     ]
    },
    {
     "name": "stdout",
     "output_type": "stream",
     "text": [
      "INFO:tensorflow:loss = 0.0011857369, accuracy = 1.0 (0.714 sec)\n",
      "INFO:tensorflow:Saving checkpoints for 6201 into models/all_cnn/model.ckpt.\n",
      "INFO:tensorflow:global_step/sec: 80.3693\n",
      "INFO:tensorflow:loss = 0.018313617, step = 6201 (1.242 sec)\n",
      "INFO:tensorflow:loss = 0.018313617, accuracy = 1.0 (0.528 sec)\n",
      "INFO:tensorflow:Saving checkpoints for 6251 into models/all_cnn/model.ckpt.\n",
      "INFO:tensorflow:loss = 0.0011201478, accuracy = 1.0 (0.658 sec)\n",
      "INFO:tensorflow:Saving checkpoints for 6301 into models/all_cnn/model.ckpt.\n",
      "INFO:tensorflow:global_step/sec: 72.2693\n",
      "INFO:tensorflow:loss = 0.02787575, step = 6301 (1.384 sec)\n",
      "INFO:tensorflow:loss = 0.02787575, accuracy = 0.984375 (0.726 sec)\n",
      "INFO:tensorflow:Saving checkpoints for 6351 into models/all_cnn/model.ckpt.\n",
      "INFO:tensorflow:loss = 0.019553604, accuracy = 0.984375 (0.562 sec)\n",
      "INFO:tensorflow:Saving checkpoints for 6401 into models/all_cnn/model.ckpt.\n",
      "INFO:tensorflow:global_step/sec: 85.3447\n",
      "INFO:tensorflow:loss = 0.014626471, step = 6401 (1.172 sec)\n",
      "INFO:tensorflow:loss = 0.014626471, accuracy = 0.984375 (0.610 sec)\n",
      "INFO:tensorflow:Saving checkpoints for 6451 into models/all_cnn/model.ckpt.\n",
      "INFO:tensorflow:loss = 0.0067569474, accuracy = 1.0 (0.525 sec)\n",
      "INFO:tensorflow:Saving checkpoints for 6501 into models/all_cnn/model.ckpt.\n",
      "INFO:tensorflow:global_step/sec: 86.9598\n",
      "INFO:tensorflow:loss = 0.002770078, step = 6501 (1.151 sec)\n",
      "INFO:tensorflow:loss = 0.002770078, accuracy = 1.0 (0.626 sec)\n",
      "INFO:tensorflow:Saving checkpoints for 6551 into models/all_cnn/model.ckpt.\n",
      "INFO:tensorflow:loss = 0.013760144, accuracy = 0.984375 (0.612 sec)\n",
      "INFO:tensorflow:Saving checkpoints for 6601 into models/all_cnn/model.ckpt.\n",
      "INFO:tensorflow:global_step/sec: 89.7442\n",
      "INFO:tensorflow:loss = 0.00055351516, step = 6601 (1.113 sec)\n",
      "INFO:tensorflow:loss = 0.00055351516, accuracy = 1.0 (0.501 sec)\n",
      "INFO:tensorflow:Saving checkpoints for 6651 into models/all_cnn/model.ckpt.\n",
      "INFO:tensorflow:loss = 0.006465246, accuracy = 1.0 (0.608 sec)\n",
      "INFO:tensorflow:Saving checkpoints for 6701 into models/all_cnn/model.ckpt.\n",
      "INFO:tensorflow:global_step/sec: 91.2986\n",
      "INFO:tensorflow:loss = 0.0032338665, step = 6701 (1.095 sec)\n",
      "INFO:tensorflow:loss = 0.0032338665, accuracy = 1.0 (0.488 sec)\n",
      "INFO:tensorflow:Saving checkpoints for 6751 into models/all_cnn/model.ckpt.\n",
      "INFO:tensorflow:loss = 0.03643356, accuracy = 0.984375 (0.482 sec)\n",
      "INFO:tensorflow:Saving checkpoints for 6801 into models/all_cnn/model.ckpt.\n",
      "INFO:tensorflow:global_step/sec: 101.875\n",
      "INFO:tensorflow:loss = 0.031032607, step = 6801 (0.982 sec)\n",
      "INFO:tensorflow:loss = 0.031032607, accuracy = 0.984375 (0.499 sec)\n",
      "INFO:tensorflow:Saving checkpoints for 6851 into models/all_cnn/model.ckpt.\n",
      "INFO:tensorflow:loss = 0.011964431, accuracy = 1.0 (0.513 sec)\n",
      "INFO:tensorflow:Saving checkpoints for 6901 into models/all_cnn/model.ckpt.\n",
      "INFO:tensorflow:global_step/sec: 100.242\n",
      "INFO:tensorflow:loss = 0.0055466015, step = 6901 (0.999 sec)\n",
      "INFO:tensorflow:loss = 0.0055466015, accuracy = 1.0 (0.485 sec)\n",
      "INFO:tensorflow:Saving checkpoints for 6951 into models/all_cnn/model.ckpt.\n",
      "INFO:tensorflow:loss = 0.027164612, accuracy = 1.0 (0.484 sec)\n",
      "INFO:tensorflow:Saving checkpoints for 7001 into models/all_cnn/model.ckpt.\n",
      "INFO:tensorflow:global_step/sec: 100.563\n",
      "INFO:tensorflow:loss = 0.11357698, step = 7001 (0.993 sec)\n",
      "INFO:tensorflow:loss = 0.11357698, accuracy = 0.96875 (0.509 sec)\n",
      "INFO:tensorflow:Saving checkpoints for 7051 into models/all_cnn/model.ckpt.\n",
      "INFO:tensorflow:loss = 0.12223336, accuracy = 0.96875 (0.483 sec)\n",
      "INFO:tensorflow:Saving checkpoints for 7101 into models/all_cnn/model.ckpt.\n",
      "INFO:tensorflow:global_step/sec: 103.381\n",
      "INFO:tensorflow:loss = 0.0072934316, step = 7101 (0.967 sec)\n",
      "INFO:tensorflow:loss = 0.0072934316, accuracy = 1.0 (0.484 sec)\n",
      "INFO:tensorflow:Saving checkpoints for 7151 into models/all_cnn/model.ckpt.\n",
      "INFO:tensorflow:loss = 0.002699288, accuracy = 1.0 (0.491 sec)\n",
      "INFO:tensorflow:Saving checkpoints for 7201 into models/all_cnn/model.ckpt.\n",
      "INFO:tensorflow:global_step/sec: 102.857\n",
      "INFO:tensorflow:loss = 0.0040887194, step = 7201 (0.972 sec)\n",
      "INFO:tensorflow:loss = 0.0040887194, accuracy = 1.0 (0.481 sec)\n",
      "INFO:tensorflow:Saving checkpoints for 7251 into models/all_cnn/model.ckpt.\n",
      "INFO:tensorflow:loss = 0.015426759, accuracy = 1.0 (0.502 sec)\n",
      "INFO:tensorflow:Saving checkpoints for 7301 into models/all_cnn/model.ckpt.\n",
      "INFO:tensorflow:global_step/sec: 102.593\n",
      "INFO:tensorflow:loss = 0.001974315, step = 7301 (0.975 sec)\n",
      "INFO:tensorflow:loss = 0.001974315, accuracy = 1.0 (0.474 sec)\n",
      "INFO:tensorflow:Saving checkpoints for 7351 into models/all_cnn/model.ckpt.\n",
      "INFO:tensorflow:loss = 0.014591025, accuracy = 1.0 (0.476 sec)\n",
      "INFO:tensorflow:Saving checkpoints for 7401 into models/all_cnn/model.ckpt.\n",
      "INFO:tensorflow:global_step/sec: 104.615\n",
      "INFO:tensorflow:loss = 0.0005762137, step = 7401 (0.955 sec)\n",
      "INFO:tensorflow:loss = 0.0005762137, accuracy = 1.0 (0.479 sec)\n",
      "INFO:tensorflow:Saving checkpoints for 7451 into models/all_cnn/model.ckpt.\n",
      "INFO:tensorflow:loss = 0.049229085, accuracy = 0.96875 (0.480 sec)\n",
      "INFO:tensorflow:Saving checkpoints for 7501 into models/all_cnn/model.ckpt.\n",
      "INFO:tensorflow:global_step/sec: 105.041\n",
      "INFO:tensorflow:loss = 0.006847321, step = 7501 (0.952 sec)\n",
      "INFO:tensorflow:loss = 0.006847321, accuracy = 1.0 (0.472 sec)\n",
      "INFO:tensorflow:Saving checkpoints for 7551 into models/all_cnn/model.ckpt.\n",
      "INFO:tensorflow:loss = 0.0011324625, accuracy = 1.0 (0.475 sec)\n",
      "INFO:tensorflow:Saving checkpoints for 7601 into models/all_cnn/model.ckpt.\n",
      "INFO:tensorflow:global_step/sec: 104.785\n",
      "INFO:tensorflow:loss = 0.00072773424, step = 7601 (0.955 sec)\n",
      "INFO:tensorflow:loss = 0.00072773424, accuracy = 1.0 (0.481 sec)\n",
      "INFO:tensorflow:Saving checkpoints for 7651 into models/all_cnn/model.ckpt.\n",
      "INFO:tensorflow:loss = 0.029179942, accuracy = 0.984375 (0.490 sec)\n",
      "INFO:tensorflow:Saving checkpoints for 7701 into models/all_cnn/model.ckpt.\n",
      "INFO:tensorflow:global_step/sec: 102.703\n",
      "INFO:tensorflow:loss = 0.006307164, step = 7701 (0.973 sec)\n",
      "INFO:tensorflow:loss = 0.006307164, accuracy = 1.0 (0.483 sec)\n",
      "INFO:tensorflow:Saving checkpoints for 7751 into models/all_cnn/model.ckpt.\n",
      "INFO:tensorflow:loss = 0.0032983555, accuracy = 1.0 (0.474 sec)\n",
      "INFO:tensorflow:Saving checkpoints for 7801 into models/all_cnn/model.ckpt.\n",
      "INFO:tensorflow:global_step/sec: 101.749\n",
      "INFO:tensorflow:loss = 0.024891451, step = 7801 (0.984 sec)\n",
      "INFO:tensorflow:loss = 0.024891451, accuracy = 0.984375 (0.510 sec)\n",
      "INFO:tensorflow:Saving checkpoints for 7851 into models/all_cnn/model.ckpt.\n",
      "INFO:tensorflow:loss = 0.008084049, accuracy = 1.0 (0.485 sec)\n",
      "INFO:tensorflow:Saving checkpoints for 7901 into models/all_cnn/model.ckpt.\n",
      "INFO:tensorflow:global_step/sec: 100.474\n",
      "INFO:tensorflow:loss = 0.0028836352, step = 7901 (0.994 sec)\n",
      "INFO:tensorflow:loss = 0.0028836352, accuracy = 1.0 (0.510 sec)\n",
      "INFO:tensorflow:Saving checkpoints for 7951 into models/all_cnn/model.ckpt.\n",
      "INFO:tensorflow:loss = 0.00076438487, accuracy = 1.0 (0.478 sec)\n",
      "INFO:tensorflow:Saving checkpoints for 8001 into models/all_cnn/model.ckpt.\n",
      "INFO:tensorflow:global_step/sec: 104.924\n",
      "INFO:tensorflow:loss = 0.007331811, step = 8001 (0.954 sec)\n",
      "INFO:tensorflow:loss = 0.007331811, accuracy = 1.0 (0.477 sec)\n",
      "INFO:tensorflow:Saving checkpoints for 8051 into models/all_cnn/model.ckpt.\n",
      "INFO:tensorflow:loss = 0.055482358, accuracy = 0.96875 (0.482 sec)\n",
      "INFO:tensorflow:Saving checkpoints for 8101 into models/all_cnn/model.ckpt.\n",
      "INFO:tensorflow:global_step/sec: 103.026\n",
      "INFO:tensorflow:loss = 0.008231779, step = 8101 (0.969 sec)\n",
      "INFO:tensorflow:loss = 0.008231779, accuracy = 1.0 (0.489 sec)\n",
      "INFO:tensorflow:Saving checkpoints for 8151 into models/all_cnn/model.ckpt.\n",
      "INFO:tensorflow:loss = 0.0062595815, accuracy = 1.0 (0.485 sec)\n",
      "INFO:tensorflow:Saving checkpoints for 8201 into models/all_cnn/model.ckpt.\n",
      "INFO:tensorflow:global_step/sec: 103.824\n",
      "INFO:tensorflow:loss = 0.019573439, step = 8201 (0.964 sec)\n",
      "INFO:tensorflow:loss = 0.019573439, accuracy = 0.984375 (0.477 sec)\n",
      "INFO:tensorflow:Saving checkpoints for 8251 into models/all_cnn/model.ckpt.\n",
      "INFO:tensorflow:loss = 0.0008556979, accuracy = 1.0 (0.479 sec)\n",
      "INFO:tensorflow:Saving checkpoints for 8301 into models/all_cnn/model.ckpt.\n",
      "INFO:tensorflow:global_step/sec: 103.91\n"
     ]
    },
    {
     "name": "stdout",
     "output_type": "stream",
     "text": [
      "INFO:tensorflow:loss = 0.010645915, step = 8301 (0.962 sec)\n",
      "INFO:tensorflow:loss = 0.010645915, accuracy = 1.0 (0.483 sec)\n",
      "INFO:tensorflow:Saving checkpoints for 8351 into models/all_cnn/model.ckpt.\n",
      "INFO:tensorflow:loss = 0.0016153442, accuracy = 1.0 (0.513 sec)\n",
      "INFO:tensorflow:Saving checkpoints for 8401 into models/all_cnn/model.ckpt.\n",
      "INFO:tensorflow:global_step/sec: 101.572\n",
      "INFO:tensorflow:loss = 0.0018117947, step = 8401 (0.984 sec)\n",
      "INFO:tensorflow:loss = 0.0018117947, accuracy = 1.0 (0.472 sec)\n",
      "INFO:tensorflow:Saving checkpoints for 8451 into models/all_cnn/model.ckpt.\n",
      "INFO:tensorflow:loss = 0.011064295, accuracy = 1.0 (0.471 sec)\n",
      "INFO:tensorflow:Saving checkpoints for 8501 into models/all_cnn/model.ckpt.\n",
      "INFO:tensorflow:global_step/sec: 105.755\n",
      "INFO:tensorflow:loss = 0.00024682266, step = 8501 (0.946 sec)\n",
      "INFO:tensorflow:loss = 0.00024682266, accuracy = 1.0 (0.475 sec)\n",
      "INFO:tensorflow:Saving checkpoints for 8551 into models/all_cnn/model.ckpt.\n",
      "INFO:tensorflow:loss = 0.012303624, accuracy = 1.0 (0.472 sec)\n",
      "INFO:tensorflow:Saving checkpoints for 8601 into models/all_cnn/model.ckpt.\n",
      "INFO:tensorflow:global_step/sec: 105.287\n",
      "INFO:tensorflow:loss = 0.002673537, step = 8601 (0.950 sec)\n",
      "INFO:tensorflow:loss = 0.002673537, accuracy = 1.0 (0.477 sec)\n",
      "INFO:tensorflow:Saving checkpoints for 8651 into models/all_cnn/model.ckpt.\n",
      "INFO:tensorflow:loss = 0.0016735542, accuracy = 1.0 (0.477 sec)\n",
      "INFO:tensorflow:Saving checkpoints for 8701 into models/all_cnn/model.ckpt.\n",
      "INFO:tensorflow:global_step/sec: 105.008\n",
      "INFO:tensorflow:loss = 0.006637502, step = 8701 (0.952 sec)\n",
      "INFO:tensorflow:loss = 0.006637502, accuracy = 1.0 (0.475 sec)\n",
      "INFO:tensorflow:Saving checkpoints for 8750 into models/all_cnn/model.ckpt.\n",
      "INFO:tensorflow:Loss for final step: 0.0012462845.\n"
     ]
    },
    {
     "data": {
      "text/plain": [
       "<tensorflow.python.estimator.estimator.Estimator at 0x7fadfec437b8>"
      ]
     },
     "execution_count": 11,
     "metadata": {},
     "output_type": "execute_result"
    }
   ],
   "source": [
    "estimator.train(\n",
    "    input_fn = lambda: input_fn(\n",
    "        df_train, \n",
    "        params,\n",
    "        tf.estimator.ModeKeys.TRAIN,\n",
    "    )\n",
    ")"
   ]
  },
  {
   "cell_type": "markdown",
   "metadata": {},
   "source": [
    "#### Evaluate\n",
    "To get some metrics about our models performance we will just use the `evaluate` method which also accepts a parameterless `input_fn`, we will also give it a lambda but this time we will pass the test dataset and change the mode to `EVAL`.\n",
    "\n",
    "`evaluate` will return the computed values of `eval_metric_ops` we gave to the `EstimatorSpec` in the `EVAL` model. "
   ]
  },
  {
   "cell_type": "code",
   "execution_count": 12,
   "metadata": {},
   "outputs": [
    {
     "name": "stdout",
     "output_type": "stream",
     "text": [
      "##########################\n",
      "## AllCNN\n",
      "##########################\n",
      "Tensor(\"IteratorGetNext:2\", shape=(?, 28, 28, 1), dtype=float32, device=/device:CPU:0)\n",
      "Tensor(\"AllCNN/Conv2dBatchNorm/Relu:0\", shape=(?, 14, 14, 16), dtype=float32)\n",
      "Tensor(\"AllCNN/Conv2dBatchNorm_1/Relu:0\", shape=(?, 7, 7, 32), dtype=float32)\n",
      "Tensor(\"AllCNN/Conv2dBatchNorm_2/Relu:0\", shape=(?, 5, 5, 64), dtype=float32)\n",
      "Tensor(\"AllCNN/Conv2d/conv2d/Relu:0\", shape=(?, 3, 3, 10), dtype=float32)\n",
      "Tensor(\"AllCNN/Mean:0\", shape=(?, 10), dtype=float32)\n",
      "Tensor(\"AllCNN/Softmax:0\", shape=(?, 10), dtype=float32)\n",
      "\n",
      "INFO:tensorflow:Starting evaluation at 2018-02-20-19:18:42\n",
      "INFO:tensorflow:Restoring parameters from models/all_cnn/model.ckpt-8750\n",
      "INFO:tensorflow:Finished evaluation at 2018-02-20-19:18:46\n",
      "INFO:tensorflow:Saving dict for global step 8750: accuracy = 0.98878574, global_step = 8750, loss = 0.04044732\n"
     ]
    },
    {
     "data": {
      "text/plain": [
       "{'accuracy': 0.98878574, 'global_step': 8750, 'loss': 0.04044732}"
      ]
     },
     "execution_count": 12,
     "metadata": {},
     "output_type": "execute_result"
    }
   ],
   "source": [
    "metrics = estimator.evaluate(\n",
    "    input_fn = lambda: input_fn(\n",
    "        df_test, \n",
    "        params,\n",
    "        tf.estimator.ModeKeys.EVAL,\n",
    "    )\n",
    ")\n",
    "\n",
    "metrics"
   ]
  },
  {
   "cell_type": "markdown",
   "metadata": {},
   "source": [
    "#### Predict\n",
    "Similar to the previous methods, `predict` take the `input_fn` function but returns an iterator of the predictions for us to evaluate one by one. Firt we will just create the iterator"
   ]
  },
  {
   "cell_type": "code",
   "execution_count": 13,
   "metadata": {
    "collapsed": true
   },
   "outputs": [],
   "source": [
    "iterator = estimator.predict(\n",
    "    input_fn = lambda: input_fn(\n",
    "        df_test, \n",
    "        params,\n",
    "        tf.estimator.ModeKeys.PREDICT,\n",
    "    )\n",
    ")"
   ]
  },
  {
   "cell_type": "markdown",
   "metadata": {},
   "source": [
    "and to end this tutorial we will perform inference some images from the test set and visualize the results! The number on top of the image is the predicted class (which should usually match), you can repeatedly run this cell to get different results."
   ]
  },
  {
   "cell_type": "code",
   "execution_count": 14,
   "metadata": {},
   "outputs": [
    {
     "name": "stdout",
     "output_type": "stream",
     "text": [
      "##########################\n",
      "## AllCNN\n",
      "##########################\n",
      "Tensor(\"IteratorGetNext:2\", shape=(?, 28, 28, 1), dtype=float32, device=/device:CPU:0)\n",
      "Tensor(\"AllCNN/Conv2dBatchNorm/Relu:0\", shape=(?, 14, 14, 16), dtype=float32)\n",
      "Tensor(\"AllCNN/Conv2dBatchNorm_1/Relu:0\", shape=(?, 7, 7, 32), dtype=float32)\n",
      "Tensor(\"AllCNN/Conv2dBatchNorm_2/Relu:0\", shape=(?, 5, 5, 64), dtype=float32)\n",
      "Tensor(\"AllCNN/Conv2d/conv2d/Relu:0\", shape=(?, 3, 3, 10), dtype=float32)\n",
      "Tensor(\"AllCNN/Mean:0\", shape=(?, 10), dtype=float32)\n",
      "Tensor(\"AllCNN/Softmax:0\", shape=(?, 10), dtype=float32)\n",
      "\n",
      "INFO:tensorflow:Restoring parameters from models/all_cnn/model.ckpt-8750\n"
     ]
    },
    {
     "data": {
      "image/png": "[encoded data removed]",
      "text/plain": [
       "<matplotlib.figure.Figure at 0x7fadfc1b2780>"
      ]
     },
     "metadata": {},
     "output_type": "display_data"
    }
   ],
   "source": [
    "predictions = next(iterator)\n",
    "\n",
    "img = predictions[\"image\"]\n",
    "class_id = np.argmax(predictions[\"classes\"])\n",
    "\n",
    "ax = plt.axes()\n",
    "\n",
    "plt.imshow(img[:, :, 0], cmap=\"gray\")\n",
    "\n",
    "ax.title.set_text(class_id)\n",
    "ax.get_yaxis().set_visible(False)\n",
    "ax.get_xaxis().set_visible(False)\n",
    "\n",
    "plt.show()"
   ]
  },
  {
   "cell_type": "code",
   "execution_count": null,
   "metadata": {
    "collapsed": true
   },
   "outputs": [],
   "source": []
  }
 ],
 "metadata": {
  "kernelspec": {
   "display_name": "Python 3",
   "language": "python",
   "name": "python3"
  },
  "language_info": {
   "codemirror_mode": {
    "name": "ipython",
    "version": 3
   },
   "file_extension": ".py",
   "mimetype": "text/x-python",
   "name": "python",
   "nbconvert_exporter": "python",
   "pygments_lexer": "ipython3",
   "version": "3.6.3"
  }
 },
 "nbformat": 4,
 "nbformat_minor": 2
}
