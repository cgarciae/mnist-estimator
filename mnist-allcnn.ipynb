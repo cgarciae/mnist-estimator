{
 "cells": [
  {
   "cell_type": "code",
   "execution_count": 1,
   "metadata": {
    "collapsed": true
   },
   "outputs": [],
   "source": [
    "from dataget import data\n",
    "import tfinterface as ti\n",
    "import sonnet as snt\n",
    "import tensorflow as tf\n",
    "import numpy as np\n",
    "from matplotlib import pyplot as plt\n",
    "import cytoolz as cz\n",
    "from dicto import dicto\n",
    "\n",
    "sess = tf.InteractiveSession()"
   ]
  },
  {
   "cell_type": "markdown",
   "metadata": {},
   "source": [
    "## Dataget\n",
    "To download and import the data we will use dataget here but you can import the mnist however you want, there are various ways to import the mnist like using keras sample datasets. The first time you run this code `dataget` will download, extract, and transform the `MNIST` to jpg images; any subsequent calls use the cached data. "
   ]
  },
  {
   "cell_type": "code",
   "execution_count": 2,
   "metadata": {
    "collapsed": true
   },
   "outputs": [
    {
     "data": {
      "text/plain": [
       "Index([u'class_id', u'filename'], dtype='object')"
      ]
     },
     "execution_count": 2,
     "metadata": {},
     "output_type": "execute_result"
    }
   ],
   "source": [
    "dataset = data(\"mnist\").get()\n",
    "\n",
    "dataset.training_set.df.columns"
   ]
  },
  {
   "cell_type": "markdown",
   "metadata": {},
   "source": [
    "The `.get` method returns a `Dataset` object which has a `training_set` and `test_set` `SubSet` properties, these subsets include varios methods for loading the images, getting random batches, etc. However, each subset by default include a `.df` property which the columns filename (full path to the actual image) and class_id (number show in the image), although you sometimes wan't a generator of (image, label) batches, we will make TensorFlow do the IO for us so just having the filenames is perfect."
   ]
  },
  {
   "cell_type": "markdown",
   "metadata": {},
   "source": [
    "## Estimator API, input_fn & Dataset API\n",
    " "
   ]
  },
  {
   "cell_type": "code",
   "execution_count": 3,
   "metadata": {},
   "outputs": [],
   "source": [
    "def input_fn(df, img_shape = [28, 28], embeddings_shape = [1, 1, 100], epochs = 10, batch_size = 64, buffer_size = 500):\n",
    "\n",
    "    def parse(filename, class_id):\n",
    "\n",
    "        img = tf.read_file(filename)\n",
    "        img = tf.image.decode_jpeg(img, channels = 1)\n",
    "        img = tf.image.resize_images(img, img_shape)\n",
    "\n",
    "        return img, class_id\n",
    "\n",
    "\n",
    "    # ds\n",
    "    ds = tf.data.Dataset.from_tensor_slices((df.filename.as_matrix(), df.class_id.as_matrix()))\n",
    "    ds = ds.map(parse)\n",
    "    ds = ds.shuffle(buffer_size = buffer_size)\n",
    "    ds = ds.apply(tf.contrib.data.batch_and_drop_remainder(batch_size))\n",
    "    ds = ds.repeat(epochs)\n",
    "\n",
    "    # get iterator\n",
    "    iterator = ds.make_one_shot_iterator()\n",
    "    image, class_id = iterator.get_next()\n",
    "\n",
    "    return dict(image = image, class_id = class_id), None"
   ]
  },
  {
   "cell_type": "code",
   "execution_count": 4,
   "metadata": {},
   "outputs": [
    {
     "name": "stdout",
     "output_type": "stream",
     "text": [
      "{'class_id': <tf.Tensor 'IteratorGetNext:1' shape=(20,) dtype=int64>, 'image': <tf.Tensor 'IteratorGetNext:0' shape=(20, 28, 28, 1) dtype=float32>}\n"
     ]
    },
    {
     "name": "stderr",
     "output_type": "stream",
     "text": [
      "/home/cristian/anaconda2/lib/python2.7/site-packages/matplotlib/figure.py:403: UserWarning: matplotlib is currently using a non-GUI backend, so cannot show the figure\n",
      "  \"matplotlib is currently using a non-GUI backend, \"\n"
     ]
    },
    {
     "data": {
      "image/png": "[encoded data removed]",
      "text/plain": [
       "<matplotlib.figure.Figure at 0x7f9180965890>"
      ]
     },
     "metadata": {},
     "output_type": "display_data"
    },
    {
     "data": {
      "image/png": "[encoded data removed]",
      "text/plain": [
       "<matplotlib.figure.Figure at 0x7f917b7ded90>"
      ]
     },
     "metadata": {},
     "output_type": "display_data"
    },
    {
     "data": {
      "image/png": "[encoded data removed]",
      "text/plain": [
       "<matplotlib.figure.Figure at 0x7f917b79c8d0>"
      ]
     },
     "metadata": {},
     "output_type": "display_data"
    },
    {
     "data": {
      "image/png": "[encoded data removed]",
      "text/plain": [
       "<matplotlib.figure.Figure at 0x7f917b6b5cd0>"
      ]
     },
     "metadata": {},
     "output_type": "display_data"
    }
   ],
   "source": [
    "features, _ = input_fn(dataset.training_set.df, batch_size=20)\n",
    "\n",
    "image = features[\"image\"]\n",
    "class_id = features[\"class_id\"]\n",
    "\n",
    "print(features)\n",
    "    \n",
    "images, class_ids = sess.run([image, class_id])\n",
    "\n",
    "for tup in cz.partition(5, zip(images, class_ids)):\n",
    "\n",
    "    fig, axes = plt.subplots(1, 5, subplot_kw=dict())\n",
    "\n",
    "    for i, (img, class_id) in enumerate(tup):\n",
    "\n",
    "\n",
    "        img = np.squeeze(img).astype(np.uint8)\n",
    "\n",
    "        axes[i].imshow(img, cmap=\"gray\")\n",
    "        axes[i].title.set_text(class_id)\n",
    "        axes[i].get_yaxis().set_visible(False)\n",
    "        axes[i].get_xaxis().set_visible(False)\n",
    "\n",
    "    fig.show()\n",
    "\n",
    "plt.show()"
   ]
  },
  {
   "cell_type": "code",
   "execution_count": 5,
   "metadata": {},
   "outputs": [],
   "source": [
    "class AllCNNN(snt.AbstractModule):\n",
    "    \n",
    "    def __init__(self, *args, **kwargs):\n",
    "        kwargs[\"name\"] = kwargs.get(\"name\", \"AllCNN\")\n",
    "        super(AllCNNN, self).__init__(*args, **kwargs)\n",
    "    \n",
    "    def _build(self, inputs):\n",
    "        \n",
    "        print(\"##########################\")\n",
    "        print(\"## AllCNN\")\n",
    "        print(\"##########################\")\n",
    "        \n",
    "        net = inputs[\"image\"]; print(net)\n",
    "        training = inputs[\"mode\"] == tf.estimator.ModeKeys.TRAIN\n",
    "        \n",
    "        net = ti.layers.conv2d_batch_norm(net, 16, [4, 4], strides = 2, activation = tf.nn.relu, \n",
    "                                          padding = \"same\", batch_norm = dict(training = training)); print(net)\n",
    "        \n",
    "        \n",
    "        net = ti.layers.conv2d_batch_norm(net, 32, [4, 4], strides = 2, activation = tf.nn.relu, \n",
    "                                          padding = \"same\", batch_norm = dict(training = training)); print(net)\n",
    "        \n",
    "        \n",
    "        net = ti.layers.conv2d_batch_norm(net, 64, [3, 3], strides = 1, activation = tf.nn.relu, \n",
    "                                          padding = \"valid\", batch_norm = dict(training = training)); print(net)\n",
    "        \n",
    "        \n",
    "        net = tf.layers.conv2d(net, 10, [3, 3], strides = 1, activation = tf.nn.relu,\n",
    "                                          padding = \"valid\"); print(net)\n",
    "        \n",
    "        \n",
    "        \n",
    "        # global average pooling\n",
    "        logits = net = tf.reduce_mean(net, axis = [1, 2]); print(net)\n",
    "        \n",
    "        # predictions\n",
    "        predictions = net = tf.nn.softmax(logits); print(net)\n",
    "    \n",
    "        print(\"\")\n",
    "        \n",
    "        return logits, predictions"
   ]
  },
  {
   "cell_type": "code",
   "execution_count": 6,
   "metadata": {},
   "outputs": [
    {
     "name": "stdout",
     "output_type": "stream",
     "text": [
      "##########################\n",
      "## AllCNN\n",
      "##########################\n",
      "Tensor(\"input_layer_1:0\", shape=(?, 28, 28, 1), dtype=float32)\n",
      "Tensor(\"AllCNN/Conv2dBatchNorm/Relu:0\", shape=(?, 14, 14, 16), dtype=float32)\n",
      "Tensor(\"AllCNN/Conv2dBatchNorm_1/Relu:0\", shape=(?, 7, 7, 32), dtype=float32)\n",
      "Tensor(\"AllCNN/Conv2dBatchNorm_2/Relu:0\", shape=(?, 5, 5, 64), dtype=float32)\n",
      "Tensor(\"AllCNN/conv2d/Relu:0\", shape=(?, 3, 3, 10), dtype=float32)\n",
      "Tensor(\"AllCNN/Mean:0\", shape=(?, 10), dtype=float32)\n",
      "Tensor(\"AllCNN/Softmax:0\", shape=(?, 10), dtype=float32)\n",
      "\n"
     ]
    }
   ],
   "source": [
    "inputs = dict(\n",
    "    image = tf.layers.Input(shape=(28, 28, 1)),\n",
    "    mode = tf.estimator.ModeKeys.TRAIN,\n",
    ")\n",
    "\n",
    "all_cnn = AllCNNN()\n",
    "logits, predictions = all_cnn(inputs)"
   ]
  },
  {
   "cell_type": "code",
   "execution_count": 7,
   "metadata": {
    "collapsed": true
   },
   "outputs": [],
   "source": [
    "def model_fn(features, labels, mode, params):\n",
    "    \n",
    "    inputs = features\n",
    "    inputs[\"mode\"] = mode\n",
    "    \n",
    "    # create networks\n",
    "    all_cnn = AllCNNN()\n",
    "    \n",
    "    # predictions\n",
    "    logits, predictions = all_cnn(inputs)\n",
    "    \n",
    "    \n",
    "    if mode == tf.estimator.ModeKeys.PREDICT:\n",
    "        return tf.estimator.EstimatorSpec(\n",
    "            mode = mode,\n",
    "            predictions = dict(\n",
    "                classes = predictions,\n",
    "                image = inputs[\"image\"],\n",
    "            )\n",
    "        )\n",
    "    \n",
    "    \n",
    "    # loss\n",
    "    labels = features[\"class_id\"]\n",
    "    onehot_labels = tf.one_hot(labels, 10)\n",
    "    \n",
    "    loss = tf.losses.softmax_cross_entropy(logits = logits, onehot_labels = onehot_labels)\n",
    "    loss = tf.reduce_mean(loss)\n",
    "    \n",
    "    if mode == tf.estimator.ModeKeys.EVAL:\n",
    "        return tf.estimator.EstimatorSpec(\n",
    "            mode = mode,\n",
    "            predictions = predictions,\n",
    "            loss = loss,\n",
    "            eval_metric_ops = dict(\n",
    "                accuracy = tf.metrics.accuracy(\n",
    "                    labels = labels,\n",
    "                    predictions = tf.argmax(predictions, axis = 1)\n",
    "                )\n",
    "            )\n",
    "        )\n",
    "    \n",
    "    #update\n",
    "    with tf.control_dependencies(tf.get_collection(tf.GraphKeys.UPDATE_OPS)):\n",
    "        update = tf.train.AdamOptimizer(params[\"learning_rate\"]).minimize(loss, global_step = tf.train.get_global_step())\n",
    "        \n",
    "    \n",
    "    accuracy = tf.contrib.metrics.accuracy(\n",
    "        labels = labels,\n",
    "        predictions = tf.argmax(predictions, axis = 1)\n",
    "    )\n",
    "        \n",
    "    # metrics\n",
    "    tf.summary.scalar(\"accuracy\", accuracy)\n",
    "    \n",
    "    \n",
    "    return tf.estimator.EstimatorSpec(\n",
    "        mode = mode,\n",
    "        predictions = predictions,\n",
    "        loss = loss,\n",
    "        train_op = update,\n",
    "        training_hooks = [\n",
    "            tf.train.LoggingTensorHook(\n",
    "                dict(\n",
    "                    loss = loss, \n",
    "                    accuracy = accuracy\n",
    "                ),  \n",
    "                every_n_iter = 50\n",
    "            )\n",
    "        ],\n",
    "    )"
   ]
  },
  {
   "cell_type": "code",
   "execution_count": 8,
   "metadata": {},
   "outputs": [
    {
     "name": "stdout",
     "output_type": "stream",
     "text": [
      "INFO:tensorflow:Using config: {'_save_checkpoints_secs': None, '_session_config': None, '_keep_checkpoint_max': 5, '_task_type': 'worker', '_is_chief': True, '_cluster_spec': <tensorflow.python.training.server_lib.ClusterSpec object at 0x7f91ec53cc10>, '_save_checkpoints_steps': 50, '_keep_checkpoint_every_n_hours': 10000, '_service': None, '_num_ps_replicas': 0, '_tf_random_seed': None, '_master': '', '_num_worker_replicas': 1, '_task_id': 0, '_log_step_count_steps': 100, '_model_dir': 'models/all_cnn2', '_save_summary_steps': 50}\n"
     ]
    }
   ],
   "source": [
    "params = dicto.load_(\"parameters.yml\")\n",
    "\n",
    "estimator = tf.estimator.Estimator(\n",
    "    model_fn = model_fn,\n",
    "    model_dir = params.model_dir,\n",
    "    params = params,\n",
    "    config = tf.estimator.RunConfig(save_checkpoints_steps = params.checkpoint_steps, save_summary_steps = params.summary_steps)\n",
    ")"
   ]
  },
  {
   "cell_type": "code",
   "execution_count": 11,
   "metadata": {},
   "outputs": [
    {
     "name": "stdout",
     "output_type": "stream",
     "text": [
      "##########################\n",
      "## AllCNN\n",
      "##########################\n",
      "Tensor(\"IteratorGetNext:0\", shape=(64, 28, 28, 1), dtype=float32, device=/device:CPU:0)\n",
      "Tensor(\"AllCNN/Conv2dBatchNorm/Relu:0\", shape=(64, 14, 14, 16), dtype=float32)\n",
      "Tensor(\"AllCNN/Conv2dBatchNorm_1/Relu:0\", shape=(64, 7, 7, 32), dtype=float32)\n",
      "Tensor(\"AllCNN/Conv2dBatchNorm_2/Relu:0\", shape=(64, 5, 5, 64), dtype=float32)\n",
      "Tensor(\"AllCNN/conv2d/Relu:0\", shape=(64, 3, 3, 10), dtype=float32)\n",
      "Tensor(\"AllCNN/Mean:0\", shape=(64, 10), dtype=float32)\n",
      "Tensor(\"AllCNN/Softmax:0\", shape=(64, 10), dtype=float32)\n",
      "\n",
      "INFO:tensorflow:Create CheckpointSaverHook.\n",
      "INFO:tensorflow:Restoring parameters from models/all_cnn2/model.ckpt-302\n",
      "INFO:tensorflow:Saving checkpoints for 303 into models/all_cnn2/model.ckpt.\n",
      "INFO:tensorflow:loss = 0.149795, step = 303\n",
      "INFO:tensorflow:loss = 0.149795, accuracy = 0.96875\n",
      "INFO:tensorflow:Saving checkpoints for 353 into models/all_cnn2/model.ckpt.\n",
      "INFO:tensorflow:loss = 0.0390556, accuracy = 1.0 (1.275 sec)\n",
      "INFO:tensorflow:Saving checkpoints for 403 into models/all_cnn2/model.ckpt.\n",
      "INFO:tensorflow:global_step/sec: 43.7976\n",
      "INFO:tensorflow:loss = 0.128508, step = 403 (2.284 sec)\n",
      "INFO:tensorflow:loss = 0.128508, accuracy = 0.953125 (1.009 sec)\n",
      "INFO:tensorflow:Saving checkpoints for 453 into models/all_cnn2/model.ckpt.\n",
      "INFO:tensorflow:loss = 0.0606024, accuracy = 1.0 (1.011 sec)\n",
      "INFO:tensorflow:Saving checkpoints for 503 into models/all_cnn2/model.ckpt.\n",
      "INFO:tensorflow:global_step/sec: 5.6178\n",
      "INFO:tensorflow:loss = 0.126456, step = 503 (17.801 sec)\n",
      "INFO:tensorflow:loss = 0.126456, accuracy = 0.984375 (16.789 sec)\n"
     ]
    },
    {
     "ename": "KeyboardInterrupt",
     "evalue": "",
     "output_type": "error",
     "traceback": [
      "\u001b[0;31m---------------------------------------------------------------------------\u001b[0m",
      "\u001b[0;31mKeyboardInterrupt\u001b[0m                         Traceback (most recent call last)",
      "\u001b[0;32m<ipython-input-11-7f3795772842>\u001b[0m in \u001b[0;36m<module>\u001b[0;34m()\u001b[0m\n\u001b[1;32m      2\u001b[0m \u001b[0;34m\u001b[0m\u001b[0m\n\u001b[1;32m      3\u001b[0m estimator.train(\n\u001b[0;32m----> 4\u001b[0;31m     input_fn = lambda: input_fn(\n\u001b[0m\u001b[1;32m      5\u001b[0m         \u001b[0mdataset\u001b[0m\u001b[0;34m.\u001b[0m\u001b[0mtraining_set\u001b[0m\u001b[0;34m.\u001b[0m\u001b[0mdf\u001b[0m\u001b[0;34m,\u001b[0m\u001b[0;34m\u001b[0m\u001b[0m\n\u001b[1;32m      6\u001b[0m         \u001b[0mbatch_size\u001b[0m \u001b[0;34m=\u001b[0m \u001b[0mparams\u001b[0m\u001b[0;34m.\u001b[0m\u001b[0mbatch_size\u001b[0m\u001b[0;34m,\u001b[0m\u001b[0;34m\u001b[0m\u001b[0m\n",
      "\u001b[0;32m/home/cristian/anaconda2/lib/python2.7/site-packages/tensorflow/python/estimator/estimator.pyc\u001b[0m in \u001b[0;36mtrain\u001b[0;34m(self, input_fn, hooks, steps, max_steps, saving_listeners)\u001b[0m\n\u001b[1;32m    300\u001b[0m \u001b[0;34m\u001b[0m\u001b[0m\n\u001b[1;32m    301\u001b[0m     \u001b[0msaving_listeners\u001b[0m \u001b[0;34m=\u001b[0m \u001b[0m_check_listeners_type\u001b[0m\u001b[0;34m(\u001b[0m\u001b[0msaving_listeners\u001b[0m\u001b[0;34m)\u001b[0m\u001b[0;34m\u001b[0m\u001b[0m\n\u001b[0;32m--> 302\u001b[0;31m     \u001b[0mloss\u001b[0m \u001b[0;34m=\u001b[0m \u001b[0mself\u001b[0m\u001b[0;34m.\u001b[0m\u001b[0m_train_model\u001b[0m\u001b[0;34m(\u001b[0m\u001b[0minput_fn\u001b[0m\u001b[0;34m,\u001b[0m \u001b[0mhooks\u001b[0m\u001b[0;34m,\u001b[0m \u001b[0msaving_listeners\u001b[0m\u001b[0;34m)\u001b[0m\u001b[0;34m\u001b[0m\u001b[0m\n\u001b[0m\u001b[1;32m    303\u001b[0m     \u001b[0mlogging\u001b[0m\u001b[0;34m.\u001b[0m\u001b[0minfo\u001b[0m\u001b[0;34m(\u001b[0m\u001b[0;34m'Loss for final step: %s.'\u001b[0m\u001b[0;34m,\u001b[0m \u001b[0mloss\u001b[0m\u001b[0;34m)\u001b[0m\u001b[0;34m\u001b[0m\u001b[0m\n\u001b[1;32m    304\u001b[0m     \u001b[0;32mreturn\u001b[0m \u001b[0mself\u001b[0m\u001b[0;34m\u001b[0m\u001b[0m\n",
      "\u001b[0;32m/home/cristian/anaconda2/lib/python2.7/site-packages/tensorflow/python/estimator/estimator.pyc\u001b[0m in \u001b[0;36m_train_model\u001b[0;34m(self, input_fn, hooks, saving_listeners)\u001b[0m\n\u001b[1;32m    781\u001b[0m         \u001b[0mloss\u001b[0m \u001b[0;34m=\u001b[0m \u001b[0mNone\u001b[0m\u001b[0;34m\u001b[0m\u001b[0m\n\u001b[1;32m    782\u001b[0m         \u001b[0;32mwhile\u001b[0m \u001b[0;32mnot\u001b[0m \u001b[0mmon_sess\u001b[0m\u001b[0;34m.\u001b[0m\u001b[0mshould_stop\u001b[0m\u001b[0;34m(\u001b[0m\u001b[0;34m)\u001b[0m\u001b[0;34m:\u001b[0m\u001b[0;34m\u001b[0m\u001b[0m\n\u001b[0;32m--> 783\u001b[0;31m           \u001b[0m_\u001b[0m\u001b[0;34m,\u001b[0m \u001b[0mloss\u001b[0m \u001b[0;34m=\u001b[0m \u001b[0mmon_sess\u001b[0m\u001b[0;34m.\u001b[0m\u001b[0mrun\u001b[0m\u001b[0;34m(\u001b[0m\u001b[0;34m[\u001b[0m\u001b[0mestimator_spec\u001b[0m\u001b[0;34m.\u001b[0m\u001b[0mtrain_op\u001b[0m\u001b[0;34m,\u001b[0m \u001b[0mestimator_spec\u001b[0m\u001b[0;34m.\u001b[0m\u001b[0mloss\u001b[0m\u001b[0;34m]\u001b[0m\u001b[0;34m)\u001b[0m\u001b[0;34m\u001b[0m\u001b[0m\n\u001b[0m\u001b[1;32m    784\u001b[0m       \u001b[0;32mreturn\u001b[0m \u001b[0mloss\u001b[0m\u001b[0;34m\u001b[0m\u001b[0m\n\u001b[1;32m    785\u001b[0m \u001b[0;34m\u001b[0m\u001b[0m\n",
      "\u001b[0;32m/home/cristian/anaconda2/lib/python2.7/site-packages/tensorflow/python/training/monitored_session.pyc\u001b[0m in \u001b[0;36mrun\u001b[0;34m(self, fetches, feed_dict, options, run_metadata)\u001b[0m\n\u001b[1;32m    519\u001b[0m                           \u001b[0mfeed_dict\u001b[0m\u001b[0;34m=\u001b[0m\u001b[0mfeed_dict\u001b[0m\u001b[0;34m,\u001b[0m\u001b[0;34m\u001b[0m\u001b[0m\n\u001b[1;32m    520\u001b[0m                           \u001b[0moptions\u001b[0m\u001b[0;34m=\u001b[0m\u001b[0moptions\u001b[0m\u001b[0;34m,\u001b[0m\u001b[0;34m\u001b[0m\u001b[0m\n\u001b[0;32m--> 521\u001b[0;31m                           run_metadata=run_metadata)\n\u001b[0m\u001b[1;32m    522\u001b[0m \u001b[0;34m\u001b[0m\u001b[0m\n\u001b[1;32m    523\u001b[0m   \u001b[0;32mdef\u001b[0m \u001b[0mshould_stop\u001b[0m\u001b[0;34m(\u001b[0m\u001b[0mself\u001b[0m\u001b[0;34m)\u001b[0m\u001b[0;34m:\u001b[0m\u001b[0;34m\u001b[0m\u001b[0m\n",
      "\u001b[0;32m/home/cristian/anaconda2/lib/python2.7/site-packages/tensorflow/python/training/monitored_session.pyc\u001b[0m in \u001b[0;36mrun\u001b[0;34m(self, fetches, feed_dict, options, run_metadata)\u001b[0m\n\u001b[1;32m    890\u001b[0m                               \u001b[0mfeed_dict\u001b[0m\u001b[0;34m=\u001b[0m\u001b[0mfeed_dict\u001b[0m\u001b[0;34m,\u001b[0m\u001b[0;34m\u001b[0m\u001b[0m\n\u001b[1;32m    891\u001b[0m                               \u001b[0moptions\u001b[0m\u001b[0;34m=\u001b[0m\u001b[0moptions\u001b[0m\u001b[0;34m,\u001b[0m\u001b[0;34m\u001b[0m\u001b[0m\n\u001b[0;32m--> 892\u001b[0;31m                               run_metadata=run_metadata)\n\u001b[0m\u001b[1;32m    893\u001b[0m       \u001b[0;32mexcept\u001b[0m \u001b[0m_PREEMPTION_ERRORS\u001b[0m \u001b[0;32mas\u001b[0m \u001b[0me\u001b[0m\u001b[0;34m:\u001b[0m\u001b[0;34m\u001b[0m\u001b[0m\n\u001b[1;32m    894\u001b[0m         logging.info('An error was raised. This may be due to a preemption in '\n",
      "\u001b[0;32m/home/cristian/anaconda2/lib/python2.7/site-packages/tensorflow/python/training/monitored_session.pyc\u001b[0m in \u001b[0;36mrun\u001b[0;34m(self, *args, **kwargs)\u001b[0m\n\u001b[1;32m    950\u001b[0m   \u001b[0;32mdef\u001b[0m \u001b[0mrun\u001b[0m\u001b[0;34m(\u001b[0m\u001b[0mself\u001b[0m\u001b[0;34m,\u001b[0m \u001b[0;34m*\u001b[0m\u001b[0margs\u001b[0m\u001b[0;34m,\u001b[0m \u001b[0;34m**\u001b[0m\u001b[0mkwargs\u001b[0m\u001b[0;34m)\u001b[0m\u001b[0;34m:\u001b[0m\u001b[0;34m\u001b[0m\u001b[0m\n\u001b[1;32m    951\u001b[0m     \u001b[0;32mtry\u001b[0m\u001b[0;34m:\u001b[0m\u001b[0;34m\u001b[0m\u001b[0m\n\u001b[0;32m--> 952\u001b[0;31m       \u001b[0;32mreturn\u001b[0m \u001b[0mself\u001b[0m\u001b[0;34m.\u001b[0m\u001b[0m_sess\u001b[0m\u001b[0;34m.\u001b[0m\u001b[0mrun\u001b[0m\u001b[0;34m(\u001b[0m\u001b[0;34m*\u001b[0m\u001b[0margs\u001b[0m\u001b[0;34m,\u001b[0m \u001b[0;34m**\u001b[0m\u001b[0mkwargs\u001b[0m\u001b[0;34m)\u001b[0m\u001b[0;34m\u001b[0m\u001b[0m\n\u001b[0m\u001b[1;32m    953\u001b[0m     \u001b[0;32mexcept\u001b[0m \u001b[0m_PREEMPTION_ERRORS\u001b[0m\u001b[0;34m:\u001b[0m\u001b[0;34m\u001b[0m\u001b[0m\n\u001b[1;32m    954\u001b[0m       \u001b[0;32mraise\u001b[0m\u001b[0;34m\u001b[0m\u001b[0m\n",
      "\u001b[0;32m/home/cristian/anaconda2/lib/python2.7/site-packages/tensorflow/python/training/monitored_session.pyc\u001b[0m in \u001b[0;36mrun\u001b[0;34m(self, fetches, feed_dict, options, run_metadata)\u001b[0m\n\u001b[1;32m   1022\u001b[0m                                   \u001b[0mfeed_dict\u001b[0m\u001b[0;34m=\u001b[0m\u001b[0mfeed_dict\u001b[0m\u001b[0;34m,\u001b[0m\u001b[0;34m\u001b[0m\u001b[0m\n\u001b[1;32m   1023\u001b[0m                                   \u001b[0moptions\u001b[0m\u001b[0;34m=\u001b[0m\u001b[0moptions\u001b[0m\u001b[0;34m,\u001b[0m\u001b[0;34m\u001b[0m\u001b[0m\n\u001b[0;32m-> 1024\u001b[0;31m                                   run_metadata=run_metadata)\n\u001b[0m\u001b[1;32m   1025\u001b[0m \u001b[0;34m\u001b[0m\u001b[0m\n\u001b[1;32m   1026\u001b[0m     \u001b[0;32mfor\u001b[0m \u001b[0mhook\u001b[0m \u001b[0;32min\u001b[0m \u001b[0mself\u001b[0m\u001b[0;34m.\u001b[0m\u001b[0m_hooks\u001b[0m\u001b[0;34m:\u001b[0m\u001b[0;34m\u001b[0m\u001b[0m\n",
      "\u001b[0;32m/home/cristian/anaconda2/lib/python2.7/site-packages/tensorflow/python/training/monitored_session.pyc\u001b[0m in \u001b[0;36mrun\u001b[0;34m(self, *args, **kwargs)\u001b[0m\n\u001b[1;32m    825\u001b[0m \u001b[0;34m\u001b[0m\u001b[0m\n\u001b[1;32m    826\u001b[0m   \u001b[0;32mdef\u001b[0m \u001b[0mrun\u001b[0m\u001b[0;34m(\u001b[0m\u001b[0mself\u001b[0m\u001b[0;34m,\u001b[0m \u001b[0;34m*\u001b[0m\u001b[0margs\u001b[0m\u001b[0;34m,\u001b[0m \u001b[0;34m**\u001b[0m\u001b[0mkwargs\u001b[0m\u001b[0;34m)\u001b[0m\u001b[0;34m:\u001b[0m\u001b[0;34m\u001b[0m\u001b[0m\n\u001b[0;32m--> 827\u001b[0;31m     \u001b[0;32mreturn\u001b[0m \u001b[0mself\u001b[0m\u001b[0;34m.\u001b[0m\u001b[0m_sess\u001b[0m\u001b[0;34m.\u001b[0m\u001b[0mrun\u001b[0m\u001b[0;34m(\u001b[0m\u001b[0;34m*\u001b[0m\u001b[0margs\u001b[0m\u001b[0;34m,\u001b[0m \u001b[0;34m**\u001b[0m\u001b[0mkwargs\u001b[0m\u001b[0;34m)\u001b[0m\u001b[0;34m\u001b[0m\u001b[0m\n\u001b[0m\u001b[1;32m    828\u001b[0m \u001b[0;34m\u001b[0m\u001b[0m\n\u001b[1;32m    829\u001b[0m \u001b[0;34m\u001b[0m\u001b[0m\n",
      "\u001b[0;32m/home/cristian/anaconda2/lib/python2.7/site-packages/tensorflow/python/client/session.pyc\u001b[0m in \u001b[0;36mrun\u001b[0;34m(self, fetches, feed_dict, options, run_metadata)\u001b[0m\n\u001b[1;32m    887\u001b[0m     \u001b[0;32mtry\u001b[0m\u001b[0;34m:\u001b[0m\u001b[0;34m\u001b[0m\u001b[0m\n\u001b[1;32m    888\u001b[0m       result = self._run(None, fetches, feed_dict, options_ptr,\n\u001b[0;32m--> 889\u001b[0;31m                          run_metadata_ptr)\n\u001b[0m\u001b[1;32m    890\u001b[0m       \u001b[0;32mif\u001b[0m \u001b[0mrun_metadata\u001b[0m\u001b[0;34m:\u001b[0m\u001b[0;34m\u001b[0m\u001b[0m\n\u001b[1;32m    891\u001b[0m         \u001b[0mproto_data\u001b[0m \u001b[0;34m=\u001b[0m \u001b[0mtf_session\u001b[0m\u001b[0;34m.\u001b[0m\u001b[0mTF_GetBuffer\u001b[0m\u001b[0;34m(\u001b[0m\u001b[0mrun_metadata_ptr\u001b[0m\u001b[0;34m)\u001b[0m\u001b[0;34m\u001b[0m\u001b[0m\n",
      "\u001b[0;32m/home/cristian/anaconda2/lib/python2.7/site-packages/tensorflow/python/client/session.pyc\u001b[0m in \u001b[0;36m_run\u001b[0;34m(self, handle, fetches, feed_dict, options, run_metadata)\u001b[0m\n\u001b[1;32m   1118\u001b[0m     \u001b[0;32mif\u001b[0m \u001b[0mfinal_fetches\u001b[0m \u001b[0;32mor\u001b[0m \u001b[0mfinal_targets\u001b[0m \u001b[0;32mor\u001b[0m \u001b[0;34m(\u001b[0m\u001b[0mhandle\u001b[0m \u001b[0;32mand\u001b[0m \u001b[0mfeed_dict_tensor\u001b[0m\u001b[0;34m)\u001b[0m\u001b[0;34m:\u001b[0m\u001b[0;34m\u001b[0m\u001b[0m\n\u001b[1;32m   1119\u001b[0m       results = self._do_run(handle, final_targets, final_fetches,\n\u001b[0;32m-> 1120\u001b[0;31m                              feed_dict_tensor, options, run_metadata)\n\u001b[0m\u001b[1;32m   1121\u001b[0m     \u001b[0;32melse\u001b[0m\u001b[0;34m:\u001b[0m\u001b[0;34m\u001b[0m\u001b[0m\n\u001b[1;32m   1122\u001b[0m       \u001b[0mresults\u001b[0m \u001b[0;34m=\u001b[0m \u001b[0;34m[\u001b[0m\u001b[0;34m]\u001b[0m\u001b[0;34m\u001b[0m\u001b[0m\n",
      "\u001b[0;32m/home/cristian/anaconda2/lib/python2.7/site-packages/tensorflow/python/client/session.pyc\u001b[0m in \u001b[0;36m_do_run\u001b[0;34m(self, handle, target_list, fetch_list, feed_dict, options, run_metadata)\u001b[0m\n\u001b[1;32m   1315\u001b[0m     \u001b[0;32mif\u001b[0m \u001b[0mhandle\u001b[0m \u001b[0;32mis\u001b[0m \u001b[0mNone\u001b[0m\u001b[0;34m:\u001b[0m\u001b[0;34m\u001b[0m\u001b[0m\n\u001b[1;32m   1316\u001b[0m       return self._do_call(_run_fn, self._session, feeds, fetches, targets,\n\u001b[0;32m-> 1317\u001b[0;31m                            options, run_metadata)\n\u001b[0m\u001b[1;32m   1318\u001b[0m     \u001b[0;32melse\u001b[0m\u001b[0;34m:\u001b[0m\u001b[0;34m\u001b[0m\u001b[0m\n\u001b[1;32m   1319\u001b[0m       \u001b[0;32mreturn\u001b[0m \u001b[0mself\u001b[0m\u001b[0;34m.\u001b[0m\u001b[0m_do_call\u001b[0m\u001b[0;34m(\u001b[0m\u001b[0m_prun_fn\u001b[0m\u001b[0;34m,\u001b[0m \u001b[0mself\u001b[0m\u001b[0;34m.\u001b[0m\u001b[0m_session\u001b[0m\u001b[0;34m,\u001b[0m \u001b[0mhandle\u001b[0m\u001b[0;34m,\u001b[0m \u001b[0mfeeds\u001b[0m\u001b[0;34m,\u001b[0m \u001b[0mfetches\u001b[0m\u001b[0;34m)\u001b[0m\u001b[0;34m\u001b[0m\u001b[0m\n",
      "\u001b[0;32m/home/cristian/anaconda2/lib/python2.7/site-packages/tensorflow/python/client/session.pyc\u001b[0m in \u001b[0;36m_do_call\u001b[0;34m(self, fn, *args)\u001b[0m\n\u001b[1;32m   1321\u001b[0m   \u001b[0;32mdef\u001b[0m \u001b[0m_do_call\u001b[0m\u001b[0;34m(\u001b[0m\u001b[0mself\u001b[0m\u001b[0;34m,\u001b[0m \u001b[0mfn\u001b[0m\u001b[0;34m,\u001b[0m \u001b[0;34m*\u001b[0m\u001b[0margs\u001b[0m\u001b[0;34m)\u001b[0m\u001b[0;34m:\u001b[0m\u001b[0;34m\u001b[0m\u001b[0m\n\u001b[1;32m   1322\u001b[0m     \u001b[0;32mtry\u001b[0m\u001b[0;34m:\u001b[0m\u001b[0;34m\u001b[0m\u001b[0m\n\u001b[0;32m-> 1323\u001b[0;31m       \u001b[0;32mreturn\u001b[0m \u001b[0mfn\u001b[0m\u001b[0;34m(\u001b[0m\u001b[0;34m*\u001b[0m\u001b[0margs\u001b[0m\u001b[0;34m)\u001b[0m\u001b[0;34m\u001b[0m\u001b[0m\n\u001b[0m\u001b[1;32m   1324\u001b[0m     \u001b[0;32mexcept\u001b[0m \u001b[0merrors\u001b[0m\u001b[0;34m.\u001b[0m\u001b[0mOpError\u001b[0m \u001b[0;32mas\u001b[0m \u001b[0me\u001b[0m\u001b[0;34m:\u001b[0m\u001b[0;34m\u001b[0m\u001b[0m\n\u001b[1;32m   1325\u001b[0m       \u001b[0mmessage\u001b[0m \u001b[0;34m=\u001b[0m \u001b[0mcompat\u001b[0m\u001b[0;34m.\u001b[0m\u001b[0mas_text\u001b[0m\u001b[0;34m(\u001b[0m\u001b[0me\u001b[0m\u001b[0;34m.\u001b[0m\u001b[0mmessage\u001b[0m\u001b[0;34m)\u001b[0m\u001b[0;34m\u001b[0m\u001b[0m\n",
      "\u001b[0;32m/home/cristian/anaconda2/lib/python2.7/site-packages/tensorflow/python/client/session.pyc\u001b[0m in \u001b[0;36m_run_fn\u001b[0;34m(session, feed_dict, fetch_list, target_list, options, run_metadata)\u001b[0m\n\u001b[1;32m   1300\u001b[0m           return tf_session.TF_Run(session, options,\n\u001b[1;32m   1301\u001b[0m                                    \u001b[0mfeed_dict\u001b[0m\u001b[0;34m,\u001b[0m \u001b[0mfetch_list\u001b[0m\u001b[0;34m,\u001b[0m \u001b[0mtarget_list\u001b[0m\u001b[0;34m,\u001b[0m\u001b[0;34m\u001b[0m\u001b[0m\n\u001b[0;32m-> 1302\u001b[0;31m                                    status, run_metadata)\n\u001b[0m\u001b[1;32m   1303\u001b[0m \u001b[0;34m\u001b[0m\u001b[0m\n\u001b[1;32m   1304\u001b[0m     \u001b[0;32mdef\u001b[0m \u001b[0m_prun_fn\u001b[0m\u001b[0;34m(\u001b[0m\u001b[0msession\u001b[0m\u001b[0;34m,\u001b[0m \u001b[0mhandle\u001b[0m\u001b[0;34m,\u001b[0m \u001b[0mfeed_dict\u001b[0m\u001b[0;34m,\u001b[0m \u001b[0mfetch_list\u001b[0m\u001b[0;34m)\u001b[0m\u001b[0;34m:\u001b[0m\u001b[0;34m\u001b[0m\u001b[0m\n",
      "\u001b[0;31mKeyboardInterrupt\u001b[0m: "
     ]
    }
   ],
   "source": [
    "params = dicto.load_(\"parameters.yml\")\n",
    "\n",
    "estimator.train(\n",
    "    input_fn = lambda: input_fn(\n",
    "        dataset.training_set.df, \n",
    "        batch_size = params.batch_size, \n",
    "        epochs = params.epochs,\n",
    "    )\n",
    ")"
   ]
  },
  {
   "cell_type": "code",
   "execution_count": 10,
   "metadata": {},
   "outputs": [
    {
     "name": "stdout",
     "output_type": "stream",
     "text": [
      "##########################\n",
      "## AllCNN\n",
      "##########################\n",
      "Tensor(\"IteratorGetNext:0\", shape=(64, 28, 28, 1), dtype=float32, device=/device:CPU:0)\n",
      "Tensor(\"AllCNN/Conv2dBatchNorm/Elu:0\", shape=(64, 14, 14, 16), dtype=float32)\n",
      "Tensor(\"AllCNN/Conv2dBatchNorm_1/Elu:0\", shape=(64, 7, 7, 32), dtype=float32)\n",
      "Tensor(\"AllCNN/Conv2dBatchNorm_2/Elu:0\", shape=(64, 5, 5, 64), dtype=float32)\n",
      "Tensor(\"AllCNN/conv2d/Elu:0\", shape=(64, 3, 3, 10), dtype=float32)\n",
      "Tensor(\"AllCNN/conv2d/Elu:0\", shape=(64, 3, 3, 10), dtype=float32)\n",
      "\n",
      "INFO:tensorflow:Starting evaluation at 2018-01-19-21:06:45\n",
      "INFO:tensorflow:Restoring parameters from models/all_cnn1/model.ckpt-5601\n",
      "INFO:tensorflow:Finished evaluation at 2018-01-19-21:10:25\n",
      "INFO:tensorflow:Saving dict for global step 5601: accuracy = 0.990324, global_step = 5601, loss = 0.0323472\n"
     ]
    },
    {
     "data": {
      "text/plain": [
       "{'accuracy': 0.99032396, 'global_step': 5601, 'loss': 0.032347161}"
      ]
     },
     "execution_count": 10,
     "metadata": {},
     "output_type": "execute_result"
    }
   ],
   "source": [
    "params = dicto.load_(\"parameters.yml\")\n",
    "\n",
    "estimator.evaluate(\n",
    "    input_fn = lambda: input_fn(\n",
    "        dataset.test_set.df, \n",
    "        batch_size = params.batch_size, \n",
    "        epochs = 1\n",
    "    )\n",
    ")"
   ]
  },
  {
   "cell_type": "code",
   "execution_count": 12,
   "metadata": {},
   "outputs": [],
   "source": [
    "params = dicto.load_(\"parameters.yml\")\n",
    "\n",
    "iterator = estimator.predict(\n",
    "    input_fn = lambda: input_fn(\n",
    "        dataset.test_set.df, \n",
    "        batch_size = 64, \n",
    "        epochs = 1\n",
    "    )\n",
    ")"
   ]
  },
  {
   "cell_type": "code",
   "execution_count": 13,
   "metadata": {},
   "outputs": [
    {
     "name": "stdout",
     "output_type": "stream",
     "text": [
      "WARNING:tensorflow:Input graph does not contain a QueueRunner. That means predict yields forever. This is probably a mistake.\n",
      "##########################\n",
      "## AllCNN\n",
      "##########################\n",
      "Tensor(\"IteratorGetNext:0\", shape=(64, 28, 28, 1), dtype=float32, device=/device:CPU:0)\n",
      "Tensor(\"AllCNN/Conv2dBatchNorm/Elu:0\", shape=(64, 14, 14, 16), dtype=float32)\n",
      "Tensor(\"AllCNN/Conv2dBatchNorm_1/Elu:0\", shape=(64, 7, 7, 32), dtype=float32)\n",
      "Tensor(\"AllCNN/Conv2dBatchNorm_2/Elu:0\", shape=(64, 5, 5, 64), dtype=float32)\n",
      "Tensor(\"AllCNN/conv2d/Elu:0\", shape=(64, 3, 3, 10), dtype=float32)\n",
      "Tensor(\"AllCNN/Mean:0\", shape=(64, 10), dtype=float32)\n",
      "Tensor(\"AllCNN/Softmax:0\", shape=(64, 10), dtype=float32)\n",
      "\n",
      "INFO:tensorflow:Restoring parameters from models/all_cnn1/model.ckpt-5601\n"
     ]
    },
    {
     "data": {
      "image/png": "[encoded data removed]",
      "text/plain": [
       "<matplotlib.figure.Figure at 0x7f02b1984250>"
      ]
     },
     "metadata": {},
     "output_type": "display_data"
    }
   ],
   "source": [
    "predictions = next(iterator)\n",
    "\n",
    "img = predictions[\"image\"]\n",
    "class_id = np.argmax(predictions[\"classes\"])\n",
    "\n",
    "ax = plt.axes()\n",
    "\n",
    "plt.imshow(img[:, :, 0], cmap=\"gray\")\n",
    "\n",
    "ax.title.set_text(class_id)\n",
    "ax.get_yaxis().set_visible(False)\n",
    "ax.get_xaxis().set_visible(False)\n",
    "\n",
    "plt.show()"
   ]
  },
  {
   "cell_type": "markdown",
   "metadata": {},
   "source": [
    "## Freeze Graph"
   ]
  },
  {
   "cell_type": "code",
   "execution_count": null,
   "metadata": {},
   "outputs": [],
   "source": [
    "params = dicto.load_(\"parameters.yml\")\n",
    "\n",
    "graph = tf.Graph()\n",
    "with graph.as_default():\n",
    "    inputs = dict(\n",
    "        image = tf.layers.Input(shape=(28, 28, 1)),\n",
    "        mode = tf.estimator.ModeKeys.TRAIN,\n",
    "    )\n",
    "\n",
    "    all_cnn = AllCNNN()\n",
    "    logits, predictions = all_cnn(inputs)\n",
    "    \n",
    "    saver = tf.train.Saver()"
   ]
  },
  {
   "cell_type": "code",
   "execution_count": null,
   "metadata": {},
   "outputs": [],
   "source": [
    "params = dicto.load_(\"parameters.yml\")\n",
    "\n",
    "sess_config = tf.ConfigProto()\n",
    "sess_config.gpu_options.allow_growth = True\n",
    "sess = tf.Session(graph=graph, config=sess_config)\n",
    "snapshot_fpath = tf.train.latest_checkpoint(params.model_dir)\n",
    "saver.restore(sess, snapshot_fpath)"
   ]
  },
  {
   "cell_type": "code",
   "execution_count": 20,
   "metadata": {},
   "outputs": [
    {
     "name": "stdout",
     "output_type": "stream",
     "text": [
      "INFO:tensorflow:Froze 14 variables.\n",
      "Converted 14 variables to const ops.\n"
     ]
    },
    {
     "data": {
      "text/plain": [
       "'./frozen_models/all_cnn1.pb'"
      ]
     },
     "execution_count": 20,
     "metadata": {},
     "output_type": "execute_result"
    }
   ],
   "source": [
    "from tensorflow.python.framework import graph_io\n",
    "\n",
    "params = dicto.load_(\"parameters.yml\")\n",
    "\n",
    "graphdef_inf = tf.graph_util.remove_training_nodes(graph.as_graph_def())\n",
    "\n",
    "graphdef_frozen = tf.graph_util.convert_variables_to_constants(\n",
    "    sess, graphdef_inf, params.OUTPUT_NAMES)\n",
    "\n",
    "graph_io.write_graph(graphdef_frozen, './', params.FROZEN_FPATH, as_text=False)"
   ]
  },
  {
   "cell_type": "code",
   "execution_count": 21,
   "metadata": {},
   "outputs": [
    {
     "data": {
      "text/plain": [
       "[u'input_layer_1',\n",
       " u'AllCNN/Conv2dBatchNorm/conv2d/kernel',\n",
       " u'AllCNN/Conv2dBatchNorm/conv2d/bias',\n",
       " u'AllCNN/Conv2dBatchNorm/conv2d/Conv2D',\n",
       " u'AllCNN/Conv2dBatchNorm/conv2d/BiasAdd',\n",
       " u'AllCNN/Conv2dBatchNorm/batch_normalization/gamma',\n",
       " u'AllCNN/Conv2dBatchNorm/batch_normalization/beta',\n",
       " u'AllCNN/Conv2dBatchNorm/batch_normalization/Const',\n",
       " u'AllCNN/Conv2dBatchNorm/batch_normalization/Const_1',\n",
       " u'AllCNN/Conv2dBatchNorm/batch_normalization/FusedBatchNorm',\n",
       " u'AllCNN/Conv2dBatchNorm/Elu',\n",
       " u'AllCNN/Conv2dBatchNorm_1/conv2d/kernel',\n",
       " u'AllCNN/Conv2dBatchNorm_1/conv2d/bias',\n",
       " u'AllCNN/Conv2dBatchNorm_1/conv2d/Conv2D',\n",
       " u'AllCNN/Conv2dBatchNorm_1/conv2d/BiasAdd',\n",
       " u'AllCNN/Conv2dBatchNorm_1/batch_normalization/gamma',\n",
       " u'AllCNN/Conv2dBatchNorm_1/batch_normalization/beta',\n",
       " u'AllCNN/Conv2dBatchNorm_1/batch_normalization/Const',\n",
       " u'AllCNN/Conv2dBatchNorm_1/batch_normalization/Const_1',\n",
       " u'AllCNN/Conv2dBatchNorm_1/batch_normalization/FusedBatchNorm',\n",
       " u'AllCNN/Conv2dBatchNorm_1/Elu',\n",
       " u'AllCNN/Conv2dBatchNorm_2/conv2d/kernel',\n",
       " u'AllCNN/Conv2dBatchNorm_2/conv2d/bias',\n",
       " u'AllCNN/Conv2dBatchNorm_2/conv2d/Conv2D',\n",
       " u'AllCNN/Conv2dBatchNorm_2/conv2d/BiasAdd',\n",
       " u'AllCNN/Conv2dBatchNorm_2/batch_normalization/gamma',\n",
       " u'AllCNN/Conv2dBatchNorm_2/batch_normalization/beta',\n",
       " u'AllCNN/Conv2dBatchNorm_2/batch_normalization/Const',\n",
       " u'AllCNN/Conv2dBatchNorm_2/batch_normalization/Const_1',\n",
       " u'AllCNN/Conv2dBatchNorm_2/batch_normalization/FusedBatchNorm',\n",
       " u'AllCNN/Conv2dBatchNorm_2/Elu',\n",
       " u'AllCNN/conv2d/kernel',\n",
       " u'AllCNN/conv2d/bias',\n",
       " u'AllCNN/conv2d/Conv2D',\n",
       " u'AllCNN/conv2d/BiasAdd',\n",
       " u'AllCNN/conv2d/Elu',\n",
       " u'AllCNN/Mean/reduction_indices',\n",
       " u'AllCNN/Mean',\n",
       " u'AllCNN/Softmax']"
      ]
     },
     "execution_count": 21,
     "metadata": {},
     "output_type": "execute_result"
    }
   ],
   "source": [
    "[x.name for x in graphdef_frozen.node]"
   ]
  },
  {
   "cell_type": "markdown",
   "metadata": {},
   "source": [
    "## UFF"
   ]
  },
  {
   "cell_type": "code",
   "execution_count": 6,
   "metadata": {},
   "outputs": [],
   "source": [
    "import tensorrt as trt\n",
    "import uff\n",
    "from tensorrt.parsers import uffparser\n",
    "\n",
    "MAX_WORKSPACE = 1 << 20 # ADJUST"
   ]
  },
  {
   "cell_type": "code",
   "execution_count": 23,
   "metadata": {},
   "outputs": [
    {
     "name": "stdout",
     "output_type": "stream",
     "text": [
      "Using output node AllCNN/Softmax\n",
      "Converting to UFF graph\n",
      "Warning: No conversion function registered for layer: Elu yet.\n",
      "Converting as custom op Elu AllCNN/conv2d/Elu\n",
      "name: \"AllCNN/conv2d/Elu\"\n",
      "op: \"Elu\"\n",
      "input: \"AllCNN/conv2d/BiasAdd\"\n",
      "attr {\n",
      "  key: \"T\"\n",
      "  value {\n",
      "    type: DT_FLOAT\n",
      "  }\n",
      "}\n",
      "\n",
      "Warning: No conversion function registered for layer: Elu yet.\n",
      "Converting as custom op Elu AllCNN/Conv2dBatchNorm_2/Elu\n",
      "name: \"AllCNN/Conv2dBatchNorm_2/Elu\"\n",
      "op: \"Elu\"\n",
      "input: \"AllCNN/Conv2dBatchNorm_2/batch_normalization/FusedBatchNorm\"\n",
      "attr {\n",
      "  key: \"T\"\n",
      "  value {\n",
      "    type: DT_FLOAT\n",
      "  }\n",
      "}\n",
      "\n",
      "Warning: No conversion function registered for layer: Elu yet.\n",
      "Converting as custom op Elu AllCNN/Conv2dBatchNorm_1/Elu\n",
      "name: \"AllCNN/Conv2dBatchNorm_1/Elu\"\n",
      "op: \"Elu\"\n",
      "input: \"AllCNN/Conv2dBatchNorm_1/batch_normalization/FusedBatchNorm\"\n",
      "attr {\n",
      "  key: \"T\"\n",
      "  value {\n",
      "    type: DT_FLOAT\n",
      "  }\n",
      "}\n",
      "\n",
      "Warning: No conversion function registered for layer: Elu yet.\n",
      "Converting as custom op Elu AllCNN/Conv2dBatchNorm/Elu\n",
      "name: \"AllCNN/Conv2dBatchNorm/Elu\"\n",
      "op: \"Elu\"\n",
      "input: \"AllCNN/Conv2dBatchNorm/batch_normalization/FusedBatchNorm\"\n",
      "attr {\n",
      "  key: \"T\"\n",
      "  value {\n",
      "    type: DT_FLOAT\n",
      "  }\n",
      "}\n",
      "\n",
      "No. nodes: 39\n"
     ]
    }
   ],
   "source": [
    "params = dicto.load_(\"parameters.yml\")\n",
    "\n",
    "uff_model = uff.from_tensorflow_frozen_model(\n",
    "    params.FROZEN_FPATH, \n",
    "    params.OUTPUT_NAMES\n",
    ")"
   ]
  },
  {
   "cell_type": "code",
   "execution_count": 31,
   "metadata": {},
   "outputs": [],
   "source": [
    "params = dicto.load_(\"parameters.yml\")\n",
    "\n",
    "parser = uffparser.create_uff_parser()\n",
    "\n",
    "for input_ in params.INPUTS:\n",
    "    parser.register_input(input_.name, input_.size, 0)\n",
    "\n",
    "for output in params.OUTPUT_NAMES:\n",
    "    parser.register_output(output)\n",
    "\n",
    "G_LOGGER = trt.infer.ConsoleLogger(trt.infer.LogSeverity.INTERNAL_ERROR)"
   ]
  },
  {
   "cell_type": "code",
   "execution_count": 7,
   "metadata": {},
   "outputs": [
    {
     "ename": "InternalError",
     "evalue": "Failed to create session.",
     "output_type": "error",
     "traceback": [
      "\u001b[0;31m---------------------------------------------------------------------------\u001b[0m",
      "\u001b[0;31mInternalError\u001b[0m                             Traceback (most recent call last)",
      "\u001b[0;32m<ipython-input-7-4e93b15435db>\u001b[0m in \u001b[0;36m<module>\u001b[0;34m()\u001b[0m\n\u001b[1;32m      2\u001b[0m \u001b[0;34m\u001b[0m\u001b[0m\n\u001b[1;32m      3\u001b[0m \u001b[0mgraph\u001b[0m \u001b[0;34m=\u001b[0m \u001b[0mtf\u001b[0m\u001b[0;34m.\u001b[0m\u001b[0mGraph\u001b[0m\u001b[0;34m(\u001b[0m\u001b[0;34m)\u001b[0m\u001b[0;34m\u001b[0m\u001b[0m\n\u001b[0;32m----> 4\u001b[0;31m \u001b[0msess\u001b[0m \u001b[0;34m=\u001b[0m \u001b[0mtf\u001b[0m\u001b[0;34m.\u001b[0m\u001b[0mSession\u001b[0m\u001b[0;34m(\u001b[0m\u001b[0mgraph\u001b[0m \u001b[0;34m=\u001b[0m \u001b[0mgraph\u001b[0m\u001b[0;34m)\u001b[0m\u001b[0;34m\u001b[0m\u001b[0m\n\u001b[0m\u001b[1;32m      5\u001b[0m \u001b[0;34m\u001b[0m\u001b[0m\n\u001b[1;32m      6\u001b[0m \u001b[0;32mwith\u001b[0m \u001b[0mgraph\u001b[0m\u001b[0;34m.\u001b[0m\u001b[0mas_default\u001b[0m\u001b[0;34m(\u001b[0m\u001b[0;34m)\u001b[0m\u001b[0;34m:\u001b[0m\u001b[0;34m\u001b[0m\u001b[0m\n",
      "\u001b[0;32m/home/cristian/anaconda2/lib/python2.7/site-packages/tensorflow/python/client/session.pyc\u001b[0m in \u001b[0;36m__init__\u001b[0;34m(self, target, graph, config)\u001b[0m\n\u001b[1;32m   1480\u001b[0m \u001b[0;34m\u001b[0m\u001b[0m\n\u001b[1;32m   1481\u001b[0m     \"\"\"\n\u001b[0;32m-> 1482\u001b[0;31m     \u001b[0msuper\u001b[0m\u001b[0;34m(\u001b[0m\u001b[0mSession\u001b[0m\u001b[0;34m,\u001b[0m \u001b[0mself\u001b[0m\u001b[0;34m)\u001b[0m\u001b[0;34m.\u001b[0m\u001b[0m__init__\u001b[0m\u001b[0;34m(\u001b[0m\u001b[0mtarget\u001b[0m\u001b[0;34m,\u001b[0m \u001b[0mgraph\u001b[0m\u001b[0;34m,\u001b[0m \u001b[0mconfig\u001b[0m\u001b[0;34m=\u001b[0m\u001b[0mconfig\u001b[0m\u001b[0;34m)\u001b[0m\u001b[0;34m\u001b[0m\u001b[0m\n\u001b[0m\u001b[1;32m   1483\u001b[0m     \u001b[0;31m# NOTE(mrry): Create these on first `__enter__` to avoid a reference cycle.\u001b[0m\u001b[0;34m\u001b[0m\u001b[0;34m\u001b[0m\u001b[0m\n\u001b[1;32m   1484\u001b[0m     \u001b[0mself\u001b[0m\u001b[0;34m.\u001b[0m\u001b[0m_default_graph_context_manager\u001b[0m \u001b[0;34m=\u001b[0m \u001b[0mNone\u001b[0m\u001b[0;34m\u001b[0m\u001b[0m\n",
      "\u001b[0;32m/home/cristian/anaconda2/lib/python2.7/site-packages/tensorflow/python/client/session.pyc\u001b[0m in \u001b[0;36m__init__\u001b[0;34m(self, target, graph, config)\u001b[0m\n\u001b[1;32m    620\u001b[0m           \u001b[0;31m# pylint: enable=protected-access\u001b[0m\u001b[0;34m\u001b[0m\u001b[0;34m\u001b[0m\u001b[0m\n\u001b[1;32m    621\u001b[0m         \u001b[0;32melse\u001b[0m\u001b[0;34m:\u001b[0m\u001b[0;34m\u001b[0m\u001b[0m\n\u001b[0;32m--> 622\u001b[0;31m           \u001b[0mself\u001b[0m\u001b[0;34m.\u001b[0m\u001b[0m_session\u001b[0m \u001b[0;34m=\u001b[0m \u001b[0mtf_session\u001b[0m\u001b[0;34m.\u001b[0m\u001b[0mTF_NewDeprecatedSession\u001b[0m\u001b[0;34m(\u001b[0m\u001b[0mopts\u001b[0m\u001b[0;34m,\u001b[0m \u001b[0mstatus\u001b[0m\u001b[0;34m)\u001b[0m\u001b[0;34m\u001b[0m\u001b[0m\n\u001b[0m\u001b[1;32m    623\u001b[0m     \u001b[0;32mfinally\u001b[0m\u001b[0;34m:\u001b[0m\u001b[0;34m\u001b[0m\u001b[0m\n\u001b[1;32m    624\u001b[0m       \u001b[0mtf_session\u001b[0m\u001b[0;34m.\u001b[0m\u001b[0mTF_DeleteSessionOptions\u001b[0m\u001b[0;34m(\u001b[0m\u001b[0mopts\u001b[0m\u001b[0;34m)\u001b[0m\u001b[0;34m\u001b[0m\u001b[0m\n",
      "\u001b[0;32m/home/cristian/anaconda2/lib/python2.7/site-packages/tensorflow/python/framework/errors_impl.pyc\u001b[0m in \u001b[0;36m__exit__\u001b[0;34m(self, type_arg, value_arg, traceback_arg)\u001b[0m\n\u001b[1;32m    471\u001b[0m             \u001b[0mNone\u001b[0m\u001b[0;34m,\u001b[0m \u001b[0mNone\u001b[0m\u001b[0;34m,\u001b[0m\u001b[0;34m\u001b[0m\u001b[0m\n\u001b[1;32m    472\u001b[0m             \u001b[0mcompat\u001b[0m\u001b[0;34m.\u001b[0m\u001b[0mas_text\u001b[0m\u001b[0;34m(\u001b[0m\u001b[0mc_api\u001b[0m\u001b[0;34m.\u001b[0m\u001b[0mTF_Message\u001b[0m\u001b[0;34m(\u001b[0m\u001b[0mself\u001b[0m\u001b[0;34m.\u001b[0m\u001b[0mstatus\u001b[0m\u001b[0;34m.\u001b[0m\u001b[0mstatus\u001b[0m\u001b[0;34m)\u001b[0m\u001b[0;34m)\u001b[0m\u001b[0;34m,\u001b[0m\u001b[0;34m\u001b[0m\u001b[0m\n\u001b[0;32m--> 473\u001b[0;31m             c_api.TF_GetCode(self.status.status))\n\u001b[0m\u001b[1;32m    474\u001b[0m     \u001b[0;31m# Delete the underlying status object from memory otherwise it stays alive\u001b[0m\u001b[0;34m\u001b[0m\u001b[0;34m\u001b[0m\u001b[0m\n\u001b[1;32m    475\u001b[0m     \u001b[0;31m# as there is a reference to status from this from the traceback due to\u001b[0m\u001b[0;34m\u001b[0m\u001b[0;34m\u001b[0m\u001b[0m\n",
      "\u001b[0;31mInternalError\u001b[0m: Failed to create session."
     ]
    }
   ],
   "source": [
    "params = dicto.load_(\"parameters.yml\")\n",
    "\n",
    "graph = tf.Graph()\n",
    "sess = tf.Session(graph = graph)\n",
    "\n",
    "with graph.as_default():\n",
    "    \n",
    "    inputs = dict(\n",
    "        image = tf.layers.Input(shape=(28, 28, 1)),\n",
    "        mode = tf.estimator.ModeKeys.TRAIN,\n",
    "    )\n",
    "\n",
    "    all_cnn = AllCNNN()\n",
    "    logits, predictions = all_cnn(inputs)\n",
    "    \n",
    "    graph_def = graph.as_graph_def()\n",
    "    \n",
    "    print(predictions.graph)\n",
    "    print(graph)\n",
    "    print(sess.graph)\n",
    "    \n",
    "    saver = tf.train.Saver()\n",
    "    \n",
    "    snapshot_fpath = tf.train.latest_checkpoint(params.model_dir)\n",
    "    saver.restore(sess, snapshot_fpath)\n",
    "    \n",
    "    # freeze graph and remove nodes used for training \n",
    "    frozen_graph = tf.graph_util.convert_variables_to_constants(sess, graph_def, params.OUTPUT_NAMES)\n",
    "    frozen_graph = tf.graph_util.remove_training_nodes(frozen_graph)\n",
    "    # Create UFF model and dump it on disk \n",
    "    uff_model = uff.from_tensorflow(frozen_graph, [predictions.name])\n",
    "    dump = open('all_cnn.uff', 'wb')\n",
    "    dump.write(uff_model)\n",
    "    dump.close()"
   ]
  },
  {
   "cell_type": "code",
   "execution_count": 17,
   "metadata": {},
   "outputs": [
    {
     "data": {
      "text/plain": [
       "u'AllCNN/Softmax:0'"
      ]
     },
     "execution_count": 17,
     "metadata": {},
     "output_type": "execute_result"
    }
   ],
   "source": [
    "predictions.name"
   ]
  }
 ],
 "metadata": {
  "kernelspec": {
   "display_name": "Python 2",
   "language": "python",
   "name": "python2"
  },
  "language_info": {
   "codemirror_mode": {
    "name": "ipython",
    "version": 3
   },
   "file_extension": ".py",
   "mimetype": "text/x-python",
   "name": "python",
   "nbconvert_exporter": "python",
   "pygments_lexer": "ipython3",
   "version": "3.6.3"
  }
 },
 "nbformat": 4,
 "nbformat_minor": 2
}
