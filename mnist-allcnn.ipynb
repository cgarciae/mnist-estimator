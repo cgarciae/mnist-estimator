{
 "cells": [
  {
   "cell_type": "markdown",
   "metadata": {},
   "source": [
    "# Why this tutorial?\n",
    "* TensorFlow has been \"good but messy\"\n",
    "* Its been adding higher-level APIs\n",
    "* A lot of documentation and tutorials out there still use lower-level APIs\n",
    "* While basic should serve as a basis to create a real project\n",
    "* Created with some of the best practices (suggestions and pull requests are welcome).\n",
    "* The new APIs are GOOD"
   ]
  },
  {
   "cell_type": "code",
   "execution_count": 1,
   "metadata": {},
   "outputs": [
    {
     "name": "stderr",
     "output_type": "stream",
     "text": [
      "/home/dgromov/anaconda3/envs/dataget/lib/python3.6/site-packages/h5py/__init__.py:36: FutureWarning: Conversion of the second argument of issubdtype from `float` to `np.floating` is deprecated. In future, it will be treated as `np.float64 == np.dtype(float).type`.\n",
      "  from ._conv import register_converters as _register_converters\n"
     ]
    }
   ],
   "source": [
    "%matplotlib inline \n",
    "\n",
    "import dataget as dg\n",
    "import sonnet as snt\n",
    "import tfinterface as ti\n",
    "import tensorflow as tf\n",
    "import numpy as np\n",
    "from matplotlib import pyplot as plt\n",
    "import cytoolz as cz\n",
    "from dicto import dicto\n",
    "\n",
    "sess = tf.InteractiveSession()\n",
    "params = dicto.load_(\"parameters.yml\")"
   ]
  },
  {
   "cell_type": "markdown",
   "metadata": {},
   "source": [
    "# The APIs\n",
    "Tensorflow includes 2 new APIs that help with a lot of common task and ensure good practices:\n",
    "* Dataset API: used for ETL purposes\n",
    "* Estimator API: helps with the common tasks of traning, evalauating and doing inference. Includes lots of tensorflow best practices.\n",
    "\n",
    "![estimator_architecture](https://cdn-images-1.medium.com/max/1600/1*zoNZvvuJb06yAghetc6BfQ.png)\n",
    "\n",
    "The Estimator API makes us implement a couple of functions:\n",
    "* `train_input_fn`\n",
    "* `test_input_fn`\n",
    "* `model_fn`\n",
    "\n",
    "Although you could fuse the input functions into a single function it you structure you code well. For more information I recommend these resouces:\n",
    "* [Higher-Level APIs in TensorFlow](https://medium.com/onfido-tech/higher-level-apis-in-tensorflow-67bfb602e6c0)\n",
    "* [Introduction to TensorFlow Datasets and Estimators](https://developers.googleblog.com/2017/09/introducing-tensorflow-datasets.html)"
   ]
  },
  {
   "cell_type": "markdown",
   "metadata": {},
   "source": [
    "## Dataget\n",
    "To download and import the MNIST dataset we will use `dataget` here but you can import the mnist however you want, there are various ways to import the mnist like using keras sample datasets. The first time you run this code `dataget` will download, extract, and transform the `MNIST` to jpg images; any subsequent calls use the cached data. "
   ]
  },
  {
   "cell_type": "code",
   "execution_count": 2,
   "metadata": {},
   "outputs": [
    {
     "data": {
      "text/plain": [
       "Index(['class_id', 'filename'], dtype='object')"
      ]
     },
     "execution_count": 2,
     "metadata": {},
     "output_type": "execute_result"
    }
   ],
   "source": [
    "dataset = dg.data(\"mnist\").get() # use .get(rm = True) is something fails\n",
    "\n",
    "dataset.df.columns"
   ]
  },
  {
   "cell_type": "markdown",
   "metadata": {},
   "source": [
    "Dataget's `df` property give us the dataset as a pandas dataframe. The images are not loaded, it give us the absolute path of the image in the `filename` column and the corresping label in the `class_id` column. We will use TensorFlow to load the images.\n",
    "\n",
    "## Input\n",
    "The first thing we will do is create an input pipeline by implementing the `input_fn` function. This function will take a dataframe, the parameters, the training mode, and return a dictionary of feature tensors. Here we will heavily rely on the `Dataset` class in the `tf.data` module. It has many useful function to transform and filter data like:\n",
    "* `map`\n",
    "* `filter`\n",
    "* `flat_map`\n",
    "* `take`\n",
    "* `skip`\n",
    "* etc\n",
    "\n",
    "as well as methods to load data. \n",
    "\n",
    "Concretely our input function should take no arguments and return a`features` object, which can be a single tensor or a structure of tensors, and a`labels` tensor. We will create a function that accepts parameters and turn it into a parameter-less function by using a lambda later."
   ]
  },
  {
   "cell_type": "code",
   "execution_count": 3,
   "metadata": {},
   "outputs": [],
   "source": [
    "def input_fn(df, params, mode):\n",
    "    # helper function to read the data from a file\n",
    "    def parse(row):\n",
    "\n",
    "        img = tf.read_file(row[\"filename\"])\n",
    "        img = tf.image.decode_jpeg(img, channels = 1)\n",
    "        img = tf.image.resize_images(img, params.img_shape)\n",
    "\n",
    "        row[\"image\"] = img\n",
    "        \n",
    "        return row\n",
    "\n",
    "\n",
    "    # create the dataset from numpy arrays\n",
    "    ds = tf.data.Dataset.from_tensor_slices(dict(\n",
    "        filename = df.filename.as_matrix(), \n",
    "        class_id = df.class_id.as_matrix(),\n",
    "    ))\n",
    "    # read the images\n",
    "    ds = ds.map(parse)\n",
    "    \n",
    "    # if training, shuffle, batch, and repeat for n epochs\n",
    "    if mode == tf.estimator.ModeKeys.TRAIN:\n",
    "        ds = ds.shuffle(buffer_size = params.buffer_size)\n",
    "        ds = ds.apply(tf.contrib.data.batch_and_drop_remainder(params.batch_size))\n",
    "        ds = ds.repeat(params.epochs)\n",
    "    else:\n",
    "        ds = ds.batch(params.batch_size)\n",
    "    \n",
    "    # use prefetching to optimize training speed by getting data concurrently\n",
    "    # while the gpu performs training\n",
    "    ds = ds.prefetch(1)\n",
    "\n",
    "    # get iterator and feature tensors\n",
    "    iterator = ds.make_one_shot_iterator()\n",
    "    features = iterator.get_next()\n",
    "\n",
    "    return features, None"
   ]
  },
  {
   "cell_type": "markdown",
   "metadata": {},
   "source": [
    "Before testing our input pipeline we have to shuffle and split the data properly into training and testing. We can use dataget for this purpose."
   ]
  },
  {
   "cell_type": "code",
   "execution_count": 4,
   "metadata": {},
   "outputs": [],
   "source": [
    "df = dataset.df\n",
    "df = dg.shuffle(df)\n",
    "df_train, df_test = dg.split(df, 0.8)"
   ]
  },
  {
   "cell_type": "markdown",
   "metadata": {},
   "source": [
    "Now lets call our input function to get tensor operations that will iterate through our dataset."
   ]
  },
  {
   "cell_type": "code",
   "execution_count": 5,
   "metadata": {},
   "outputs": [
    {
     "name": "stdout",
     "output_type": "stream",
     "text": [
      "filename: Tensor(\"IteratorGetNext:1\", shape=(64,), dtype=string)\n",
      "class_id: Tensor(\"IteratorGetNext:0\", shape=(64,), dtype=int64)\n",
      "image: Tensor(\"IteratorGetNext:2\", shape=(64, 28, 28, 1), dtype=float32)\n"
     ]
    }
   ],
   "source": [
    "features, _ = input_fn(df_train, params, tf.estimator.ModeKeys.TRAIN)\n",
    "\n",
    "for name, tensor in features.items():\n",
    "    print(\"{}: {}\".format(name, tensor))"
   ]
  },
  {
   "cell_type": "markdown",
   "metadata": {},
   "source": [
    "Notice that they have a fixed batch size, but most importantly they are not placeholders! This is a little different from the common (naive?) way of feading data through `feed_dict` and you can do tons of optimizations.\n",
    "\n",
    "Now lets get a single batch of data by running our tensors. We will visualize the images using matplotlib."
   ]
  },
  {
   "cell_type": "code",
   "execution_count": 6,
   "metadata": {},
   "outputs": [
    {
     "data": {
      "image/png": "[encoded data removed]",
      "text/plain": [
       "<matplotlib.figure.Figure at 0x7f42c02b8a58>"
      ]
     },
     "metadata": {},
     "output_type": "display_data"
    },
    {
     "data": {
      "image/png": "[encoded data removed]",
      "text/plain": [
       "<matplotlib.figure.Figure at 0x7f4293aad9b0>"
      ]
     },
     "metadata": {},
     "output_type": "display_data"
    },
    {
     "data": {
      "image/png": "[encoded data removed]",
      "text/plain": [
       "<matplotlib.figure.Figure at 0x7f42933ac048>"
      ]
     },
     "metadata": {},
     "output_type": "display_data"
    },
    {
     "data": {
      "image/png": "[encoded data removed]",
      "text/plain": [
       "<matplotlib.figure.Figure at 0x7f42b84b1390>"
      ]
     },
     "metadata": {},
     "output_type": "display_data"
    },
    {
     "data": {
      "image/png": "[encoded data removed]",
      "text/plain": [
       "<matplotlib.figure.Figure at 0x7f42b82545f8>"
      ]
     },
     "metadata": {},
     "output_type": "display_data"
    },
    {
     "data": {
      "image/png": "[encoded data removed]",
      "text/plain": [
       "<matplotlib.figure.Figure at 0x7f42b80e3cc0>"
      ]
     },
     "metadata": {},
     "output_type": "display_data"
    },
    {
     "data": {
      "image/png": "[encoded data removed]",
      "text/plain": [
       "<matplotlib.figure.Figure at 0x7f4293f3b940>"
      ]
     },
     "metadata": {},
     "output_type": "display_data"
    },
    {
     "data": {
      "image/png": "[encoded data removed]",
      "text/plain": [
       "<matplotlib.figure.Figure at 0x7f4293b51390>"
      ]
     },
     "metadata": {},
     "output_type": "display_data"
    },
    {
     "data": {
      "image/png": "[encoded data removed]",
      "text/plain": [
       "<matplotlib.figure.Figure at 0x7f4293ae3dd8>"
      ]
     },
     "metadata": {},
     "output_type": "display_data"
    },
    {
     "data": {
      "image/png": "[encoded data removed]",
      "text/plain": [
       "<matplotlib.figure.Figure at 0x7f42936ba160>"
      ]
     },
     "metadata": {},
     "output_type": "display_data"
    },
    {
     "data": {
      "image/png": "[encoded data removed]",
      "text/plain": [
       "<matplotlib.figure.Figure at 0x7f429374e438>"
      ]
     },
     "metadata": {},
     "output_type": "display_data"
    },
    {
     "data": {
      "image/png": "[encoded data removed]",
      "text/plain": [
       "<matplotlib.figure.Figure at 0x7f4293263be0>"
      ]
     },
     "metadata": {},
     "output_type": "display_data"
    }
   ],
   "source": [
    "image = features[\"image\"]\n",
    "class_id = features[\"class_id\"]\n",
    "    \n",
    "images, class_ids = sess.run([image, class_id])\n",
    "\n",
    "for tup in cz.partition(5, zip(images, class_ids)):\n",
    "\n",
    "    fig, axes = plt.subplots(1, 5, subplot_kw=dict())\n",
    "\n",
    "    for i, (img, class_id) in enumerate(tup):\n",
    "\n",
    "\n",
    "        img = np.squeeze(img).astype(np.uint8)\n",
    "\n",
    "        axes[i].imshow(img, cmap=\"gray\")\n",
    "        axes[i].title.set_text(class_id)\n",
    "        axes[i].get_yaxis().set_visible(False)\n",
    "        axes[i].get_xaxis().set_visible(False)\n",
    "\n",
    "\n",
    "\n",
    "plt.show()"
   ]
  },
  {
   "cell_type": "markdown",
   "metadata": {},
   "source": [
    "### Model Architecture\n",
    "The model architecture is arguably the most fun part of doing Deep Learning, also the part one less spends time coding. While it is not required by the Estimator API, its a good practice to split the code from the Neural Network architecture from the rest of the code and, if possible, make the architecture reusable. We get both of these benefits by using [sonnet](https://github.com/deepmind/sonnet) which is Deep Mind's library that helps you create reusable structures.\n",
    "\n",
    "More precisely  we will be creating a small [All Convolutional Neural Network](https://arxiv.org/abs/1412.6806) with the following structure:\n",
    "\n",
    "* Conv2D: 16 filters, kernel 4x4, stride 2, padding same, relu activation, batch normalization.\n",
    "* Conv2D: 32 filters, kernel 4x4, stride 2, padding same, relu activation, batch normalization.\n",
    "* Conv2D: 64 filters, kernel 3x3, stride 1, padding valid, relu activation, batch normalization.\n",
    "* Conv2D: 10 filters, kernel 3x3, stride 1, padding valid, relu activation.\n",
    "* Global Average Pooling\n",
    "* Softmax Activation\n",
    "\n",
    "#### Sonnet\n",
    "Using sonnet is easy, we just have to create a class that inherits from `sonnet.AbstractModule` and implement it `_build` method. `_build` takes an inputs object containing the inputs tensors, constructs the main graph of the neural network, and returns an output structure of tensors."
   ]
  },
  {
   "cell_type": "code",
   "execution_count": 7,
   "metadata": {},
   "outputs": [],
   "source": [
    "class AllCNNN(snt.AbstractModule):\n",
    "    \n",
    "    def __init__(self, *args, **kwargs):\n",
    "        kwargs[\"name\"] = kwargs.get(\"name\", \"AllCNN\")\n",
    "        super(AllCNNN, self).__init__(*args, **kwargs)\n",
    "    \n",
    "    def _build(self, inputs):\n",
    "        \n",
    "        print(\"##########################\")\n",
    "        print(\"## AllCNN\")\n",
    "        print(\"##########################\")\n",
    "        \n",
    "        net = inputs[\"image\"]; print(net)\n",
    "        training = inputs[\"mode\"] == tf.estimator.ModeKeys.TRAIN\n",
    "        \n",
    "        net = ti.layers.conv2d_batch_norm(net, 16, [4, 4], strides = 2, activation = tf.nn.relu, \n",
    "                                          padding = \"same\", batch_norm = dict(training = training)); print(net)\n",
    "        \n",
    "        \n",
    "        net = ti.layers.conv2d_batch_norm(net, 32, [4, 4], strides = 2, activation = tf.nn.relu, \n",
    "                                          padding = \"same\", batch_norm = dict(training = training)); print(net)\n",
    "        \n",
    "        \n",
    "        net = ti.layers.conv2d_batch_norm(net, 64, [3, 3], strides = 1, activation = tf.nn.relu, \n",
    "                                          padding = \"valid\", batch_norm = dict(training = training)); print(net)\n",
    "        \n",
    "        \n",
    "        with tf.variable_scope(\"Conv2d\"):\n",
    "            net = tf.layers.conv2d(net, 10, [3, 3], strides = 1, activation = tf.nn.relu, \n",
    "                                   padding = \"valid\")\n",
    "            \n",
    "        print(net)\n",
    "        \n",
    "        \n",
    "        \n",
    "        # global average pooling\n",
    "        logits = net = tf.reduce_mean(net, axis = [1, 2]); print(net)\n",
    "        \n",
    "        # predictions\n",
    "        predictions = net = tf.nn.softmax(logits); print(net)\n",
    "    \n",
    "        print(\"\")\n",
    "        \n",
    "        return logits, predictions"
   ]
  },
  {
   "cell_type": "markdown",
   "metadata": {},
   "source": [
    "Just to verify our architecture is correct we will create an input tensors and construct neural network using our `AllCNN` sonnet module."
   ]
  },
  {
   "cell_type": "code",
   "execution_count": 8,
   "metadata": {},
   "outputs": [
    {
     "name": "stdout",
     "output_type": "stream",
     "text": [
      "##########################\n",
      "## AllCNN\n",
      "##########################\n",
      "Tensor(\"input_layer_1:0\", shape=(?, 28, 28, 1), dtype=float32)\n",
      "Tensor(\"AllCNN/Conv2dBatchNorm/Relu:0\", shape=(?, 14, 14, 16), dtype=float32)\n",
      "Tensor(\"AllCNN/Conv2dBatchNorm_1/Relu:0\", shape=(?, 7, 7, 32), dtype=float32)\n",
      "Tensor(\"AllCNN/Conv2dBatchNorm_2/Relu:0\", shape=(?, 5, 5, 64), dtype=float32)\n",
      "Tensor(\"AllCNN/Conv2d/conv2d/Relu:0\", shape=(?, 3, 3, 10), dtype=float32)\n",
      "Tensor(\"AllCNN/Mean:0\", shape=(?, 10), dtype=float32)\n",
      "Tensor(\"AllCNN/Softmax:0\", shape=(?, 10), dtype=float32)\n",
      "\n"
     ]
    }
   ],
   "source": [
    "inputs = dict(\n",
    "    image = tf.layers.Input(shape=(28, 28, 1)),\n",
    "    mode = tf.estimator.ModeKeys.TRAIN,\n",
    ")\n",
    "\n",
    "all_cnn = AllCNNN()\n",
    "logits, predictions = all_cnn(inputs)"
   ]
  },
  {
   "cell_type": "markdown",
   "metadata": {},
   "source": [
    "### The Model\n",
    "Finally we can create our last piece in the estimator API, the model function. This function takes in 4 arguments:\n",
    "* `features` tensor/structure from `ìnput_fn`\n",
    "* `labels` tensor from `ìnput_fn`\n",
    "* `mode` enum indicating the current mode (training, testing or predicting)\n",
    "* `params` dict with hyperparameters and other information we might want to pass\n",
    "\n",
    "The model function should return a `tf.estimator.EstimatorSpec` with information such as `predictions`, `loss` and `train_op`, depending on the `mode`. Our model function is going to execute the following steps:\n",
    "1. Create the network architecture to get the predictions.\n",
    "1. Use the predictions and labels to construct the loss.\n",
    "1. Use the loss and construct the traning operation. It will use the Adam Optimizer as our algorithm to perform Stochastic Gradient Descent."
   ]
  },
  {
   "cell_type": "code",
   "execution_count": 9,
   "metadata": {},
   "outputs": [],
   "source": [
    "def model_fn(features, labels, mode, params):\n",
    "    \n",
    "    inputs = features\n",
    "    inputs[\"mode\"] = mode\n",
    "    \n",
    "    # create networks\n",
    "    all_cnn = AllCNNN()\n",
    "    \n",
    "    # predictions\n",
    "    logits, predictions = all_cnn(inputs)\n",
    "    \n",
    "    \n",
    "    if mode == tf.estimator.ModeKeys.PREDICT:\n",
    "        return tf.estimator.EstimatorSpec(\n",
    "            mode = mode,\n",
    "            predictions = dict(\n",
    "                classes = predictions,\n",
    "                image = inputs[\"image\"],\n",
    "            )\n",
    "        )\n",
    "    \n",
    "    \n",
    "    # loss\n",
    "    labels = features[\"class_id\"]\n",
    "    onehot_labels = tf.one_hot(labels, 10)\n",
    "    \n",
    "    loss = tf.losses.softmax_cross_entropy(logits = logits, onehot_labels = onehot_labels)\n",
    "    loss = tf.reduce_mean(loss)\n",
    "    \n",
    "    if mode == tf.estimator.ModeKeys.EVAL:\n",
    "        return tf.estimator.EstimatorSpec(\n",
    "            mode = mode,\n",
    "            predictions = predictions,\n",
    "            loss = loss,\n",
    "            eval_metric_ops = dict(\n",
    "                accuracy = tf.metrics.accuracy(\n",
    "                    labels = labels,\n",
    "                    predictions = tf.argmax(predictions, axis = 1)\n",
    "                )\n",
    "            )\n",
    "        )\n",
    "    \n",
    "    #update\n",
    "    with tf.control_dependencies(tf.get_collection(tf.GraphKeys.UPDATE_OPS)):\n",
    "        update = tf.train.AdamOptimizer(params[\"learning_rate\"]).minimize(loss, global_step = tf.train.get_global_step())\n",
    "        \n",
    "    \n",
    "    accuracy = tf.contrib.metrics.accuracy(\n",
    "        labels = labels,\n",
    "        predictions = tf.argmax(predictions, axis = 1)\n",
    "    )\n",
    "        \n",
    "    # metrics\n",
    "    tf.summary.scalar(\"accuracy\", accuracy)\n",
    "    \n",
    "    \n",
    "    return tf.estimator.EstimatorSpec(\n",
    "        mode = mode,\n",
    "        predictions = predictions,\n",
    "        loss = loss,\n",
    "        train_op = update,\n",
    "        training_hooks = [\n",
    "            tf.train.LoggingTensorHook(\n",
    "                dict(\n",
    "                    loss = loss, \n",
    "                    accuracy = accuracy\n",
    "                ),  \n",
    "                every_n_iter = 50\n",
    "            )\n",
    "        ],\n",
    "    )"
   ]
  },
  {
   "cell_type": "markdown",
   "metadata": {},
   "source": [
    "## Estimator\n",
    "Now that we have all of our functions creating the Estimator object is quite easy. We just pass it the `model_fn`, a directory were we want to store our model, the params object. Here we additionally pass a `RunConfig` object to control the frequency of checkpoints and summaries."
   ]
  },
  {
   "cell_type": "code",
   "execution_count": 10,
   "metadata": {},
   "outputs": [
    {
     "name": "stdout",
     "output_type": "stream",
     "text": [
      "INFO:tensorflow:Using config: {'_model_dir': 'models/all_cnn', '_tf_random_seed': None, '_save_summary_steps': 50, '_save_checkpoints_steps': 50, '_save_checkpoints_secs': None, '_session_config': None, '_keep_checkpoint_max': 5, '_keep_checkpoint_every_n_hours': 10000, '_log_step_count_steps': 100, '_service': None, '_cluster_spec': <tensorflow.python.training.server_lib.ClusterSpec object at 0x7f42932a3b70>, '_task_type': 'worker', '_task_id': 0, '_master': '', '_is_chief': True, '_num_ps_replicas': 0, '_num_worker_replicas': 1}\n"
     ]
    }
   ],
   "source": [
    "estimator = tf.estimator.Estimator(\n",
    "    model_fn = model_fn,\n",
    "    model_dir = params.model_dir,\n",
    "    params = params,\n",
    "    config = tf.estimator.RunConfig(save_checkpoints_steps = params.checkpoint_steps, save_summary_steps = params.summary_steps)\n",
    ")"
   ]
  },
  {
   "cell_type": "markdown",
   "metadata": {},
   "source": [
    "The estimator object by itself doesn't do anything but it contains the `train`, `evaluate` and `predict` methods which will do all the hard work. \n",
    "\n",
    "#### Train\n",
    "The `train` method accepts a parameterless `input_fn`, since our `input_fn` has parameters, we will just create a parameterless lambda that return our `input_fn` applied to the corresponding training parameters capture by the *closure* of the labmda. Excecuting this method will infact train our network!"
   ]
  },
  {
   "cell_type": "code",
   "execution_count": 11,
   "metadata": {},
   "outputs": [
    {
     "name": "stdout",
     "output_type": "stream",
     "text": [
      "##########################\n",
      "## AllCNN\n",
      "##########################\n",
      "Tensor(\"IteratorGetNext:2\", shape=(64, 28, 28, 1), dtype=float32, device=/device:CPU:0)\n",
      "Tensor(\"AllCNN/Conv2dBatchNorm/Relu:0\", shape=(64, 14, 14, 16), dtype=float32)\n",
      "Tensor(\"AllCNN/Conv2dBatchNorm_1/Relu:0\", shape=(64, 7, 7, 32), dtype=float32)\n",
      "Tensor(\"AllCNN/Conv2dBatchNorm_2/Relu:0\", shape=(64, 5, 5, 64), dtype=float32)\n",
      "Tensor(\"AllCNN/Conv2d/conv2d/Relu:0\", shape=(64, 3, 3, 10), dtype=float32)\n",
      "Tensor(\"AllCNN/Mean:0\", shape=(64, 10), dtype=float32)\n",
      "Tensor(\"AllCNN/Softmax:0\", shape=(64, 10), dtype=float32)\n",
      "\n",
      "WARNING:tensorflow:From /home/dgromov/anaconda3/envs/dataget/lib/python3.6/site-packages/tensorflow/python/ops/losses/losses_impl.py:691: softmax_cross_entropy_with_logits (from tensorflow.python.ops.nn_ops) is deprecated and will be removed in a future version.\n",
      "Instructions for updating:\n",
      "\n",
      "Future major versions of TensorFlow will allow gradients to flow\n",
      "into the labels input on backprop by default.\n",
      "\n",
      "See tf.nn.softmax_cross_entropy_with_logits_v2.\n",
      "\n",
      "INFO:tensorflow:Create CheckpointSaverHook.\n",
      "INFO:tensorflow:Restoring parameters from models/all_cnn/model.ckpt-8750\n",
      "INFO:tensorflow:Saving checkpoints for 8751 into models/all_cnn/model.ckpt.\n",
      "INFO:tensorflow:loss = 0.005173388, step = 8751\n",
      "INFO:tensorflow:loss = 0.005173388, accuracy = 1.0\n",
      "INFO:tensorflow:Saving checkpoints for 8801 into models/all_cnn/model.ckpt.\n",
      "INFO:tensorflow:loss = 0.015124851, accuracy = 1.0 (1.472 sec)\n",
      "INFO:tensorflow:Saving checkpoints for 8851 into models/all_cnn/model.ckpt.\n",
      "INFO:tensorflow:global_step/sec: 39.786\n",
      "INFO:tensorflow:loss = 0.057312526, step = 8851 (2.514 sec)\n",
      "INFO:tensorflow:loss = 0.057312526, accuracy = 0.96875 (1.042 sec)\n",
      "INFO:tensorflow:Saving checkpoints for 8901 into models/all_cnn/model.ckpt.\n",
      "INFO:tensorflow:loss = 0.0068672732, accuracy = 1.0 (1.065 sec)\n",
      "INFO:tensorflow:Saving checkpoints for 8951 into models/all_cnn/model.ckpt.\n",
      "INFO:tensorflow:global_step/sec: 42.4798\n",
      "INFO:tensorflow:loss = 0.011799523, step = 8951 (2.356 sec)\n",
      "INFO:tensorflow:loss = 0.011799523, accuracy = 1.0 (1.291 sec)\n",
      "INFO:tensorflow:Saving checkpoints for 9001 into models/all_cnn/model.ckpt.\n",
      "INFO:tensorflow:loss = 0.021634055, accuracy = 0.984375 (1.240 sec)\n",
      "INFO:tensorflow:Saving checkpoints for 9051 into models/all_cnn/model.ckpt.\n",
      "INFO:tensorflow:global_step/sec: 42.1914\n",
      "INFO:tensorflow:loss = 0.004610423, step = 9051 (2.369 sec)\n",
      "INFO:tensorflow:loss = 0.004610423, accuracy = 1.0 (1.128 sec)\n",
      "INFO:tensorflow:Saving checkpoints for 9101 into models/all_cnn/model.ckpt.\n",
      "INFO:tensorflow:loss = 0.010427596, accuracy = 1.0 (1.087 sec)\n",
      "INFO:tensorflow:Saving checkpoints for 9151 into models/all_cnn/model.ckpt.\n",
      "INFO:tensorflow:global_step/sec: 36.9936\n",
      "INFO:tensorflow:loss = 0.0030027726, step = 9151 (2.704 sec)\n",
      "INFO:tensorflow:loss = 0.0030027726, accuracy = 1.0 (1.617 sec)\n",
      "INFO:tensorflow:Saving checkpoints for 9201 into models/all_cnn/model.ckpt.\n",
      "INFO:tensorflow:loss = 0.018981189, accuracy = 0.984375 (1.308 sec)\n",
      "INFO:tensorflow:Saving checkpoints for 9251 into models/all_cnn/model.ckpt.\n",
      "INFO:tensorflow:global_step/sec: 40.1535\n",
      "INFO:tensorflow:loss = 0.006525091, step = 9251 (2.491 sec)\n",
      "INFO:tensorflow:loss = 0.006525091, accuracy = 1.0 (1.182 sec)\n",
      "INFO:tensorflow:Saving checkpoints for 9301 into models/all_cnn/model.ckpt.\n",
      "INFO:tensorflow:loss = 0.0052999244, accuracy = 1.0 (1.085 sec)\n",
      "INFO:tensorflow:Saving checkpoints for 9351 into models/all_cnn/model.ckpt.\n",
      "INFO:tensorflow:global_step/sec: 45.2986\n",
      "INFO:tensorflow:loss = 0.029429879, step = 9351 (2.207 sec)\n",
      "INFO:tensorflow:loss = 0.029429879, accuracy = 0.984375 (1.121 sec)\n",
      "INFO:tensorflow:Saving checkpoints for 9401 into models/all_cnn/model.ckpt.\n",
      "INFO:tensorflow:loss = 0.007749001, accuracy = 1.0 (1.031 sec)\n",
      "INFO:tensorflow:Saving checkpoints for 9451 into models/all_cnn/model.ckpt.\n",
      "INFO:tensorflow:global_step/sec: 46.3998\n",
      "INFO:tensorflow:loss = 0.016767643, step = 9451 (2.157 sec)\n",
      "INFO:tensorflow:loss = 0.016767643, accuracy = 0.984375 (1.126 sec)\n",
      "INFO:tensorflow:Saving checkpoints for 9501 into models/all_cnn/model.ckpt.\n",
      "INFO:tensorflow:loss = 0.0043832283, accuracy = 1.0 (1.035 sec)\n",
      "INFO:tensorflow:Saving checkpoints for 9551 into models/all_cnn/model.ckpt.\n",
      "INFO:tensorflow:global_step/sec: 47.4743\n",
      "INFO:tensorflow:loss = 0.019217728, step = 9551 (2.106 sec)\n",
      "INFO:tensorflow:loss = 0.019217728, accuracy = 0.984375 (1.072 sec)\n",
      "INFO:tensorflow:Saving checkpoints for 9601 into models/all_cnn/model.ckpt.\n",
      "INFO:tensorflow:loss = 0.052614603, accuracy = 0.984375 (1.215 sec)\n",
      "INFO:tensorflow:Saving checkpoints for 9651 into models/all_cnn/model.ckpt.\n",
      "INFO:tensorflow:global_step/sec: 52.2798\n",
      "INFO:tensorflow:loss = 0.0011224386, step = 9651 (1.912 sec)\n",
      "INFO:tensorflow:loss = 0.0011224386, accuracy = 1.0 (0.696 sec)\n",
      "INFO:tensorflow:Saving checkpoints for 9701 into models/all_cnn/model.ckpt.\n",
      "INFO:tensorflow:loss = 0.022268483, accuracy = 0.984375 (0.529 sec)\n",
      "INFO:tensorflow:Saving checkpoints for 9751 into models/all_cnn/model.ckpt.\n",
      "INFO:tensorflow:global_step/sec: 95.8824\n",
      "INFO:tensorflow:loss = 0.0021150075, step = 9751 (1.044 sec)\n",
      "INFO:tensorflow:loss = 0.0021150075, accuracy = 1.0 (0.515 sec)\n",
      "INFO:tensorflow:Saving checkpoints for 9801 into models/all_cnn/model.ckpt.\n",
      "INFO:tensorflow:loss = 0.0007458163, accuracy = 1.0 (0.535 sec)\n",
      "INFO:tensorflow:Saving checkpoints for 9851 into models/all_cnn/model.ckpt.\n",
      "INFO:tensorflow:global_step/sec: 96.6491\n",
      "INFO:tensorflow:loss = 0.0061288523, step = 9851 (1.035 sec)\n",
      "INFO:tensorflow:loss = 0.0061288523, accuracy = 1.0 (0.499 sec)\n",
      "INFO:tensorflow:Saving checkpoints for 9901 into models/all_cnn/model.ckpt.\n",
      "INFO:tensorflow:loss = 0.000919027, accuracy = 1.0 (0.517 sec)\n",
      "INFO:tensorflow:Saving checkpoints for 9951 into models/all_cnn/model.ckpt.\n",
      "INFO:tensorflow:global_step/sec: 98.0102\n",
      "INFO:tensorflow:loss = 0.045431335, step = 9951 (1.019 sec)\n",
      "INFO:tensorflow:loss = 0.045431335, accuracy = 0.984375 (0.502 sec)\n",
      "INFO:tensorflow:Saving checkpoints for 10001 into models/all_cnn/model.ckpt.\n",
      "INFO:tensorflow:loss = 0.012921717, accuracy = 1.0 (0.527 sec)\n",
      "INFO:tensorflow:Saving checkpoints for 10051 into models/all_cnn/model.ckpt.\n",
      "INFO:tensorflow:global_step/sec: 96.1835\n",
      "INFO:tensorflow:loss = 0.0037342785, step = 10051 (1.040 sec)\n",
      "INFO:tensorflow:loss = 0.0037342785, accuracy = 1.0 (0.512 sec)\n",
      "INFO:tensorflow:Saving checkpoints for 10101 into models/all_cnn/model.ckpt.\n",
      "INFO:tensorflow:loss = 0.0135377245, accuracy = 0.984375 (0.526 sec)\n",
      "INFO:tensorflow:Saving checkpoints for 10151 into models/all_cnn/model.ckpt.\n",
      "INFO:tensorflow:global_step/sec: 94.8033\n",
      "INFO:tensorflow:loss = 0.0027045445, step = 10151 (1.056 sec)\n",
      "INFO:tensorflow:loss = 0.0027045445, accuracy = 1.0 (0.532 sec)\n",
      "INFO:tensorflow:Saving checkpoints for 10201 into models/all_cnn/model.ckpt.\n",
      "INFO:tensorflow:loss = 0.004047107, accuracy = 1.0 (0.499 sec)\n",
      "INFO:tensorflow:Saving checkpoints for 10251 into models/all_cnn/model.ckpt.\n",
      "INFO:tensorflow:global_step/sec: 99.9585\n",
      "INFO:tensorflow:loss = 0.014655348, step = 10251 (0.999 sec)\n",
      "INFO:tensorflow:loss = 0.014655348, accuracy = 1.0 (0.498 sec)\n",
      "INFO:tensorflow:Saving checkpoints for 10301 into models/all_cnn/model.ckpt.\n",
      "INFO:tensorflow:loss = 0.0018025156, accuracy = 1.0 (0.507 sec)\n",
      "INFO:tensorflow:Saving checkpoints for 10351 into models/all_cnn/model.ckpt.\n",
      "INFO:tensorflow:global_step/sec: 84.206\n",
      "INFO:tensorflow:loss = 0.054361068, step = 10351 (1.188 sec)\n",
      "INFO:tensorflow:loss = 0.054361068, accuracy = 0.984375 (0.682 sec)\n",
      "INFO:tensorflow:Saving checkpoints for 10401 into models/all_cnn/model.ckpt.\n",
      "INFO:tensorflow:loss = 0.0013372815, accuracy = 1.0 (0.564 sec)\n",
      "INFO:tensorflow:Saving checkpoints for 10451 into models/all_cnn/model.ckpt.\n",
      "INFO:tensorflow:global_step/sec: 88.6243\n",
      "INFO:tensorflow:loss = 0.0031574166, step = 10451 (1.129 sec)\n",
      "INFO:tensorflow:loss = 0.0031574166, accuracy = 1.0 (0.564 sec)\n",
      "INFO:tensorflow:Saving checkpoints for 10501 into models/all_cnn/model.ckpt.\n",
      "INFO:tensorflow:loss = 0.0021306602, accuracy = 1.0 (0.688 sec)\n",
      "INFO:tensorflow:Saving checkpoints for 10551 into models/all_cnn/model.ckpt.\n",
      "INFO:tensorflow:global_step/sec: 73.8804\n",
      "INFO:tensorflow:loss = 0.0061758244, step = 10551 (1.352 sec)\n",
      "INFO:tensorflow:loss = 0.0061758244, accuracy = 1.0 (0.664 sec)\n"
     ]
    },
    {
     "name": "stdout",
     "output_type": "stream",
     "text": [
      "INFO:tensorflow:Saving checkpoints for 10601 into models/all_cnn/model.ckpt.\n",
      "INFO:tensorflow:loss = 0.0019210952, accuracy = 1.0 (0.514 sec)\n",
      "INFO:tensorflow:Saving checkpoints for 10651 into models/all_cnn/model.ckpt.\n",
      "INFO:tensorflow:global_step/sec: 96.4623\n",
      "INFO:tensorflow:loss = 0.08336115, step = 10651 (1.037 sec)\n",
      "INFO:tensorflow:loss = 0.08336115, accuracy = 0.96875 (0.524 sec)\n",
      "INFO:tensorflow:Saving checkpoints for 10701 into models/all_cnn/model.ckpt.\n",
      "INFO:tensorflow:loss = 0.0023368201, accuracy = 1.0 (0.694 sec)\n",
      "INFO:tensorflow:Saving checkpoints for 10751 into models/all_cnn/model.ckpt.\n",
      "INFO:tensorflow:global_step/sec: 76.1971\n",
      "INFO:tensorflow:loss = 0.0017693648, step = 10751 (1.312 sec)\n",
      "INFO:tensorflow:loss = 0.0017693648, accuracy = 1.0 (0.617 sec)\n",
      "INFO:tensorflow:Saving checkpoints for 10801 into models/all_cnn/model.ckpt.\n",
      "INFO:tensorflow:loss = 0.0027484787, accuracy = 1.0 (0.527 sec)\n",
      "INFO:tensorflow:Saving checkpoints for 10851 into models/all_cnn/model.ckpt.\n",
      "INFO:tensorflow:global_step/sec: 95.0963\n",
      "INFO:tensorflow:loss = 0.004794697, step = 10851 (1.052 sec)\n",
      "INFO:tensorflow:loss = 0.004794697, accuracy = 1.0 (0.524 sec)\n",
      "INFO:tensorflow:Saving checkpoints for 10901 into models/all_cnn/model.ckpt.\n",
      "INFO:tensorflow:loss = 0.024822323, accuracy = 0.984375 (0.519 sec)\n",
      "INFO:tensorflow:Saving checkpoints for 10951 into models/all_cnn/model.ckpt.\n",
      "INFO:tensorflow:global_step/sec: 98.1451\n",
      "INFO:tensorflow:loss = 0.007648084, step = 10951 (1.019 sec)\n",
      "INFO:tensorflow:loss = 0.007648084, accuracy = 1.0 (0.500 sec)\n",
      "INFO:tensorflow:Saving checkpoints for 11001 into models/all_cnn/model.ckpt.\n",
      "INFO:tensorflow:loss = 0.0026937807, accuracy = 1.0 (0.532 sec)\n",
      "INFO:tensorflow:Saving checkpoints for 11051 into models/all_cnn/model.ckpt.\n",
      "INFO:tensorflow:global_step/sec: 96.1392\n",
      "INFO:tensorflow:loss = 0.012627168, step = 11051 (1.040 sec)\n",
      "INFO:tensorflow:loss = 0.012627168, accuracy = 1.0 (0.508 sec)\n",
      "INFO:tensorflow:Saving checkpoints for 11101 into models/all_cnn/model.ckpt.\n",
      "INFO:tensorflow:loss = 0.0012062384, accuracy = 1.0 (0.509 sec)\n",
      "INFO:tensorflow:Saving checkpoints for 11151 into models/all_cnn/model.ckpt.\n",
      "INFO:tensorflow:global_step/sec: 98.3541\n",
      "INFO:tensorflow:loss = 0.004409835, step = 11151 (1.017 sec)\n",
      "INFO:tensorflow:loss = 0.004409835, accuracy = 1.0 (0.507 sec)\n",
      "INFO:tensorflow:Saving checkpoints for 11201 into models/all_cnn/model.ckpt.\n",
      "INFO:tensorflow:loss = 0.00056709803, accuracy = 1.0 (0.510 sec)\n",
      "INFO:tensorflow:Saving checkpoints for 11251 into models/all_cnn/model.ckpt.\n",
      "INFO:tensorflow:global_step/sec: 98.4892\n",
      "INFO:tensorflow:loss = 0.0042586313, step = 11251 (1.015 sec)\n",
      "INFO:tensorflow:loss = 0.0042586313, accuracy = 1.0 (0.506 sec)\n",
      "INFO:tensorflow:Saving checkpoints for 11301 into models/all_cnn/model.ckpt.\n",
      "INFO:tensorflow:loss = 0.06944964, accuracy = 0.96875 (0.506 sec)\n",
      "INFO:tensorflow:Saving checkpoints for 11351 into models/all_cnn/model.ckpt.\n",
      "INFO:tensorflow:global_step/sec: 98.9569\n",
      "INFO:tensorflow:loss = 0.00027605367, step = 11351 (1.011 sec)\n",
      "INFO:tensorflow:loss = 0.00027605367, accuracy = 1.0 (0.504 sec)\n",
      "INFO:tensorflow:Saving checkpoints for 11401 into models/all_cnn/model.ckpt.\n",
      "INFO:tensorflow:loss = 0.04304811, accuracy = 0.96875 (0.531 sec)\n",
      "INFO:tensorflow:Saving checkpoints for 11451 into models/all_cnn/model.ckpt.\n",
      "INFO:tensorflow:global_step/sec: 94.4054\n",
      "INFO:tensorflow:loss = 0.062086828, step = 11451 (1.060 sec)\n",
      "INFO:tensorflow:loss = 0.062086828, accuracy = 0.96875 (0.530 sec)\n",
      "INFO:tensorflow:Saving checkpoints for 11501 into models/all_cnn/model.ckpt.\n",
      "INFO:tensorflow:loss = 0.00019719616, accuracy = 1.0 (0.528 sec)\n",
      "INFO:tensorflow:Saving checkpoints for 11551 into models/all_cnn/model.ckpt.\n",
      "INFO:tensorflow:global_step/sec: 95.8727\n",
      "INFO:tensorflow:loss = 0.02399452, step = 11551 (1.042 sec)\n",
      "INFO:tensorflow:loss = 0.02399452, accuracy = 0.984375 (0.514 sec)\n",
      "INFO:tensorflow:Saving checkpoints for 11601 into models/all_cnn/model.ckpt.\n",
      "INFO:tensorflow:loss = 0.002263837, accuracy = 1.0 (0.508 sec)\n",
      "INFO:tensorflow:Saving checkpoints for 11651 into models/all_cnn/model.ckpt.\n",
      "INFO:tensorflow:global_step/sec: 99.5937\n",
      "INFO:tensorflow:loss = 0.0047687115, step = 11651 (1.004 sec)\n",
      "INFO:tensorflow:loss = 0.0047687115, accuracy = 1.0 (0.496 sec)\n",
      "INFO:tensorflow:Saving checkpoints for 11701 into models/all_cnn/model.ckpt.\n",
      "INFO:tensorflow:loss = 0.0002720774, accuracy = 1.0 (0.509 sec)\n",
      "INFO:tensorflow:Saving checkpoints for 11751 into models/all_cnn/model.ckpt.\n",
      "INFO:tensorflow:global_step/sec: 98.6039\n",
      "INFO:tensorflow:loss = 0.0013963138, step = 11751 (1.015 sec)\n",
      "INFO:tensorflow:loss = 0.0013963138, accuracy = 1.0 (0.506 sec)\n",
      "INFO:tensorflow:Saving checkpoints for 11801 into models/all_cnn/model.ckpt.\n",
      "INFO:tensorflow:loss = 0.0005283212, accuracy = 1.0 (0.522 sec)\n",
      "INFO:tensorflow:Saving checkpoints for 11851 into models/all_cnn/model.ckpt.\n",
      "INFO:tensorflow:global_step/sec: 97.231\n",
      "INFO:tensorflow:loss = 0.00066452095, step = 11851 (1.028 sec)\n",
      "INFO:tensorflow:loss = 0.00066452095, accuracy = 1.0 (0.507 sec)\n",
      "INFO:tensorflow:Saving checkpoints for 11901 into models/all_cnn/model.ckpt.\n",
      "INFO:tensorflow:loss = 0.0029470604, accuracy = 1.0 (0.512 sec)\n",
      "INFO:tensorflow:Saving checkpoints for 11951 into models/all_cnn/model.ckpt.\n",
      "INFO:tensorflow:global_step/sec: 98.7036\n",
      "INFO:tensorflow:loss = 0.06900077, step = 11951 (1.012 sec)\n",
      "INFO:tensorflow:loss = 0.06900077, accuracy = 0.984375 (0.500 sec)\n",
      "INFO:tensorflow:Saving checkpoints for 12001 into models/all_cnn/model.ckpt.\n",
      "INFO:tensorflow:loss = 0.00031995898, accuracy = 1.0 (0.531 sec)\n",
      "INFO:tensorflow:Saving checkpoints for 12051 into models/all_cnn/model.ckpt.\n",
      "INFO:tensorflow:global_step/sec: 93.4105\n",
      "INFO:tensorflow:loss = 0.018340632, step = 12051 (1.071 sec)\n",
      "INFO:tensorflow:loss = 0.018340632, accuracy = 0.984375 (0.541 sec)\n",
      "INFO:tensorflow:Saving checkpoints for 12101 into models/all_cnn/model.ckpt.\n",
      "INFO:tensorflow:loss = 0.017641077, accuracy = 0.984375 (0.501 sec)\n",
      "INFO:tensorflow:Saving checkpoints for 12151 into models/all_cnn/model.ckpt.\n",
      "INFO:tensorflow:global_step/sec: 99.6812\n",
      "INFO:tensorflow:loss = 0.0005184215, step = 12151 (1.003 sec)\n",
      "INFO:tensorflow:loss = 0.0005184215, accuracy = 1.0 (0.501 sec)\n",
      "INFO:tensorflow:Saving checkpoints for 12201 into models/all_cnn/model.ckpt.\n",
      "INFO:tensorflow:loss = 0.0036475922, accuracy = 1.0 (0.505 sec)\n",
      "INFO:tensorflow:Saving checkpoints for 12251 into models/all_cnn/model.ckpt.\n",
      "INFO:tensorflow:global_step/sec: 97.2551\n",
      "INFO:tensorflow:loss = 0.018344617, step = 12251 (1.028 sec)\n",
      "INFO:tensorflow:loss = 0.018344617, accuracy = 1.0 (0.523 sec)\n",
      "INFO:tensorflow:Saving checkpoints for 12301 into models/all_cnn/model.ckpt.\n",
      "INFO:tensorflow:loss = 0.0003725671, accuracy = 1.0 (0.510 sec)\n",
      "INFO:tensorflow:Saving checkpoints for 12351 into models/all_cnn/model.ckpt.\n",
      "INFO:tensorflow:global_step/sec: 98.2326\n",
      "INFO:tensorflow:loss = 0.0005167971, step = 12351 (1.018 sec)\n",
      "INFO:tensorflow:loss = 0.0005167971, accuracy = 1.0 (0.508 sec)\n",
      "INFO:tensorflow:Saving checkpoints for 12401 into models/all_cnn/model.ckpt.\n",
      "INFO:tensorflow:loss = 0.006630857, accuracy = 1.0 (0.517 sec)\n",
      "INFO:tensorflow:Saving checkpoints for 12451 into models/all_cnn/model.ckpt.\n",
      "INFO:tensorflow:global_step/sec: 97.6761\n",
      "INFO:tensorflow:loss = 0.0055680685, step = 12451 (1.025 sec)\n",
      "INFO:tensorflow:loss = 0.0055680685, accuracy = 1.0 (0.508 sec)\n",
      "INFO:tensorflow:Saving checkpoints for 12501 into models/all_cnn/model.ckpt.\n",
      "INFO:tensorflow:loss = 0.0005681176, accuracy = 1.0 (0.511 sec)\n",
      "INFO:tensorflow:Saving checkpoints for 12551 into models/all_cnn/model.ckpt.\n",
      "INFO:tensorflow:global_step/sec: 97.845\n",
      "INFO:tensorflow:loss = 0.00042289324, step = 12551 (1.021 sec)\n",
      "INFO:tensorflow:loss = 0.00042289324, accuracy = 1.0 (0.513 sec)\n",
      "INFO:tensorflow:Saving checkpoints for 12601 into models/all_cnn/model.ckpt.\n",
      "INFO:tensorflow:loss = 0.0011776746, accuracy = 1.0 (0.514 sec)\n",
      "INFO:tensorflow:Saving checkpoints for 12651 into models/all_cnn/model.ckpt.\n",
      "INFO:tensorflow:global_step/sec: 98.2811\n",
      "INFO:tensorflow:loss = 0.002809513, step = 12651 (1.017 sec)\n",
      "INFO:tensorflow:loss = 0.002809513, accuracy = 1.0 (0.504 sec)\n",
      "INFO:tensorflow:Saving checkpoints for 12701 into models/all_cnn/model.ckpt.\n",
      "INFO:tensorflow:loss = 0.0012609859, accuracy = 1.0 (0.514 sec)\n"
     ]
    },
    {
     "name": "stdout",
     "output_type": "stream",
     "text": [
      "INFO:tensorflow:Saving checkpoints for 12751 into models/all_cnn/model.ckpt.\n",
      "INFO:tensorflow:global_step/sec: 98.5802\n",
      "INFO:tensorflow:loss = 0.00031537996, step = 12751 (1.014 sec)\n",
      "INFO:tensorflow:loss = 0.00031537996, accuracy = 1.0 (0.496 sec)\n",
      "INFO:tensorflow:Saving checkpoints for 12801 into models/all_cnn/model.ckpt.\n",
      "INFO:tensorflow:loss = 0.0013401177, accuracy = 1.0 (0.509 sec)\n",
      "INFO:tensorflow:Saving checkpoints for 12851 into models/all_cnn/model.ckpt.\n",
      "INFO:tensorflow:global_step/sec: 99.1366\n",
      "INFO:tensorflow:loss = 0.0047183624, step = 12851 (1.010 sec)\n",
      "INFO:tensorflow:loss = 0.0047183624, accuracy = 1.0 (0.501 sec)\n",
      "INFO:tensorflow:Saving checkpoints for 12901 into models/all_cnn/model.ckpt.\n",
      "INFO:tensorflow:loss = 0.041399125, accuracy = 0.96875 (0.499 sec)\n",
      "INFO:tensorflow:Saving checkpoints for 12951 into models/all_cnn/model.ckpt.\n",
      "INFO:tensorflow:global_step/sec: 99.0949\n",
      "INFO:tensorflow:loss = 8.3435836e-05, step = 12951 (1.008 sec)\n",
      "INFO:tensorflow:loss = 8.3435836e-05, accuracy = 1.0 (0.509 sec)\n",
      "INFO:tensorflow:Saving checkpoints for 13001 into models/all_cnn/model.ckpt.\n",
      "INFO:tensorflow:loss = 0.0011059875, accuracy = 1.0 (0.507 sec)\n",
      "INFO:tensorflow:Saving checkpoints for 13051 into models/all_cnn/model.ckpt.\n",
      "INFO:tensorflow:global_step/sec: 97.0127\n",
      "INFO:tensorflow:loss = 0.0012878323, step = 13051 (1.031 sec)\n",
      "INFO:tensorflow:loss = 0.0012878323, accuracy = 1.0 (0.524 sec)\n",
      "INFO:tensorflow:Saving checkpoints for 13101 into models/all_cnn/model.ckpt.\n",
      "INFO:tensorflow:loss = 0.0005156967, accuracy = 1.0 (0.506 sec)\n",
      "INFO:tensorflow:Saving checkpoints for 13151 into models/all_cnn/model.ckpt.\n",
      "INFO:tensorflow:global_step/sec: 96.8785\n",
      "INFO:tensorflow:loss = 0.0014118649, step = 13151 (1.033 sec)\n",
      "INFO:tensorflow:loss = 0.0014118649, accuracy = 1.0 (0.527 sec)\n",
      "INFO:tensorflow:Saving checkpoints for 13201 into models/all_cnn/model.ckpt.\n",
      "INFO:tensorflow:loss = 0.00038040796, accuracy = 1.0 (0.518 sec)\n",
      "INFO:tensorflow:Saving checkpoints for 13251 into models/all_cnn/model.ckpt.\n",
      "INFO:tensorflow:global_step/sec: 98.1972\n",
      "INFO:tensorflow:loss = 0.0102542825, step = 13251 (1.017 sec)\n",
      "INFO:tensorflow:loss = 0.0102542825, accuracy = 1.0 (0.499 sec)\n",
      "INFO:tensorflow:Saving checkpoints for 13301 into models/all_cnn/model.ckpt.\n",
      "INFO:tensorflow:loss = 0.010770999, accuracy = 1.0 (0.500 sec)\n",
      "INFO:tensorflow:Saving checkpoints for 13351 into models/all_cnn/model.ckpt.\n",
      "INFO:tensorflow:global_step/sec: 100.929\n",
      "INFO:tensorflow:loss = 0.00046588207, step = 13351 (0.992 sec)\n",
      "INFO:tensorflow:loss = 0.00046588207, accuracy = 1.0 (0.492 sec)\n",
      "INFO:tensorflow:Saving checkpoints for 13401 into models/all_cnn/model.ckpt.\n",
      "INFO:tensorflow:loss = 0.011589747, accuracy = 1.0 (0.513 sec)\n",
      "INFO:tensorflow:Saving checkpoints for 13451 into models/all_cnn/model.ckpt.\n",
      "INFO:tensorflow:global_step/sec: 96.3766\n",
      "INFO:tensorflow:loss = 0.00068706914, step = 13451 (1.037 sec)\n",
      "INFO:tensorflow:loss = 0.00068706914, accuracy = 1.0 (0.524 sec)\n",
      "INFO:tensorflow:Saving checkpoints for 13501 into models/all_cnn/model.ckpt.\n",
      "INFO:tensorflow:loss = 0.0013588638, accuracy = 1.0 (0.506 sec)\n",
      "INFO:tensorflow:Saving checkpoints for 13551 into models/all_cnn/model.ckpt.\n",
      "INFO:tensorflow:global_step/sec: 99.5423\n",
      "INFO:tensorflow:loss = 0.010116339, step = 13551 (1.005 sec)\n",
      "INFO:tensorflow:loss = 0.010116339, accuracy = 1.0 (0.499 sec)\n",
      "INFO:tensorflow:Saving checkpoints for 13601 into models/all_cnn/model.ckpt.\n",
      "INFO:tensorflow:loss = 0.0027921326, accuracy = 1.0 (0.503 sec)\n",
      "INFO:tensorflow:Saving checkpoints for 13651 into models/all_cnn/model.ckpt.\n",
      "INFO:tensorflow:global_step/sec: 99.2082\n",
      "INFO:tensorflow:loss = 0.0008960852, step = 13651 (1.008 sec)\n",
      "INFO:tensorflow:loss = 0.0008960852, accuracy = 1.0 (0.505 sec)\n",
      "INFO:tensorflow:Saving checkpoints for 13701 into models/all_cnn/model.ckpt.\n",
      "INFO:tensorflow:loss = 0.0006455028, accuracy = 1.0 (0.517 sec)\n",
      "INFO:tensorflow:Saving checkpoints for 13751 into models/all_cnn/model.ckpt.\n",
      "INFO:tensorflow:global_step/sec: 97.3282\n",
      "INFO:tensorflow:loss = 0.0001307804, step = 13751 (1.027 sec)\n",
      "INFO:tensorflow:loss = 0.0001307804, accuracy = 1.0 (0.510 sec)\n",
      "INFO:tensorflow:Saving checkpoints for 13801 into models/all_cnn/model.ckpt.\n",
      "INFO:tensorflow:loss = 0.0036036298, accuracy = 1.0 (0.522 sec)\n",
      "INFO:tensorflow:Saving checkpoints for 13851 into models/all_cnn/model.ckpt.\n",
      "INFO:tensorflow:global_step/sec: 95.8392\n",
      "INFO:tensorflow:loss = 5.198334e-05, step = 13851 (1.045 sec)\n",
      "INFO:tensorflow:loss = 5.198334e-05, accuracy = 1.0 (0.528 sec)\n",
      "INFO:tensorflow:Saving checkpoints for 13901 into models/all_cnn/model.ckpt.\n",
      "INFO:tensorflow:loss = 0.0012333103, accuracy = 1.0 (0.530 sec)\n",
      "INFO:tensorflow:Saving checkpoints for 13951 into models/all_cnn/model.ckpt.\n",
      "INFO:tensorflow:global_step/sec: 94.8353\n",
      "INFO:tensorflow:loss = 0.000432054, step = 13951 (1.053 sec)\n",
      "INFO:tensorflow:loss = 0.000432054, accuracy = 1.0 (0.519 sec)\n",
      "INFO:tensorflow:Saving checkpoints for 14001 into models/all_cnn/model.ckpt.\n",
      "INFO:tensorflow:loss = 7.133634e-05, accuracy = 1.0 (0.534 sec)\n",
      "INFO:tensorflow:Saving checkpoints for 14051 into models/all_cnn/model.ckpt.\n",
      "INFO:tensorflow:global_step/sec: 96.7238\n",
      "INFO:tensorflow:loss = 0.0073795114, step = 14051 (1.034 sec)\n",
      "INFO:tensorflow:loss = 0.0073795114, accuracy = 1.0 (0.500 sec)\n",
      "INFO:tensorflow:Saving checkpoints for 14101 into models/all_cnn/model.ckpt.\n",
      "INFO:tensorflow:loss = 0.008703285, accuracy = 1.0 (0.514 sec)\n",
      "INFO:tensorflow:Saving checkpoints for 14151 into models/all_cnn/model.ckpt.\n",
      "INFO:tensorflow:global_step/sec: 98.184\n",
      "INFO:tensorflow:loss = 0.010781405, step = 14151 (1.018 sec)\n",
      "INFO:tensorflow:loss = 0.010781405, accuracy = 1.0 (0.505 sec)\n",
      "INFO:tensorflow:Saving checkpoints for 14201 into models/all_cnn/model.ckpt.\n",
      "INFO:tensorflow:loss = 0.0050620316, accuracy = 1.0 (0.517 sec)\n",
      "INFO:tensorflow:Saving checkpoints for 14251 into models/all_cnn/model.ckpt.\n",
      "INFO:tensorflow:global_step/sec: 98.009\n",
      "INFO:tensorflow:loss = 0.0001640381, step = 14251 (1.020 sec)\n",
      "INFO:tensorflow:loss = 0.0001640381, accuracy = 1.0 (0.502 sec)\n",
      "INFO:tensorflow:Saving checkpoints for 14301 into models/all_cnn/model.ckpt.\n",
      "INFO:tensorflow:loss = 0.004892528, accuracy = 1.0 (0.521 sec)\n",
      "INFO:tensorflow:Saving checkpoints for 14351 into models/all_cnn/model.ckpt.\n",
      "INFO:tensorflow:global_step/sec: 97.3516\n",
      "INFO:tensorflow:loss = 0.00013136445, step = 14351 (1.028 sec)\n",
      "INFO:tensorflow:loss = 0.00013136445, accuracy = 1.0 (0.507 sec)\n",
      "INFO:tensorflow:Saving checkpoints for 14401 into models/all_cnn/model.ckpt.\n",
      "INFO:tensorflow:loss = 0.0048424946, accuracy = 1.0 (0.522 sec)\n",
      "INFO:tensorflow:Saving checkpoints for 14451 into models/all_cnn/model.ckpt.\n",
      "INFO:tensorflow:global_step/sec: 97.0153\n",
      "INFO:tensorflow:loss = 0.008889619, step = 14451 (1.030 sec)\n",
      "INFO:tensorflow:loss = 0.008889619, accuracy = 1.0 (0.508 sec)\n",
      "INFO:tensorflow:Saving checkpoints for 14501 into models/all_cnn/model.ckpt.\n",
      "INFO:tensorflow:loss = 0.0008496267, accuracy = 1.0 (0.504 sec)\n",
      "INFO:tensorflow:Saving checkpoints for 14551 into models/all_cnn/model.ckpt.\n",
      "INFO:tensorflow:global_step/sec: 99.299\n",
      "INFO:tensorflow:loss = 0.03146205, step = 14551 (1.008 sec)\n",
      "INFO:tensorflow:loss = 0.03146205, accuracy = 0.984375 (0.504 sec)\n",
      "INFO:tensorflow:Saving checkpoints for 14601 into models/all_cnn/model.ckpt.\n",
      "INFO:tensorflow:loss = 0.0002875342, accuracy = 1.0 (0.515 sec)\n",
      "INFO:tensorflow:Saving checkpoints for 14651 into models/all_cnn/model.ckpt.\n",
      "INFO:tensorflow:global_step/sec: 97.6218\n",
      "INFO:tensorflow:loss = 0.0060791955, step = 14651 (1.024 sec)\n",
      "INFO:tensorflow:loss = 0.0060791955, accuracy = 1.0 (0.509 sec)\n",
      "INFO:tensorflow:Saving checkpoints for 14701 into models/all_cnn/model.ckpt.\n",
      "INFO:tensorflow:loss = 0.014765738, accuracy = 0.984375 (0.531 sec)\n",
      "INFO:tensorflow:Saving checkpoints for 14751 into models/all_cnn/model.ckpt.\n",
      "INFO:tensorflow:global_step/sec: 96.3659\n",
      "INFO:tensorflow:loss = 0.0012045893, step = 14751 (1.038 sec)\n",
      "INFO:tensorflow:loss = 0.0012045893, accuracy = 1.0 (0.506 sec)\n",
      "INFO:tensorflow:Saving checkpoints for 14801 into models/all_cnn/model.ckpt.\n",
      "INFO:tensorflow:loss = 0.00086718204, accuracy = 1.0 (0.518 sec)\n",
      "INFO:tensorflow:Saving checkpoints for 14851 into models/all_cnn/model.ckpt.\n",
      "INFO:tensorflow:global_step/sec: 96.9659\n"
     ]
    },
    {
     "name": "stdout",
     "output_type": "stream",
     "text": [
      "INFO:tensorflow:loss = 0.0036293515, step = 14851 (1.031 sec)\n",
      "INFO:tensorflow:loss = 0.0036293515, accuracy = 1.0 (0.513 sec)\n",
      "INFO:tensorflow:Saving checkpoints for 14901 into models/all_cnn/model.ckpt.\n",
      "INFO:tensorflow:loss = 0.0014003605, accuracy = 1.0 (0.536 sec)\n",
      "INFO:tensorflow:Saving checkpoints for 14951 into models/all_cnn/model.ckpt.\n",
      "INFO:tensorflow:global_step/sec: 95.505\n",
      "INFO:tensorflow:loss = 0.00088121777, step = 14951 (1.047 sec)\n",
      "INFO:tensorflow:loss = 0.00088121777, accuracy = 1.0 (0.511 sec)\n",
      "INFO:tensorflow:Saving checkpoints for 15001 into models/all_cnn/model.ckpt.\n",
      "INFO:tensorflow:loss = 0.0015540661, accuracy = 1.0 (0.503 sec)\n",
      "INFO:tensorflow:Saving checkpoints for 15051 into models/all_cnn/model.ckpt.\n",
      "INFO:tensorflow:global_step/sec: 99.7771\n",
      "INFO:tensorflow:loss = 0.07747096, step = 15051 (1.004 sec)\n",
      "INFO:tensorflow:loss = 0.07747096, accuracy = 0.984375 (0.501 sec)\n",
      "INFO:tensorflow:Saving checkpoints for 15101 into models/all_cnn/model.ckpt.\n",
      "INFO:tensorflow:loss = 0.0015161056, accuracy = 1.0 (0.496 sec)\n",
      "INFO:tensorflow:Saving checkpoints for 15151 into models/all_cnn/model.ckpt.\n",
      "INFO:tensorflow:global_step/sec: 99.8582\n",
      "INFO:tensorflow:loss = 0.064966746, step = 15151 (1.000 sec)\n",
      "INFO:tensorflow:loss = 0.064966746, accuracy = 0.984375 (0.505 sec)\n",
      "INFO:tensorflow:Saving checkpoints for 15201 into models/all_cnn/model.ckpt.\n",
      "INFO:tensorflow:loss = 0.0088477135, accuracy = 1.0 (0.509 sec)\n",
      "INFO:tensorflow:Saving checkpoints for 15251 into models/all_cnn/model.ckpt.\n",
      "INFO:tensorflow:global_step/sec: 98.8678\n",
      "INFO:tensorflow:loss = 0.011369455, step = 15251 (1.011 sec)\n",
      "INFO:tensorflow:loss = 0.011369455, accuracy = 1.0 (0.501 sec)\n",
      "INFO:tensorflow:Saving checkpoints for 15301 into models/all_cnn/model.ckpt.\n",
      "INFO:tensorflow:loss = 1.0772759e-05, accuracy = 1.0 (0.506 sec)\n",
      "INFO:tensorflow:Saving checkpoints for 15351 into models/all_cnn/model.ckpt.\n",
      "INFO:tensorflow:global_step/sec: 99.272\n",
      "INFO:tensorflow:loss = 0.0018759421, step = 15351 (1.009 sec)\n",
      "INFO:tensorflow:loss = 0.0018759421, accuracy = 1.0 (0.508 sec)\n",
      "INFO:tensorflow:Saving checkpoints for 15401 into models/all_cnn/model.ckpt.\n",
      "INFO:tensorflow:loss = 0.0015493121, accuracy = 1.0 (0.518 sec)\n",
      "INFO:tensorflow:Saving checkpoints for 15451 into models/all_cnn/model.ckpt.\n",
      "INFO:tensorflow:global_step/sec: 96.7126\n",
      "INFO:tensorflow:loss = 0.007472261, step = 15451 (1.034 sec)\n",
      "INFO:tensorflow:loss = 0.007472261, accuracy = 1.0 (0.512 sec)\n",
      "INFO:tensorflow:Saving checkpoints for 15501 into models/all_cnn/model.ckpt.\n",
      "INFO:tensorflow:loss = 0.024816362, accuracy = 0.984375 (0.511 sec)\n",
      "INFO:tensorflow:Saving checkpoints for 15551 into models/all_cnn/model.ckpt.\n",
      "INFO:tensorflow:global_step/sec: 98.8093\n",
      "INFO:tensorflow:loss = 0.0009605787, step = 15551 (1.015 sec)\n",
      "INFO:tensorflow:loss = 0.0009605787, accuracy = 1.0 (0.504 sec)\n",
      "INFO:tensorflow:Saving checkpoints for 15601 into models/all_cnn/model.ckpt.\n",
      "INFO:tensorflow:loss = 0.011968014, accuracy = 1.0 (0.505 sec)\n",
      "INFO:tensorflow:Saving checkpoints for 15651 into models/all_cnn/model.ckpt.\n",
      "INFO:tensorflow:global_step/sec: 97.7931\n",
      "INFO:tensorflow:loss = 0.0069506415, step = 15651 (1.018 sec)\n",
      "INFO:tensorflow:loss = 0.0069506415, accuracy = 1.0 (0.514 sec)\n",
      "INFO:tensorflow:Saving checkpoints for 15701 into models/all_cnn/model.ckpt.\n",
      "INFO:tensorflow:loss = 0.004903268, accuracy = 1.0 (0.514 sec)\n",
      "INFO:tensorflow:Saving checkpoints for 15751 into models/all_cnn/model.ckpt.\n",
      "INFO:tensorflow:global_step/sec: 96.3011\n",
      "INFO:tensorflow:loss = 5.4938715e-05, step = 15751 (1.038 sec)\n",
      "INFO:tensorflow:loss = 5.4938715e-05, accuracy = 1.0 (0.524 sec)\n",
      "INFO:tensorflow:Saving checkpoints for 15801 into models/all_cnn/model.ckpt.\n",
      "INFO:tensorflow:loss = 0.0171633, accuracy = 0.984375 (0.505 sec)\n",
      "INFO:tensorflow:Saving checkpoints for 15851 into models/all_cnn/model.ckpt.\n",
      "INFO:tensorflow:global_step/sec: 98.016\n",
      "INFO:tensorflow:loss = 0.0015573299, step = 15851 (1.020 sec)\n",
      "INFO:tensorflow:loss = 0.0015573299, accuracy = 1.0 (0.515 sec)\n",
      "INFO:tensorflow:Saving checkpoints for 15901 into models/all_cnn/model.ckpt.\n",
      "INFO:tensorflow:loss = 0.00043201694, accuracy = 1.0 (0.531 sec)\n",
      "INFO:tensorflow:Saving checkpoints for 15951 into models/all_cnn/model.ckpt.\n",
      "INFO:tensorflow:global_step/sec: 95.9156\n",
      "INFO:tensorflow:loss = 0.0017010637, step = 15951 (1.044 sec)\n",
      "INFO:tensorflow:loss = 0.0017010637, accuracy = 1.0 (0.513 sec)\n",
      "INFO:tensorflow:Saving checkpoints for 16001 into models/all_cnn/model.ckpt.\n",
      "INFO:tensorflow:loss = 0.00023525106, accuracy = 1.0 (0.500 sec)\n",
      "INFO:tensorflow:Saving checkpoints for 16051 into models/all_cnn/model.ckpt.\n",
      "INFO:tensorflow:global_step/sec: 97.6957\n",
      "INFO:tensorflow:loss = 0.022292659, step = 16051 (1.022 sec)\n",
      "INFO:tensorflow:loss = 0.022292659, accuracy = 0.984375 (0.522 sec)\n",
      "INFO:tensorflow:Saving checkpoints for 16101 into models/all_cnn/model.ckpt.\n",
      "INFO:tensorflow:loss = 0.0039080926, accuracy = 1.0 (0.506 sec)\n",
      "INFO:tensorflow:Saving checkpoints for 16151 into models/all_cnn/model.ckpt.\n",
      "INFO:tensorflow:global_step/sec: 97.6877\n",
      "INFO:tensorflow:loss = 0.0070580747, step = 16151 (1.023 sec)\n",
      "INFO:tensorflow:loss = 0.0070580747, accuracy = 1.0 (0.517 sec)\n",
      "INFO:tensorflow:Saving checkpoints for 16201 into models/all_cnn/model.ckpt.\n",
      "INFO:tensorflow:loss = 0.00014038882, accuracy = 1.0 (0.502 sec)\n",
      "INFO:tensorflow:Saving checkpoints for 16251 into models/all_cnn/model.ckpt.\n",
      "INFO:tensorflow:global_step/sec: 99.0637\n",
      "INFO:tensorflow:loss = 0.004460762, step = 16251 (1.009 sec)\n",
      "INFO:tensorflow:loss = 0.004460762, accuracy = 1.0 (0.507 sec)\n",
      "INFO:tensorflow:Saving checkpoints for 16301 into models/all_cnn/model.ckpt.\n",
      "INFO:tensorflow:loss = 0.008393521, accuracy = 1.0 (0.514 sec)\n",
      "INFO:tensorflow:Saving checkpoints for 16351 into models/all_cnn/model.ckpt.\n",
      "INFO:tensorflow:global_step/sec: 98.0292\n",
      "INFO:tensorflow:loss = 0.002583385, step = 16351 (1.020 sec)\n",
      "INFO:tensorflow:loss = 0.002583385, accuracy = 1.0 (0.506 sec)\n",
      "INFO:tensorflow:Saving checkpoints for 16401 into models/all_cnn/model.ckpt.\n",
      "INFO:tensorflow:loss = 0.00079401117, accuracy = 1.0 (0.530 sec)\n",
      "INFO:tensorflow:Saving checkpoints for 16451 into models/all_cnn/model.ckpt.\n",
      "INFO:tensorflow:global_step/sec: 97.4515\n",
      "INFO:tensorflow:loss = 0.0055598305, step = 16451 (1.026 sec)\n",
      "INFO:tensorflow:loss = 0.0055598305, accuracy = 1.0 (0.497 sec)\n",
      "INFO:tensorflow:Saving checkpoints for 16501 into models/all_cnn/model.ckpt.\n",
      "INFO:tensorflow:loss = 0.0055635516, accuracy = 1.0 (0.534 sec)\n",
      "INFO:tensorflow:Saving checkpoints for 16551 into models/all_cnn/model.ckpt.\n",
      "INFO:tensorflow:global_step/sec: 96.5706\n",
      "INFO:tensorflow:loss = 0.003492869, step = 16551 (1.035 sec)\n",
      "INFO:tensorflow:loss = 0.003492869, accuracy = 1.0 (0.501 sec)\n",
      "INFO:tensorflow:Saving checkpoints for 16601 into models/all_cnn/model.ckpt.\n",
      "INFO:tensorflow:loss = 0.0009941973, accuracy = 1.0 (0.526 sec)\n",
      "INFO:tensorflow:Saving checkpoints for 16651 into models/all_cnn/model.ckpt.\n",
      "INFO:tensorflow:global_step/sec: 93.6881\n",
      "INFO:tensorflow:loss = 0.00027230647, step = 16651 (1.069 sec)\n",
      "INFO:tensorflow:loss = 0.00027230647, accuracy = 1.0 (0.543 sec)\n",
      "INFO:tensorflow:Saving checkpoints for 16701 into models/all_cnn/model.ckpt.\n",
      "INFO:tensorflow:loss = 0.00041440033, accuracy = 1.0 (0.507 sec)\n",
      "INFO:tensorflow:Saving checkpoints for 16751 into models/all_cnn/model.ckpt.\n",
      "INFO:tensorflow:global_step/sec: 98.6424\n",
      "INFO:tensorflow:loss = 0.00013430946, step = 16751 (1.013 sec)\n",
      "INFO:tensorflow:loss = 0.00013430946, accuracy = 1.0 (0.507 sec)\n",
      "INFO:tensorflow:Saving checkpoints for 16801 into models/all_cnn/model.ckpt.\n",
      "INFO:tensorflow:loss = 0.00016160005, accuracy = 1.0 (0.516 sec)\n",
      "INFO:tensorflow:Saving checkpoints for 16851 into models/all_cnn/model.ckpt.\n",
      "INFO:tensorflow:global_step/sec: 97.5485\n",
      "INFO:tensorflow:loss = 0.00021638814, step = 16851 (1.025 sec)\n",
      "INFO:tensorflow:loss = 0.00021638814, accuracy = 1.0 (0.508 sec)\n",
      "INFO:tensorflow:Saving checkpoints for 16901 into models/all_cnn/model.ckpt.\n",
      "INFO:tensorflow:loss = 0.0012812661, accuracy = 1.0 (0.528 sec)\n",
      "INFO:tensorflow:Saving checkpoints for 16951 into models/all_cnn/model.ckpt.\n",
      "INFO:tensorflow:global_step/sec: 96.4961\n",
      "INFO:tensorflow:loss = 0.0017485681, step = 16951 (1.038 sec)\n",
      "INFO:tensorflow:loss = 0.0017485681, accuracy = 1.0 (0.510 sec)\n"
     ]
    },
    {
     "name": "stdout",
     "output_type": "stream",
     "text": [
      "INFO:tensorflow:Saving checkpoints for 17001 into models/all_cnn/model.ckpt.\n",
      "INFO:tensorflow:loss = 1.88791e-05, accuracy = 1.0 (0.507 sec)\n",
      "INFO:tensorflow:Saving checkpoints for 17051 into models/all_cnn/model.ckpt.\n",
      "INFO:tensorflow:global_step/sec: 99.3254\n",
      "INFO:tensorflow:loss = 0.0015584815, step = 17051 (1.005 sec)\n",
      "INFO:tensorflow:loss = 0.0015584815, accuracy = 1.0 (0.498 sec)\n",
      "INFO:tensorflow:Saving checkpoints for 17101 into models/all_cnn/model.ckpt.\n",
      "INFO:tensorflow:loss = 0.011652514, accuracy = 1.0 (0.508 sec)\n",
      "INFO:tensorflow:Saving checkpoints for 17151 into models/all_cnn/model.ckpt.\n",
      "INFO:tensorflow:global_step/sec: 99.5962\n",
      "INFO:tensorflow:loss = 0.0009820904, step = 17151 (1.004 sec)\n",
      "INFO:tensorflow:loss = 0.0009820904, accuracy = 1.0 (0.496 sec)\n",
      "INFO:tensorflow:Saving checkpoints for 17201 into models/all_cnn/model.ckpt.\n",
      "INFO:tensorflow:loss = 0.0001246125, accuracy = 1.0 (0.526 sec)\n",
      "INFO:tensorflow:Saving checkpoints for 17251 into models/all_cnn/model.ckpt.\n",
      "INFO:tensorflow:global_step/sec: 97.9727\n",
      "INFO:tensorflow:loss = 0.0026522023, step = 17251 (1.020 sec)\n",
      "INFO:tensorflow:loss = 0.0026522023, accuracy = 1.0 (0.495 sec)\n",
      "INFO:tensorflow:Saving checkpoints for 17301 into models/all_cnn/model.ckpt.\n",
      "INFO:tensorflow:loss = 3.769993e-05, accuracy = 1.0 (0.506 sec)\n",
      "INFO:tensorflow:Saving checkpoints for 17351 into models/all_cnn/model.ckpt.\n",
      "INFO:tensorflow:global_step/sec: 97.5938\n",
      "INFO:tensorflow:loss = 0.0030173557, step = 17351 (1.025 sec)\n",
      "INFO:tensorflow:loss = 0.0030173557, accuracy = 1.0 (0.519 sec)\n",
      "INFO:tensorflow:Saving checkpoints for 17401 into models/all_cnn/model.ckpt.\n",
      "INFO:tensorflow:loss = 0.011754917, accuracy = 0.984375 (0.512 sec)\n",
      "INFO:tensorflow:Saving checkpoints for 17451 into models/all_cnn/model.ckpt.\n",
      "INFO:tensorflow:global_step/sec: 99.1857\n",
      "INFO:tensorflow:loss = 0.000223969, step = 17451 (1.009 sec)\n",
      "INFO:tensorflow:loss = 0.000223969, accuracy = 1.0 (0.497 sec)\n",
      "INFO:tensorflow:Saving checkpoints for 17500 into models/all_cnn/model.ckpt.\n",
      "INFO:tensorflow:Loss for final step: 0.006866992.\n"
     ]
    },
    {
     "data": {
      "text/plain": [
       "<tensorflow.python.estimator.estimator.Estimator at 0x7f42932a3e80>"
      ]
     },
     "execution_count": 11,
     "metadata": {},
     "output_type": "execute_result"
    }
   ],
   "source": [
    "estimator.train(\n",
    "    input_fn = lambda: input_fn(\n",
    "        df_train, \n",
    "        params,\n",
    "        tf.estimator.ModeKeys.TRAIN,\n",
    "    )\n",
    ")"
   ]
  },
  {
   "cell_type": "markdown",
   "metadata": {},
   "source": [
    "#### Evaluate\n",
    "To get some metrics about our models performance we will just use the `evaluate` method which also accepts a parameterless `input_fn`, we will also give it a lambda but this time we will pass the test dataset and change the mode to `EVAL`.\n",
    "\n",
    "`evaluate` will return the computed values of `eval_metric_ops` we gave to the `EstimatorSpec` in the `EVAL` model. "
   ]
  },
  {
   "cell_type": "code",
   "execution_count": 12,
   "metadata": {},
   "outputs": [
    {
     "name": "stdout",
     "output_type": "stream",
     "text": [
      "##########################\n",
      "## AllCNN\n",
      "##########################\n",
      "Tensor(\"IteratorGetNext:2\", shape=(?, 28, 28, 1), dtype=float32, device=/device:CPU:0)\n",
      "Tensor(\"AllCNN/Conv2dBatchNorm/Relu:0\", shape=(?, 14, 14, 16), dtype=float32)\n",
      "Tensor(\"AllCNN/Conv2dBatchNorm_1/Relu:0\", shape=(?, 7, 7, 32), dtype=float32)\n",
      "Tensor(\"AllCNN/Conv2dBatchNorm_2/Relu:0\", shape=(?, 5, 5, 64), dtype=float32)\n",
      "Tensor(\"AllCNN/Conv2d/conv2d/Relu:0\", shape=(?, 3, 3, 10), dtype=float32)\n",
      "Tensor(\"AllCNN/Mean:0\", shape=(?, 10), dtype=float32)\n",
      "Tensor(\"AllCNN/Softmax:0\", shape=(?, 10), dtype=float32)\n",
      "\n",
      "INFO:tensorflow:Starting evaluation at 2018-02-22-19:07:04\n",
      "INFO:tensorflow:Restoring parameters from models/all_cnn/model.ckpt-17500\n",
      "INFO:tensorflow:Finished evaluation at 2018-02-22-19:07:09\n",
      "INFO:tensorflow:Saving dict for global step 17500: accuracy = 0.99307144, global_step = 17500, loss = 0.023666635\n"
     ]
    },
    {
     "data": {
      "text/plain": [
       "{'accuracy': 0.99307144, 'global_step': 17500, 'loss': 0.023666635}"
      ]
     },
     "execution_count": 12,
     "metadata": {},
     "output_type": "execute_result"
    }
   ],
   "source": [
    "metrics = estimator.evaluate(\n",
    "    input_fn = lambda: input_fn(\n",
    "        df_test, \n",
    "        params,\n",
    "        tf.estimator.ModeKeys.EVAL,\n",
    "    )\n",
    ")\n",
    "\n",
    "metrics"
   ]
  },
  {
   "cell_type": "markdown",
   "metadata": {},
   "source": [
    "#### Predict\n",
    "Similar to the previous methods, `predict` take the `input_fn` function but returns an iterator of the predictions for us to evaluate one by one. Firt we will just create the iterator"
   ]
  },
  {
   "cell_type": "code",
   "execution_count": 13,
   "metadata": {},
   "outputs": [],
   "source": [
    "iterator = estimator.predict(\n",
    "    input_fn = lambda: input_fn(\n",
    "        df_test, \n",
    "        params,\n",
    "        tf.estimator.ModeKeys.PREDICT,\n",
    "    )\n",
    ")"
   ]
  },
  {
   "cell_type": "markdown",
   "metadata": {},
   "source": [
    "and to end this tutorial we will perform inference some images from the test set and visualize the results! The number on top of the image is the predicted class (which should usually match), you can repeatedly run this cell to get different results."
   ]
  },
  {
   "cell_type": "code",
   "execution_count": 14,
   "metadata": {},
   "outputs": [
    {
     "name": "stdout",
     "output_type": "stream",
     "text": [
      "##########################\n",
      "## AllCNN\n",
      "##########################\n",
      "Tensor(\"IteratorGetNext:2\", shape=(?, 28, 28, 1), dtype=float32, device=/device:CPU:0)\n",
      "Tensor(\"AllCNN/Conv2dBatchNorm/Relu:0\", shape=(?, 14, 14, 16), dtype=float32)\n",
      "Tensor(\"AllCNN/Conv2dBatchNorm_1/Relu:0\", shape=(?, 7, 7, 32), dtype=float32)\n",
      "Tensor(\"AllCNN/Conv2dBatchNorm_2/Relu:0\", shape=(?, 5, 5, 64), dtype=float32)\n",
      "Tensor(\"AllCNN/Conv2d/conv2d/Relu:0\", shape=(?, 3, 3, 10), dtype=float32)\n",
      "Tensor(\"AllCNN/Mean:0\", shape=(?, 10), dtype=float32)\n",
      "Tensor(\"AllCNN/Softmax:0\", shape=(?, 10), dtype=float32)\n",
      "\n",
      "INFO:tensorflow:Restoring parameters from models/all_cnn/model.ckpt-17500\n"
     ]
    },
    {
     "data": {
      "image/png": "[encoded data removed]",
      "text/plain": [
       "<matplotlib.figure.Figure at 0x7f4290ca8908>"
      ]
     },
     "metadata": {},
     "output_type": "display_data"
    }
   ],
   "source": [
    "predictions = next(iterator)\n",
    "\n",
    "img = predictions[\"image\"]\n",
    "class_id = np.argmax(predictions[\"classes\"])\n",
    "\n",
    "ax = plt.axes()\n",
    "\n",
    "plt.imshow(img[:, :, 0], cmap=\"gray\")\n",
    "\n",
    "ax.title.set_text(class_id)\n",
    "ax.get_yaxis().set_visible(False)\n",
    "ax.get_xaxis().set_visible(False)\n",
    "\n",
    "plt.show()"
   ]
  },
  {
   "cell_type": "code",
   "execution_count": null,
   "metadata": {},
   "outputs": [],
   "source": []
  }
 ],
 "metadata": {
  "kernelspec": {
   "display_name": "Python 3",
   "language": "python",
   "name": "python3"
  },
  "language_info": {
   "codemirror_mode": {
    "name": "ipython",
    "version": 3
   },
   "file_extension": ".py",
   "mimetype": "text/x-python",
   "name": "python",
   "nbconvert_exporter": "python",
   "pygments_lexer": "ipython3",
   "version": "3.6.4"
  }
 },
 "nbformat": 4,
 "nbformat_minor": 2
}
