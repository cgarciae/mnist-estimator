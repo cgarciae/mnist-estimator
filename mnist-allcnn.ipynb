{
 "cells": [
  {
   "cell_type": "markdown",
   "metadata": {},
   "source": [
    "# Why this tutorial?\n",
    "* TensorFlow has been \"good but messy\"\n",
    "* Its been adding higher-level APIs\n",
    "* A lot of documentation and tutorials out there still use lower-level APIs\n",
    "* While basic should serve as a basis to create a real project\n",
    "* Created with some of the best practices (suggestions and pull requests are welcome).\n",
    "* The new APIs are GOOD"
   ]
  },
  {
   "cell_type": "code",
   "execution_count": null,
   "metadata": {},
   "outputs": [],
   "source": [
    "#! pip install tensorflow-probability dm-sonnet idx2numpy dataget"
   ]
  },
  {
   "cell_type": "code",
   "execution_count": 16,
   "metadata": {},
   "outputs": [
    {
     "name": "stderr",
     "output_type": "stream",
     "text": [
      "/home/cristian/anaconda3/lib/python3.6/site-packages/tensorflow/python/client/session.py:1702: UserWarning: An interactive session is already active. This can cause out-of-memory errors in some cases. You must explicitly call `InteractiveSession.close()` to release resources held by the other session(s).\n",
      "  warnings.warn('An interactive session is already active. This can '\n"
     ]
    }
   ],
   "source": [
    "%matplotlib inline \n",
    "\n",
    "import dataget as dg\n",
    "import sonnet as snt\n",
    "import tensorflow as tf\n",
    "import numpy as np\n",
    "from matplotlib import pyplot as plt\n",
    "import cytoolz as cz\n",
    "from dicto import dicto\n",
    "\n",
    "sess = tf.InteractiveSession()\n",
    "params = dicto.load_(\"parameters.yml\")"
   ]
  },
  {
   "cell_type": "markdown",
   "metadata": {},
   "source": [
    "# The APIs\n",
    "Tensorflow includes 2 new APIs that help with a lot of common task and ensure good practices:\n",
    "* Dataset API: used for ETL purposes\n",
    "* Estimator API: helps with the common tasks of traning, evalauating and doing inference. Includes lots of tensorflow best practices.\n",
    "\n",
    "![estimator_architecture](https://cdn-images-1.medium.com/max/1600/1*zoNZvvuJb06yAghetc6BfQ.png)\n",
    "\n",
    "The Estimator API makes us implement a couple of functions:\n",
    "* `train_input_fn`\n",
    "* `test_input_fn`\n",
    "* `model_fn`\n",
    "\n",
    "Although you could fuse the input functions into a single function it you structure you code well. For more information I recommend these resouces:\n",
    "* [Higher-Level APIs in TensorFlow](https://medium.com/onfido-tech/higher-level-apis-in-tensorflow-67bfb602e6c0)\n",
    "* [Introduction to TensorFlow Datasets and Estimators](https://developers.googleblog.com/2017/09/introducing-tensorflow-datasets.html)"
   ]
  },
  {
   "cell_type": "markdown",
   "metadata": {},
   "source": [
    "## Dataget\n",
    "To download and import the MNIST dataset we will use `dataget` here but you can import the mnist however you want, there are various ways to import the mnist like using keras sample datasets. The first time you run this code `dataget` will download, extract, and transform the `MNIST` to jpg images; any subsequent calls use the cached data. "
   ]
  },
  {
   "cell_type": "code",
   "execution_count": 33,
   "metadata": {},
   "outputs": [
    {
     "data": {
      "text/html": [
       "<div>\n",
       "<style>\n",
       "    .dataframe thead tr:only-child th {\n",
       "        text-align: right;\n",
       "    }\n",
       "\n",
       "    .dataframe thead th {\n",
       "        text-align: left;\n",
       "    }\n",
       "\n",
       "    .dataframe tbody tr th {\n",
       "        vertical-align: top;\n",
       "    }\n",
       "</style>\n",
       "<table border=\"1\" class=\"dataframe\">\n",
       "  <thead>\n",
       "    <tr style=\"text-align: right;\">\n",
       "      <th></th>\n",
       "      <th>class_id</th>\n",
       "      <th>filename</th>\n",
       "    </tr>\n",
       "  </thead>\n",
       "  <tbody>\n",
       "    <tr>\n",
       "      <th>28402</th>\n",
       "      <td>1</td>\n",
       "      <td>/home/cristian/.dataget/data/mnist/1/train-238...</td>\n",
       "    </tr>\n",
       "    <tr>\n",
       "      <th>30677</th>\n",
       "      <td>1</td>\n",
       "      <td>/home/cristian/.dataget/data/mnist/1/train-109...</td>\n",
       "    </tr>\n",
       "    <tr>\n",
       "      <th>15827</th>\n",
       "      <td>5</td>\n",
       "      <td>/home/cristian/.dataget/data/mnist/5/train-579...</td>\n",
       "    </tr>\n",
       "    <tr>\n",
       "      <th>68500</th>\n",
       "      <td>0</td>\n",
       "      <td>/home/cristian/.dataget/data/mnist/0/train-188...</td>\n",
       "    </tr>\n",
       "    <tr>\n",
       "      <th>22816</th>\n",
       "      <td>3</td>\n",
       "      <td>/home/cristian/.dataget/data/mnist/3/train-148...</td>\n",
       "    </tr>\n",
       "    <tr>\n",
       "      <th>57069</th>\n",
       "      <td>7</td>\n",
       "      <td>/home/cristian/.dataget/data/mnist/7/train-383...</td>\n",
       "    </tr>\n",
       "    <tr>\n",
       "      <th>12219</th>\n",
       "      <td>2</td>\n",
       "      <td>/home/cristian/.dataget/data/mnist/2/train-285...</td>\n",
       "    </tr>\n",
       "    <tr>\n",
       "      <th>34373</th>\n",
       "      <td>1</td>\n",
       "      <td>/home/cristian/.dataget/data/mnist/1/train-117...</td>\n",
       "    </tr>\n",
       "    <tr>\n",
       "      <th>9110</th>\n",
       "      <td>2</td>\n",
       "      <td>/home/cristian/.dataget/data/mnist/2/train-419...</td>\n",
       "    </tr>\n",
       "    <tr>\n",
       "      <th>9905</th>\n",
       "      <td>2</td>\n",
       "      <td>/home/cristian/.dataget/data/mnist/2/train-391...</td>\n",
       "    </tr>\n",
       "  </tbody>\n",
       "</table>\n",
       "</div>"
      ],
      "text/plain": [
       "       class_id                                           filename\n",
       "28402         1  /home/cristian/.dataget/data/mnist/1/train-238...\n",
       "30677         1  /home/cristian/.dataget/data/mnist/1/train-109...\n",
       "15827         5  /home/cristian/.dataget/data/mnist/5/train-579...\n",
       "68500         0  /home/cristian/.dataget/data/mnist/0/train-188...\n",
       "22816         3  /home/cristian/.dataget/data/mnist/3/train-148...\n",
       "57069         7  /home/cristian/.dataget/data/mnist/7/train-383...\n",
       "12219         2  /home/cristian/.dataget/data/mnist/2/train-285...\n",
       "34373         1  /home/cristian/.dataget/data/mnist/1/train-117...\n",
       "9110          2  /home/cristian/.dataget/data/mnist/2/train-419...\n",
       "9905          2  /home/cristian/.dataget/data/mnist/2/train-391..."
      ]
     },
     "execution_count": 33,
     "metadata": {},
     "output_type": "execute_result"
    }
   ],
   "source": [
    "df = dg.data(\"mnist\").get().df # use .get(rm = True) is something fails\n",
    "\n",
    "df.sample(10)"
   ]
  },
  {
   "cell_type": "markdown",
   "metadata": {},
   "source": [
    "Dataget's `df` property give us the dataset as a pandas dataframe. The images are not loaded, it give us the absolute path of the image in the `filename` column and the corresping label in the `class_id` column. We will use TensorFlow to load the images.\n",
    "\n",
    "## Input\n",
    "The first thing we will do is create an input pipeline by implementing the `input_fn` function. This function will take a dataframe, the parameters, the training mode, and return a dictionary of feature tensors. Here we will heavily rely on the `Dataset` class in the `tf.data` module. It has many useful function to transform and filter data like:\n",
    "* `map`\n",
    "* `filter`\n",
    "* `flat_map`\n",
    "* `take`\n",
    "* `skip`\n",
    "* etc\n",
    "\n",
    "as well as methods to load data. \n",
    "\n",
    "Concretely our input function should take no arguments and return a`features` object, which can be a single tensor or a structure of tensors, and a`labels` tensor. We will create a function that accepts parameters and turn it into a parameter-less function by using a lambda later."
   ]
  },
  {
   "cell_type": "code",
   "execution_count": 34,
   "metadata": {},
   "outputs": [],
   "source": [
    "def input_fn(df, params, mode):\n",
    "\n",
    "    # create the dataset from numpy arrays\n",
    "    ds = tf.data.Dataset.from_tensor_slices(dict(\n",
    "        filename = df.filename.as_matrix(), \n",
    "        class_id = df.class_id.as_matrix(),\n",
    "    ))\n",
    "    \n",
    "    # helper function to read the data from a file\n",
    "    def parse(row):\n",
    "\n",
    "        img = tf.read_file(row[\"filename\"])\n",
    "        img = tf.image.decode_jpeg(img, channels = 1)\n",
    "        img = tf.image.resize_images(img, params.img_shape)\n",
    "\n",
    "        row[\"image\"] = img\n",
    "        \n",
    "        return row\n",
    "\n",
    "    # read the images\n",
    "    ds = ds.map(parse, num_parallel_calls=6)\n",
    "    \n",
    "    \n",
    "    # if training, shuffle, batch, and repeat for n epochs\n",
    "    if mode == tf.estimator.ModeKeys.TRAIN:\n",
    "        ds = ds.shuffle(buffer_size = params.buffer_size)\n",
    "        \n",
    "    ds = ds.repeat(params.epochs)\n",
    "    ds = ds.batch(params.batch_size, drop_remainder=False)\n",
    "    \n",
    "    # use prefetching to optimize training speed by getting data concurrently\n",
    "    # while the gpu performs training\n",
    "    ds = ds.prefetch(1)\n",
    "\n",
    "    return ds"
   ]
  },
  {
   "cell_type": "markdown",
   "metadata": {},
   "source": [
    "Before testing our input pipeline we have to shuffle and split the data properly into training and testing. We can use dataget for this purpose."
   ]
  },
  {
   "cell_type": "code",
   "execution_count": 35,
   "metadata": {},
   "outputs": [
    {
     "data": {
      "text/html": [
       "<div>\n",
       "<style>\n",
       "    .dataframe thead tr:only-child th {\n",
       "        text-align: right;\n",
       "    }\n",
       "\n",
       "    .dataframe thead th {\n",
       "        text-align: left;\n",
       "    }\n",
       "\n",
       "    .dataframe tbody tr th {\n",
       "        vertical-align: top;\n",
       "    }\n",
       "</style>\n",
       "<table border=\"1\" class=\"dataframe\">\n",
       "  <thead>\n",
       "    <tr style=\"text-align: right;\">\n",
       "      <th></th>\n",
       "      <th>class_id</th>\n",
       "      <th>filename</th>\n",
       "    </tr>\n",
       "  </thead>\n",
       "  <tbody>\n",
       "    <tr>\n",
       "      <th>32041</th>\n",
       "      <td>1</td>\n",
       "      <td>/home/cristian/.dataget/data/mnist/1/train-530...</td>\n",
       "    </tr>\n",
       "    <tr>\n",
       "      <th>12111</th>\n",
       "      <td>2</td>\n",
       "      <td>/home/cristian/.dataget/data/mnist/2/test-2572...</td>\n",
       "    </tr>\n",
       "    <tr>\n",
       "      <th>29307</th>\n",
       "      <td>1</td>\n",
       "      <td>/home/cristian/.dataget/data/mnist/1/train-446...</td>\n",
       "    </tr>\n",
       "    <tr>\n",
       "      <th>33248</th>\n",
       "      <td>1</td>\n",
       "      <td>/home/cristian/.dataget/data/mnist/1/train-570...</td>\n",
       "    </tr>\n",
       "    <tr>\n",
       "      <th>34199</th>\n",
       "      <td>1</td>\n",
       "      <td>/home/cristian/.dataget/data/mnist/1/train-114...</td>\n",
       "    </tr>\n",
       "    <tr>\n",
       "      <th>32915</th>\n",
       "      <td>1</td>\n",
       "      <td>/home/cristian/.dataget/data/mnist/1/train-282...</td>\n",
       "    </tr>\n",
       "    <tr>\n",
       "      <th>54935</th>\n",
       "      <td>4</td>\n",
       "      <td>/home/cristian/.dataget/data/mnist/4/train-210...</td>\n",
       "    </tr>\n",
       "    <tr>\n",
       "      <th>39881</th>\n",
       "      <td>9</td>\n",
       "      <td>/home/cristian/.dataget/data/mnist/9/train-456...</td>\n",
       "    </tr>\n",
       "    <tr>\n",
       "      <th>14267</th>\n",
       "      <td>5</td>\n",
       "      <td>/home/cristian/.dataget/data/mnist/5/train-450...</td>\n",
       "    </tr>\n",
       "    <tr>\n",
       "      <th>44217</th>\n",
       "      <td>6</td>\n",
       "      <td>/home/cristian/.dataget/data/mnist/6/train-256...</td>\n",
       "    </tr>\n",
       "  </tbody>\n",
       "</table>\n",
       "</div>"
      ],
      "text/plain": [
       "       class_id                                           filename\n",
       "32041         1  /home/cristian/.dataget/data/mnist/1/train-530...\n",
       "12111         2  /home/cristian/.dataget/data/mnist/2/test-2572...\n",
       "29307         1  /home/cristian/.dataget/data/mnist/1/train-446...\n",
       "33248         1  /home/cristian/.dataget/data/mnist/1/train-570...\n",
       "34199         1  /home/cristian/.dataget/data/mnist/1/train-114...\n",
       "32915         1  /home/cristian/.dataget/data/mnist/1/train-282...\n",
       "54935         4  /home/cristian/.dataget/data/mnist/4/train-210...\n",
       "39881         9  /home/cristian/.dataget/data/mnist/9/train-456...\n",
       "14267         5  /home/cristian/.dataget/data/mnist/5/train-450...\n",
       "44217         6  /home/cristian/.dataget/data/mnist/6/train-256..."
      ]
     },
     "execution_count": 35,
     "metadata": {},
     "output_type": "execute_result"
    }
   ],
   "source": [
    "df = dg.shuffle(df)\n",
    "df_train, df_test = dg.split(df, 0.8)\n",
    "\n",
    "df_train.sample(10)"
   ]
  },
  {
   "cell_type": "markdown",
   "metadata": {},
   "source": [
    "Now lets call our input function to get tensor operations that will iterate through our dataset."
   ]
  },
  {
   "cell_type": "code",
   "execution_count": 37,
   "metadata": {},
   "outputs": [
    {
     "name": "stdout",
     "output_type": "stream",
     "text": [
      "filename: Tensor(\"IteratorGetNext_7:1\", shape=(?,), dtype=string)\n",
      "class_id: Tensor(\"IteratorGetNext_7:0\", shape=(?,), dtype=int64)\n",
      "image: Tensor(\"IteratorGetNext_7:2\", shape=(?, 28, 28, 1), dtype=float32)\n"
     ]
    },
    {
     "name": "stderr",
     "output_type": "stream",
     "text": [
      "/home/cristian/anaconda3/lib/python3.6/site-packages/tensorflow/python/util/tf_inspect.py:75: DeprecationWarning: inspect.getargspec() is deprecated, use inspect.signature() or inspect.getfullargspec()\n",
      "  return _inspect.getargspec(target)\n",
      "/home/cristian/anaconda3/lib/python3.6/site-packages/tensorflow/python/util/tf_inspect.py:75: DeprecationWarning: inspect.getargspec() is deprecated, use inspect.signature() or inspect.getfullargspec()\n",
      "  return _inspect.getargspec(target)\n"
     ]
    }
   ],
   "source": [
    "ds = input_fn(df_train, params, tf.estimator.ModeKeys.TRAIN)\n",
    "\n",
    "# get iterator and feature tensors\n",
    "iterator = ds.make_one_shot_iterator()\n",
    "features = iterator.get_next()\n",
    "\n",
    "for name, tensor in features.items():\n",
    "    print(\"{}: {}\".format(name, tensor))"
   ]
  },
  {
   "cell_type": "markdown",
   "metadata": {},
   "source": [
    "Notice that they have a fixed batch size, but most importantly they are not placeholders! This is a little different from the common (naive?) way of feading data through `feed_dict` and you can do tons of optimizations.\n",
    "\n",
    "Now lets get a single batch of data by running our tensors. We will visualize the images using matplotlib."
   ]
  },
  {
   "cell_type": "code",
   "execution_count": 38,
   "metadata": {},
   "outputs": [
    {
     "data": {
      "image/png": "[encoded data removed]",
      "text/plain": [
       "<matplotlib.figure.Figure at 0x7fb1c1db72e8>"
      ]
     },
     "metadata": {},
     "output_type": "display_data"
    },
    {
     "data": {
      "image/png": "[encoded data removed]",
      "text/plain": [
       "<matplotlib.figure.Figure at 0x7fb1c232b278>"
      ]
     },
     "metadata": {},
     "output_type": "display_data"
    },
    {
     "data": {
      "image/png": "[encoded data removed]",
      "text/plain": [
       "<matplotlib.figure.Figure at 0x7fb1c012d400>"
      ]
     },
     "metadata": {},
     "output_type": "display_data"
    },
    {
     "data": {
      "image/png": "[encoded data removed]",
      "text/plain": [
       "<matplotlib.figure.Figure at 0x7fb1989656d8>"
      ]
     },
     "metadata": {},
     "output_type": "display_data"
    },
    {
     "data": {
      "image/png": "[encoded data removed]",
      "text/plain": [
       "<matplotlib.figure.Figure at 0x7fb1984afb00>"
      ]
     },
     "metadata": {},
     "output_type": "display_data"
    },
    {
     "data": {
      "image/png": "[encoded data removed]",
      "text/plain": [
       "<matplotlib.figure.Figure at 0x7fb25c118d30>"
      ]
     },
     "metadata": {},
     "output_type": "display_data"
    },
    {
     "data": {
      "image/png": "[encoded data removed]",
      "text/plain": [
       "<matplotlib.figure.Figure at 0x7fb25c06d7f0>"
      ]
     },
     "metadata": {},
     "output_type": "display_data"
    },
    {
     "data": {
      "image/png": "[encoded data removed]",
      "text/plain": [
       "<matplotlib.figure.Figure at 0x7fb2540b1e48>"
      ]
     },
     "metadata": {},
     "output_type": "display_data"
    },
    {
     "data": {
      "image/png": "[encoded data removed]",
      "text/plain": [
       "<matplotlib.figure.Figure at 0x7fb25479eef0>"
      ]
     },
     "metadata": {},
     "output_type": "display_data"
    },
    {
     "data": {
      "image/png": "[encoded data removed]",
      "text/plain": [
       "<matplotlib.figure.Figure at 0x7fb1983e40b8>"
      ]
     },
     "metadata": {},
     "output_type": "display_data"
    },
    {
     "data": {
      "image/png": "[encoded data removed]",
      "text/plain": [
       "<matplotlib.figure.Figure at 0x7fb1c1c7f400>"
      ]
     },
     "metadata": {},
     "output_type": "display_data"
    },
    {
     "data": {
      "image/png": "[encoded data removed]",
      "text/plain": [
       "<matplotlib.figure.Figure at 0x7fb1d8b70518>"
      ]
     },
     "metadata": {},
     "output_type": "display_data"
    }
   ],
   "source": [
    "image = features[\"image\"]\n",
    "class_id = features[\"class_id\"]\n",
    "    \n",
    "images, class_ids = sess.run([image, class_id])\n",
    "\n",
    "for tup in cz.partition(5, zip(images, class_ids)):\n",
    "\n",
    "    fig, axes = plt.subplots(1, 5, subplot_kw=dict())\n",
    "\n",
    "    for i, (img, class_id) in enumerate(tup):\n",
    "\n",
    "\n",
    "        img = np.squeeze(img).astype(np.uint8)\n",
    "\n",
    "        axes[i].imshow(img, cmap=\"gray\")\n",
    "        axes[i].title.set_text(class_id)\n",
    "        axes[i].get_yaxis().set_visible(False)\n",
    "        axes[i].get_xaxis().set_visible(False)\n",
    "\n",
    "\n",
    "\n",
    "plt.show()"
   ]
  },
  {
   "cell_type": "markdown",
   "metadata": {},
   "source": [
    "### Model Architecture\n",
    "The model architecture is arguably the most fun part of doing Deep Learning, also the part one less spends time coding. While it is not required by the Estimator API, its a good practice to split the code from the Neural Network architecture from the rest of the code and, if possible, make the architecture reusable. We get both of these benefits by using [sonnet](https://github.com/deepmind/sonnet) which is Deep Mind's library that helps you create reusable structures.\n",
    "\n",
    "More precisely  we will be creating a small [All Convolutional Neural Network](https://arxiv.org/abs/1412.6806) with the following structure:\n",
    "\n",
    "* Conv2D: 16 filters, kernel 4x4, stride 2, padding same, relu activation, batch normalization.\n",
    "* Conv2D: 32 filters, kernel 4x4, stride 2, padding same, relu activation, batch normalization.\n",
    "* Conv2D: 64 filters, kernel 3x3, stride 1, padding valid, relu activation, batch normalization.\n",
    "* Conv2D: 10 filters, kernel 3x3, stride 1, padding valid, relu activation.\n",
    "* Global Average Pooling\n",
    "* Softmax Activation\n",
    "\n",
    "#### Sonnet\n",
    "Using sonnet is easy, we just have to create a class that inherits from `sonnet.AbstractModule` and implement it `_build` method. `_build` takes an inputs object containing the inputs tensors, constructs the main graph of the neural network, and returns an output structure of tensors."
   ]
  },
  {
   "cell_type": "code",
   "execution_count": 48,
   "metadata": {},
   "outputs": [],
   "source": [
    "class AllCNNN(snt.AbstractModule):\n",
    "    \n",
    "    def __init__(self, *args, **kwargs):\n",
    "        kwargs[\"name\"] = kwargs.get(\"name\", \"AllCNN\")\n",
    "        super(AllCNNN, self).__init__(*args, **kwargs)\n",
    "    \n",
    "    def _build(self, inputs):\n",
    "        \n",
    "        print(\"##########################\")\n",
    "        print(\"## AllCNN\")\n",
    "        print(\"##########################\")\n",
    "        \n",
    "        net = inputs[\"image\"]; print(net)\n",
    "        training = inputs[\"mode\"] == tf.estimator.ModeKeys.TRAIN\n",
    "        \n",
    "        \n",
    "        net = tf.layers.conv2d(net, 16, [4, 4], strides=2, padding=\"same\")\n",
    "        net = tf.layers.batch_normalization(net, training=training)\n",
    "        net = tf.nn.relu(net)\n",
    "        print(net)\n",
    "        \n",
    "        \n",
    "        net = tf.layers.conv2d(net, 32, [4, 4], strides=2, padding=\"same\")\n",
    "        net = tf.layers.batch_normalization(net, training=training)\n",
    "        net = tf.nn.relu(net)\n",
    "        print(net)\n",
    "        \n",
    "        \n",
    "        net = tf.layers.conv2d(net, 64, [3, 3], strides=1, padding=\"valid\")\n",
    "        net = tf.layers.batch_normalization(net, training=training)\n",
    "        net = tf.nn.relu(net)\n",
    "        print(net)\n",
    "        \n",
    "        \n",
    "        net = tf.layers.conv2d(net, 10, [3, 3], strides=1, padding = \"valid\")\n",
    "#         net = tf.nn.relu(net)\n",
    "        print(net)\n",
    "        \n",
    "        # global average pooling\n",
    "        logits = net = tf.reduce_mean(net, axis = [1, 2])\n",
    "        print(net)\n",
    "        \n",
    "        # predictions\n",
    "        predictions = net = tf.nn.softmax(logits)\n",
    "        print(net)\n",
    "    \n",
    "        print(\"\")\n",
    "        \n",
    "        return logits, predictions"
   ]
  },
  {
   "cell_type": "markdown",
   "metadata": {},
   "source": [
    "Just to verify our architecture is correct we will create an input tensors and construct neural network using our `AllCNN` sonnet module."
   ]
  },
  {
   "cell_type": "code",
   "execution_count": 49,
   "metadata": {},
   "outputs": [
    {
     "name": "stdout",
     "output_type": "stream",
     "text": [
      "##########################\n",
      "## AllCNN\n",
      "##########################\n",
      "Tensor(\"input_5:0\", shape=(?, 28, 28, 1), dtype=float32)\n",
      "Tensor(\"AllCNN_4/Relu:0\", shape=(?, 14, 14, 16), dtype=float32)\n",
      "Tensor(\"AllCNN_4/Relu_1:0\", shape=(?, 7, 7, 32), dtype=float32)\n",
      "Tensor(\"AllCNN_4/Relu_2:0\", shape=(?, 5, 5, 64), dtype=float32)\n",
      "Tensor(\"AllCNN_4/conv2d_3/BiasAdd:0\", shape=(?, 3, 3, 10), dtype=float32)\n",
      "Tensor(\"AllCNN_4/Mean:0\", shape=(?, 10), dtype=float32)\n",
      "Tensor(\"AllCNN_4/Softmax:0\", shape=(?, 10), dtype=float32)\n",
      "\n"
     ]
    }
   ],
   "source": [
    "inputs = dict(\n",
    "    image = tf.keras.Input(shape=(28, 28, 1)),\n",
    "    mode = tf.estimator.ModeKeys.TRAIN,\n",
    ")\n",
    "\n",
    "all_cnn = AllCNNN()\n",
    "logits, predictions = all_cnn(inputs)"
   ]
  },
  {
   "cell_type": "markdown",
   "metadata": {},
   "source": [
    "### The Model\n",
    "Finally we can create our last piece in the estimator API, the model function. This function takes in 4 arguments:\n",
    "* `features` tensor/structure from `ìnput_fn`\n",
    "* `labels` tensor from `ìnput_fn`\n",
    "* `mode` enum indicating the current mode (training, testing or predicting)\n",
    "* `params` dict with hyperparameters and other information we might want to pass\n",
    "\n",
    "The model function should return a `tf.estimator.EstimatorSpec` with information such as `predictions`, `loss` and `train_op`, depending on the `mode`. Our model function is going to execute the following steps:\n",
    "1. Create the network architecture to get the predictions.\n",
    "1. Use the predictions and labels to construct the loss.\n",
    "1. Use the loss and construct the traning operation. It will use the Adam Optimizer as our algorithm to perform Stochastic Gradient Descent."
   ]
  },
  {
   "cell_type": "code",
   "execution_count": 50,
   "metadata": {},
   "outputs": [],
   "source": [
    "def model_fn(features, labels, mode, params):\n",
    "    \n",
    "    inputs = features\n",
    "    inputs[\"mode\"] = mode\n",
    "    \n",
    "    # create networks\n",
    "    all_cnn = AllCNNN()\n",
    "    \n",
    "    # predictions\n",
    "    logits, predictions = all_cnn(inputs)\n",
    "    \n",
    "    \n",
    "    if mode == tf.estimator.ModeKeys.PREDICT:\n",
    "        return tf.estimator.EstimatorSpec(\n",
    "            mode = mode,\n",
    "            predictions = dict(\n",
    "                classes = predictions,\n",
    "                image = inputs[\"image\"],\n",
    "            )\n",
    "        )\n",
    "    \n",
    "    # loss\n",
    "    labels = features[\"class_id\"]\n",
    "    onehot_labels = tf.one_hot(labels, 10)\n",
    "    \n",
    "    tf.losses.softmax_cross_entropy(logits = logits, onehot_labels = onehot_labels)\n",
    "    \n",
    "    loss = tf.losses.get_total_loss()\n",
    "    \n",
    "    if mode == tf.estimator.ModeKeys.EVAL:\n",
    "        return tf.estimator.EstimatorSpec(\n",
    "            mode = mode,\n",
    "            loss = loss,\n",
    "            eval_metric_ops = dict(\n",
    "                accuracy = tf.metrics.accuracy(\n",
    "                    labels = labels,\n",
    "                    predictions = tf.argmax(predictions, axis = 1)\n",
    "                )\n",
    "            )\n",
    "        )\n",
    "    \n",
    "    #update\n",
    "    with tf.control_dependencies(tf.get_collection(tf.GraphKeys.UPDATE_OPS)):\n",
    "        optimizer = tf.train.AdamOptimizer(params[\"learning_rate\"])\n",
    "        update = optimizer.minimize(loss, global_step = tf.train.get_global_step())\n",
    "        \n",
    "    \n",
    "    accuracy = tf.contrib.metrics.accuracy(\n",
    "        labels = labels,\n",
    "        predictions = tf.argmax(predictions, axis = 1)\n",
    "    )\n",
    "        \n",
    "    # metrics\n",
    "    tf.summary.scalar(\"accuracy\", accuracy)\n",
    "    \n",
    "    \n",
    "    return tf.estimator.EstimatorSpec(\n",
    "        mode = mode,\n",
    "        loss = loss,\n",
    "        train_op = update,\n",
    "        training_hooks = [\n",
    "            tf.train.LoggingTensorHook(\n",
    "                dict(\n",
    "                    loss = loss, \n",
    "                    accuracy = accuracy\n",
    "                ),  \n",
    "                every_n_iter = 50,\n",
    "            )\n",
    "        ],\n",
    "    )"
   ]
  },
  {
   "cell_type": "markdown",
   "metadata": {},
   "source": [
    "## Estimator\n",
    "Now that we have all of our functions creating the Estimator object is quite easy. We just pass it the `model_fn`, a directory were we want to store our model, the params object. Here we additionally pass a `RunConfig` object to control the frequency of checkpoints and summaries."
   ]
  },
  {
   "cell_type": "code",
   "execution_count": 51,
   "metadata": {},
   "outputs": [
    {
     "name": "stdout",
     "output_type": "stream",
     "text": [
      "INFO:tensorflow:Using config: {'_model_dir': 'models/all_cnn', '_tf_random_seed': None, '_save_summary_steps': 50, '_save_checkpoints_steps': 50, '_save_checkpoints_secs': None, '_session_config': allow_soft_placement: true\n",
      "graph_options {\n",
      "  rewrite_options {\n",
      "    meta_optimizer_iterations: ONE\n",
      "  }\n",
      "}\n",
      ", '_keep_checkpoint_max': 5, '_keep_checkpoint_every_n_hours': 10000, '_log_step_count_steps': 100, '_train_distribute': None, '_device_fn': None, '_protocol': None, '_eval_distribute': None, '_experimental_distribute': None, '_service': None, '_cluster_spec': <tensorflow.python.training.server_lib.ClusterSpec object at 0x7fb1d82b6860>, '_task_type': 'worker', '_task_id': 0, '_global_id_in_cluster': 0, '_master': '', '_evaluation_master': '', '_is_chief': True, '_num_ps_replicas': 0, '_num_worker_replicas': 1}\n"
     ]
    }
   ],
   "source": [
    "estimator = tf.estimator.Estimator(\n",
    "    model_fn = model_fn,\n",
    "    model_dir = params.model_dir,\n",
    "    params = params,\n",
    "    config = tf.estimator.RunConfig(\n",
    "        save_checkpoints_steps = params.checkpoint_steps, \n",
    "        save_summary_steps = params.summary_steps,\n",
    "    )\n",
    ")"
   ]
  },
  {
   "cell_type": "markdown",
   "metadata": {},
   "source": [
    "The estimator object by itself doesn't do anything but it contains the `train`, `evaluate` and `predict` methods which will do all the hard work. \n",
    "\n",
    "#### Train\n",
    "The `train` method accepts a parameterless `input_fn`, since our `input_fn` has parameters, we will just create a parameterless lambda that return our `input_fn` applied to the corresponding training parameters capture by the *closure* of the labmda. Excecuting this method will infact train our network!"
   ]
  },
  {
   "cell_type": "code",
   "execution_count": 53,
   "metadata": {},
   "outputs": [
    {
     "name": "stdout",
     "output_type": "stream",
     "text": [
      "INFO:tensorflow:Calling model_fn.\n"
     ]
    },
    {
     "name": "stderr",
     "output_type": "stream",
     "text": [
      "/home/cristian/anaconda3/lib/python3.6/site-packages/tensorflow/python/util/tf_inspect.py:75: DeprecationWarning: inspect.getargspec() is deprecated, use inspect.signature() or inspect.getfullargspec()\n",
      "  return _inspect.getargspec(target)\n"
     ]
    },
    {
     "name": "stdout",
     "output_type": "stream",
     "text": [
      "##########################\n",
      "## AllCNN\n",
      "##########################\n",
      "Tensor(\"IteratorGetNext:2\", shape=(?, 28, 28, 1), dtype=float32)\n",
      "Tensor(\"AllCNN/Relu:0\", shape=(?, 14, 14, 16), dtype=float32)\n",
      "Tensor(\"AllCNN/Relu_1:0\", shape=(?, 7, 7, 32), dtype=float32)\n",
      "Tensor(\"AllCNN/Relu_2:0\", shape=(?, 5, 5, 64), dtype=float32)\n",
      "Tensor(\"AllCNN/conv2d_3/BiasAdd:0\", shape=(?, 3, 3, 10), dtype=float32)\n",
      "Tensor(\"AllCNN/Mean:0\", shape=(?, 10), dtype=float32)\n",
      "Tensor(\"AllCNN/Softmax:0\", shape=(?, 10), dtype=float32)\n",
      "\n",
      "INFO:tensorflow:Done calling model_fn.\n",
      "INFO:tensorflow:Create CheckpointSaverHook.\n",
      "INFO:tensorflow:Graph was finalized.\n",
      "INFO:tensorflow:Restoring parameters from models/all_cnn/model.ckpt-5400\n",
      "INFO:tensorflow:Running local_init_op.\n",
      "INFO:tensorflow:Done running local_init_op.\n",
      "INFO:tensorflow:Saving checkpoints for 5400 into models/all_cnn/model.ckpt.\n",
      "INFO:tensorflow:loss = 0.00210655, step = 5400\n",
      "INFO:tensorflow:accuracy = 1.0, loss = 0.00210655\n",
      "INFO:tensorflow:Saving checkpoints for 5450 into models/all_cnn/model.ckpt.\n",
      "INFO:tensorflow:accuracy = 0.984375, loss = 0.01544 (0.468 sec)\n",
      "INFO:tensorflow:Saving checkpoints for 5500 into models/all_cnn/model.ckpt.\n",
      "INFO:tensorflow:global_step/sec: 132.075\n",
      "INFO:tensorflow:loss = 0.0053338, step = 5500 (0.758 sec)\n",
      "INFO:tensorflow:accuracy = 1.0, loss = 0.0053338 (0.290 sec)\n",
      "INFO:tensorflow:Saving checkpoints for 5550 into models/all_cnn/model.ckpt.\n",
      "INFO:tensorflow:accuracy = 1.0, loss = 0.00354154 (0.286 sec)\n",
      "INFO:tensorflow:Saving checkpoints for 5600 into models/all_cnn/model.ckpt.\n",
      "INFO:tensorflow:global_step/sec: 172.853\n",
      "INFO:tensorflow:loss = 0.00646115, step = 5600 (0.579 sec)\n",
      "INFO:tensorflow:accuracy = 1.0, loss = 0.00646115 (0.293 sec)\n",
      "INFO:tensorflow:Saving checkpoints for 5650 into models/all_cnn/model.ckpt.\n",
      "INFO:tensorflow:accuracy = 1.0, loss = 0.0179913 (0.290 sec)\n",
      "INFO:tensorflow:Saving checkpoints for 5700 into models/all_cnn/model.ckpt.\n",
      "INFO:tensorflow:global_step/sec: 172.869\n",
      "INFO:tensorflow:loss = 0.0247888, step = 5700 (0.578 sec)\n",
      "INFO:tensorflow:accuracy = 1.0, loss = 0.0247888 (0.288 sec)\n",
      "INFO:tensorflow:Saving checkpoints for 5750 into models/all_cnn/model.ckpt.\n",
      "INFO:tensorflow:accuracy = 1.0, loss = 0.00176125 (0.291 sec)\n",
      "INFO:tensorflow:Saving checkpoints for 5800 into models/all_cnn/model.ckpt.\n",
      "INFO:tensorflow:global_step/sec: 174.5\n",
      "INFO:tensorflow:loss = 0.0100756, step = 5800 (0.573 sec)\n",
      "INFO:tensorflow:accuracy = 1.0, loss = 0.0100756 (0.282 sec)\n",
      "INFO:tensorflow:Saving checkpoints for 5850 into models/all_cnn/model.ckpt.\n",
      "INFO:tensorflow:accuracy = 0.984375, loss = 0.0162982 (0.276 sec)\n",
      "INFO:tensorflow:Saving checkpoints for 5900 into models/all_cnn/model.ckpt.\n",
      "INFO:tensorflow:global_step/sec: 176.063\n",
      "INFO:tensorflow:loss = 0.0130866, step = 5900 (0.568 sec)\n",
      "INFO:tensorflow:accuracy = 1.0, loss = 0.0130866 (0.292 sec)\n",
      "INFO:tensorflow:Saving checkpoints for 5950 into models/all_cnn/model.ckpt.\n",
      "INFO:tensorflow:accuracy = 0.984375, loss = 0.027875 (0.287 sec)\n",
      "INFO:tensorflow:Saving checkpoints for 6000 into models/all_cnn/model.ckpt.\n",
      "INFO:tensorflow:global_step/sec: 177.062\n",
      "INFO:tensorflow:loss = 0.0144841, step = 6000 (0.565 sec)\n",
      "INFO:tensorflow:accuracy = 0.984375, loss = 0.0144841 (0.278 sec)\n",
      "INFO:tensorflow:Saving checkpoints for 6050 into models/all_cnn/model.ckpt.\n",
      "INFO:tensorflow:accuracy = 1.0, loss = 0.00440456 (0.288 sec)\n",
      "INFO:tensorflow:Saving checkpoints for 6100 into models/all_cnn/model.ckpt.\n",
      "INFO:tensorflow:global_step/sec: 177.224\n",
      "INFO:tensorflow:loss = 0.00854976, step = 6100 (0.564 sec)\n",
      "INFO:tensorflow:accuracy = 1.0, loss = 0.00854976 (0.276 sec)\n",
      "INFO:tensorflow:Saving checkpoints for 6150 into models/all_cnn/model.ckpt.\n",
      "INFO:tensorflow:accuracy = 0.984375, loss = 0.02076 (0.285 sec)\n",
      "INFO:tensorflow:Saving checkpoints for 6200 into models/all_cnn/model.ckpt.\n",
      "INFO:tensorflow:global_step/sec: 173.966\n",
      "INFO:tensorflow:loss = 0.0401852, step = 6200 (0.575 sec)\n",
      "INFO:tensorflow:accuracy = 0.984375, loss = 0.0401852 (0.289 sec)\n",
      "INFO:tensorflow:Saving checkpoints for 6250 into models/all_cnn/model.ckpt.\n",
      "INFO:tensorflow:accuracy = 1.0, loss = 0.0040634 (0.276 sec)\n",
      "INFO:tensorflow:Saving checkpoints for 6300 into models/all_cnn/model.ckpt.\n",
      "INFO:tensorflow:global_step/sec: 180.172\n",
      "INFO:tensorflow:loss = 0.00142886, step = 6300 (0.555 sec)\n",
      "INFO:tensorflow:accuracy = 1.0, loss = 0.00142886 (0.279 sec)\n",
      "INFO:tensorflow:Saving checkpoints for 6350 into models/all_cnn/model.ckpt.\n",
      "INFO:tensorflow:accuracy = 1.0, loss = 0.0107317 (0.289 sec)\n",
      "INFO:tensorflow:Saving checkpoints for 6400 into models/all_cnn/model.ckpt.\n",
      "INFO:tensorflow:global_step/sec: 170.781\n",
      "INFO:tensorflow:loss = 0.0251076, step = 6400 (0.586 sec)\n",
      "INFO:tensorflow:accuracy = 0.984375, loss = 0.0251076 (0.297 sec)\n",
      "INFO:tensorflow:Saving checkpoints for 6450 into models/all_cnn/model.ckpt.\n",
      "INFO:tensorflow:accuracy = 1.0, loss = 0.00459974 (0.282 sec)\n",
      "INFO:tensorflow:Saving checkpoints for 6500 into models/all_cnn/model.ckpt.\n",
      "INFO:tensorflow:global_step/sec: 158.188\n",
      "INFO:tensorflow:loss = 0.113173, step = 6500 (0.632 sec)\n",
      "INFO:tensorflow:accuracy = 0.953125, loss = 0.113173 (0.350 sec)\n",
      "INFO:tensorflow:Saving checkpoints for 6550 into models/all_cnn/model.ckpt.\n",
      "INFO:tensorflow:accuracy = 0.984375, loss = 0.0199952 (0.280 sec)\n",
      "INFO:tensorflow:Saving checkpoints for 6600 into models/all_cnn/model.ckpt.\n",
      "INFO:tensorflow:global_step/sec: 179.19\n",
      "INFO:tensorflow:loss = 0.00417253, step = 6600 (0.558 sec)\n",
      "INFO:tensorflow:accuracy = 1.0, loss = 0.00417253 (0.278 sec)\n",
      "INFO:tensorflow:Saving checkpoints for 6650 into models/all_cnn/model.ckpt.\n",
      "INFO:tensorflow:accuracy = 1.0, loss = 0.0061745 (0.304 sec)\n",
      "INFO:tensorflow:Saving checkpoints for 6700 into models/all_cnn/model.ckpt.\n",
      "INFO:tensorflow:global_step/sec: 162.05\n",
      "INFO:tensorflow:loss = 0.00310885, step = 6700 (0.617 sec)\n",
      "INFO:tensorflow:accuracy = 1.0, loss = 0.00310885 (0.313 sec)\n",
      "INFO:tensorflow:Saving checkpoints for 6750 into models/all_cnn/model.ckpt.\n",
      "INFO:tensorflow:accuracy = 0.984375, loss = 0.0300564 (0.333 sec)\n",
      "INFO:tensorflow:Saving checkpoints for 6800 into models/all_cnn/model.ckpt.\n",
      "INFO:tensorflow:global_step/sec: 153.956\n",
      "INFO:tensorflow:loss = 0.0460949, step = 6800 (0.650 sec)\n",
      "INFO:tensorflow:accuracy = 0.984375, loss = 0.0460949 (0.317 sec)\n",
      "INFO:tensorflow:Saving checkpoints for 6850 into models/all_cnn/model.ckpt.\n",
      "INFO:tensorflow:accuracy = 0.984375, loss = 0.104468 (0.285 sec)\n",
      "INFO:tensorflow:Saving checkpoints for 6900 into models/all_cnn/model.ckpt.\n",
      "INFO:tensorflow:global_step/sec: 160.476\n",
      "INFO:tensorflow:loss = 0.0200222, step = 6900 (0.623 sec)\n",
      "INFO:tensorflow:accuracy = 0.984375, loss = 0.0200222 (0.337 sec)\n",
      "INFO:tensorflow:Saving checkpoints for 6950 into models/all_cnn/model.ckpt.\n",
      "INFO:tensorflow:accuracy = 1.0, loss = 0.00318888 (0.310 sec)\n",
      "INFO:tensorflow:Saving checkpoints for 7000 into models/all_cnn/model.ckpt.\n",
      "INFO:tensorflow:global_step/sec: 163.42\n",
      "INFO:tensorflow:loss = 0.00595997, step = 7000 (0.612 sec)\n",
      "INFO:tensorflow:accuracy = 1.0, loss = 0.00595997 (0.301 sec)\n",
      "INFO:tensorflow:Saving checkpoints for 7050 into models/all_cnn/model.ckpt.\n",
      "INFO:tensorflow:accuracy = 1.0, loss = 0.00175572 (0.348 sec)\n",
      "INFO:tensorflow:Saving checkpoints for 7100 into models/all_cnn/model.ckpt.\n",
      "INFO:tensorflow:global_step/sec: 149.161\n",
      "INFO:tensorflow:loss = 0.0219806, step = 7100 (0.670 sec)\n",
      "INFO:tensorflow:accuracy = 0.984375, loss = 0.0219806 (0.322 sec)\n",
      "INFO:tensorflow:Saving checkpoints for 7150 into models/all_cnn/model.ckpt.\n",
      "INFO:tensorflow:accuracy = 1.0, loss = 0.00158303 (0.295 sec)\n",
      "INFO:tensorflow:Saving checkpoints for 7200 into models/all_cnn/model.ckpt.\n",
      "INFO:tensorflow:global_step/sec: 156.346\n",
      "INFO:tensorflow:loss = 0.00946569, step = 7200 (0.640 sec)\n",
      "INFO:tensorflow:accuracy = 1.0, loss = 0.00946569 (0.345 sec)\n",
      "INFO:tensorflow:Saving checkpoints for 7250 into models/all_cnn/model.ckpt.\n",
      "INFO:tensorflow:accuracy = 1.0, loss = 0.00657445 (0.275 sec)\n",
      "INFO:tensorflow:Saving checkpoints for 7300 into models/all_cnn/model.ckpt.\n",
      "INFO:tensorflow:global_step/sec: 183.609\n",
      "INFO:tensorflow:loss = 0.00171323, step = 7300 (0.545 sec)\n",
      "INFO:tensorflow:accuracy = 1.0, loss = 0.00171323 (0.270 sec)\n",
      "INFO:tensorflow:Saving checkpoints for 7350 into models/all_cnn/model.ckpt.\n",
      "INFO:tensorflow:accuracy = 1.0, loss = 0.00224614 (0.282 sec)\n",
      "INFO:tensorflow:Saving checkpoints for 7400 into models/all_cnn/model.ckpt.\n",
      "INFO:tensorflow:global_step/sec: 173.548\n",
      "INFO:tensorflow:loss = 0.00685456, step = 7400 (0.576 sec)\n",
      "INFO:tensorflow:accuracy = 1.0, loss = 0.00685456 (0.295 sec)\n",
      "INFO:tensorflow:Saving checkpoints for 7450 into models/all_cnn/model.ckpt.\n",
      "INFO:tensorflow:accuracy = 1.0, loss = 0.00234011 (0.314 sec)\n",
      "INFO:tensorflow:Saving checkpoints for 7500 into models/all_cnn/model.ckpt.\n",
      "INFO:tensorflow:global_step/sec: 160.063\n",
      "INFO:tensorflow:loss = 0.00409866, step = 7500 (0.625 sec)\n",
      "INFO:tensorflow:accuracy = 1.0, loss = 0.00409866 (0.311 sec)\n",
      "INFO:tensorflow:Saving checkpoints for 7550 into models/all_cnn/model.ckpt.\n",
      "INFO:tensorflow:accuracy = 1.0, loss = 0.0169008 (0.302 sec)\n",
      "INFO:tensorflow:Saving checkpoints for 7600 into models/all_cnn/model.ckpt.\n",
      "INFO:tensorflow:global_step/sec: 169.196\n",
      "INFO:tensorflow:loss = 0.0230999, step = 7600 (0.591 sec)\n",
      "INFO:tensorflow:accuracy = 1.0, loss = 0.0230999 (0.289 sec)\n",
      "INFO:tensorflow:Saving checkpoints for 7650 into models/all_cnn/model.ckpt.\n",
      "INFO:tensorflow:accuracy = 1.0, loss = 0.00028869 (0.336 sec)\n",
      "INFO:tensorflow:Saving checkpoints for 7700 into models/all_cnn/model.ckpt.\n",
      "INFO:tensorflow:global_step/sec: 150.036\n",
      "INFO:tensorflow:loss = 0.0304007, step = 7700 (0.667 sec)\n",
      "INFO:tensorflow:accuracy = 0.984375, loss = 0.0304007 (0.330 sec)\n",
      "INFO:tensorflow:Saving checkpoints for 7750 into models/all_cnn/model.ckpt.\n",
      "INFO:tensorflow:accuracy = 1.0, loss = 0.00298541 (0.279 sec)\n",
      "INFO:tensorflow:Saving checkpoints for 7800 into models/all_cnn/model.ckpt.\n",
      "INFO:tensorflow:global_step/sec: 166.794\n",
      "INFO:tensorflow:loss = 0.00545886, step = 7800 (0.599 sec)\n",
      "INFO:tensorflow:accuracy = 1.0, loss = 0.00545886 (0.320 sec)\n",
      "INFO:tensorflow:Saving checkpoints for 7850 into models/all_cnn/model.ckpt.\n",
      "INFO:tensorflow:accuracy = 1.0, loss = 0.0125181 (0.332 sec)\n",
      "INFO:tensorflow:Saving checkpoints for 7900 into models/all_cnn/model.ckpt.\n",
      "INFO:tensorflow:global_step/sec: 162.257\n",
      "INFO:tensorflow:loss = 0.00186469, step = 7900 (0.616 sec)\n",
      "INFO:tensorflow:accuracy = 1.0, loss = 0.00186469 (0.284 sec)\n",
      "INFO:tensorflow:Saving checkpoints for 7950 into models/all_cnn/model.ckpt.\n",
      "INFO:tensorflow:accuracy = 0.984375, loss = 0.0280933 (0.294 sec)\n",
      "INFO:tensorflow:Saving checkpoints for 8000 into models/all_cnn/model.ckpt.\n",
      "INFO:tensorflow:global_step/sec: 170.496\n",
      "INFO:tensorflow:loss = 0.000807518, step = 8000 (0.587 sec)\n",
      "INFO:tensorflow:accuracy = 1.0, loss = 0.000807518 (0.293 sec)\n",
      "INFO:tensorflow:Saving checkpoints for 8050 into models/all_cnn/model.ckpt.\n",
      "INFO:tensorflow:accuracy = 1.0, loss = 0.00546963 (0.293 sec)\n",
      "INFO:tensorflow:Saving checkpoints for 8100 into models/all_cnn/model.ckpt.\n",
      "INFO:tensorflow:global_step/sec: 171.115\n",
      "INFO:tensorflow:loss = 0.0152968, step = 8100 (0.585 sec)\n",
      "INFO:tensorflow:accuracy = 0.984375, loss = 0.0152968 (0.292 sec)\n",
      "INFO:tensorflow:Saving checkpoints for 8150 into models/all_cnn/model.ckpt.\n",
      "INFO:tensorflow:accuracy = 1.0, loss = 0.00584985 (0.280 sec)\n",
      "INFO:tensorflow:Saving checkpoints for 8200 into models/all_cnn/model.ckpt.\n",
      "INFO:tensorflow:global_step/sec: 175.571\n",
      "INFO:tensorflow:loss = 0.000211262, step = 8200 (0.569 sec)\n",
      "INFO:tensorflow:accuracy = 1.0, loss = 0.000211262 (0.289 sec)\n"
     ]
    },
    {
     "ename": "KeyboardInterrupt",
     "evalue": "",
     "output_type": "error",
     "traceback": [
      "\u001b[0;31m---------------------------------------------------------------------------\u001b[0m",
      "\u001b[0;31mKeyboardInterrupt\u001b[0m                         Traceback (most recent call last)",
      "\u001b[0;32m<ipython-input-53-606a9b66495e>\u001b[0m in \u001b[0;36m<module>\u001b[0;34m()\u001b[0m\n\u001b[1;32m      1\u001b[0m estimator.train(\n\u001b[0;32m----> 2\u001b[0;31m     input_fn = lambda: input_fn(\n\u001b[0m\u001b[1;32m      3\u001b[0m         \u001b[0mdf_train\u001b[0m\u001b[0;34m,\u001b[0m\u001b[0;34m\u001b[0m\u001b[0m\n\u001b[1;32m      4\u001b[0m         \u001b[0mparams\u001b[0m\u001b[0;34m,\u001b[0m\u001b[0;34m\u001b[0m\u001b[0m\n\u001b[1;32m      5\u001b[0m         \u001b[0mtf\u001b[0m\u001b[0;34m.\u001b[0m\u001b[0mestimator\u001b[0m\u001b[0;34m.\u001b[0m\u001b[0mModeKeys\u001b[0m\u001b[0;34m.\u001b[0m\u001b[0mTRAIN\u001b[0m\u001b[0;34m,\u001b[0m\u001b[0;34m\u001b[0m\u001b[0m\n",
      "\u001b[0;32m~/anaconda3/lib/python3.6/site-packages/tensorflow/python/estimator/estimator.py\u001b[0m in \u001b[0;36mtrain\u001b[0;34m(self, input_fn, hooks, steps, max_steps, saving_listeners)\u001b[0m\n\u001b[1;32m    352\u001b[0m \u001b[0;34m\u001b[0m\u001b[0m\n\u001b[1;32m    353\u001b[0m       \u001b[0msaving_listeners\u001b[0m \u001b[0;34m=\u001b[0m \u001b[0m_check_listeners_type\u001b[0m\u001b[0;34m(\u001b[0m\u001b[0msaving_listeners\u001b[0m\u001b[0;34m)\u001b[0m\u001b[0;34m\u001b[0m\u001b[0m\n\u001b[0;32m--> 354\u001b[0;31m       \u001b[0mloss\u001b[0m \u001b[0;34m=\u001b[0m \u001b[0mself\u001b[0m\u001b[0;34m.\u001b[0m\u001b[0m_train_model\u001b[0m\u001b[0;34m(\u001b[0m\u001b[0minput_fn\u001b[0m\u001b[0;34m,\u001b[0m \u001b[0mhooks\u001b[0m\u001b[0;34m,\u001b[0m \u001b[0msaving_listeners\u001b[0m\u001b[0;34m)\u001b[0m\u001b[0;34m\u001b[0m\u001b[0m\n\u001b[0m\u001b[1;32m    355\u001b[0m       \u001b[0mlogging\u001b[0m\u001b[0;34m.\u001b[0m\u001b[0minfo\u001b[0m\u001b[0;34m(\u001b[0m\u001b[0;34m'Loss for final step: %s.'\u001b[0m\u001b[0;34m,\u001b[0m \u001b[0mloss\u001b[0m\u001b[0;34m)\u001b[0m\u001b[0;34m\u001b[0m\u001b[0m\n\u001b[1;32m    356\u001b[0m       \u001b[0;32mreturn\u001b[0m \u001b[0mself\u001b[0m\u001b[0;34m\u001b[0m\u001b[0m\n",
      "\u001b[0;32m~/anaconda3/lib/python3.6/site-packages/tensorflow/python/estimator/estimator.py\u001b[0m in \u001b[0;36m_train_model\u001b[0;34m(self, input_fn, hooks, saving_listeners)\u001b[0m\n\u001b[1;32m   1205\u001b[0m       \u001b[0;32mreturn\u001b[0m \u001b[0mself\u001b[0m\u001b[0;34m.\u001b[0m\u001b[0m_train_model_distributed\u001b[0m\u001b[0;34m(\u001b[0m\u001b[0minput_fn\u001b[0m\u001b[0;34m,\u001b[0m \u001b[0mhooks\u001b[0m\u001b[0;34m,\u001b[0m \u001b[0msaving_listeners\u001b[0m\u001b[0;34m)\u001b[0m\u001b[0;34m\u001b[0m\u001b[0m\n\u001b[1;32m   1206\u001b[0m     \u001b[0;32melse\u001b[0m\u001b[0;34m:\u001b[0m\u001b[0;34m\u001b[0m\u001b[0m\n\u001b[0;32m-> 1207\u001b[0;31m       \u001b[0;32mreturn\u001b[0m \u001b[0mself\u001b[0m\u001b[0;34m.\u001b[0m\u001b[0m_train_model_default\u001b[0m\u001b[0;34m(\u001b[0m\u001b[0minput_fn\u001b[0m\u001b[0;34m,\u001b[0m \u001b[0mhooks\u001b[0m\u001b[0;34m,\u001b[0m \u001b[0msaving_listeners\u001b[0m\u001b[0;34m)\u001b[0m\u001b[0;34m\u001b[0m\u001b[0m\n\u001b[0m\u001b[1;32m   1208\u001b[0m \u001b[0;34m\u001b[0m\u001b[0m\n\u001b[1;32m   1209\u001b[0m   \u001b[0;32mdef\u001b[0m \u001b[0m_train_model_default\u001b[0m\u001b[0;34m(\u001b[0m\u001b[0mself\u001b[0m\u001b[0;34m,\u001b[0m \u001b[0minput_fn\u001b[0m\u001b[0;34m,\u001b[0m \u001b[0mhooks\u001b[0m\u001b[0;34m,\u001b[0m \u001b[0msaving_listeners\u001b[0m\u001b[0;34m)\u001b[0m\u001b[0;34m:\u001b[0m\u001b[0;34m\u001b[0m\u001b[0m\n",
      "\u001b[0;32m~/anaconda3/lib/python3.6/site-packages/tensorflow/python/estimator/estimator.py\u001b[0m in \u001b[0;36m_train_model_default\u001b[0;34m(self, input_fn, hooks, saving_listeners)\u001b[0m\n\u001b[1;32m   1239\u001b[0m       return self._train_with_estimator_spec(estimator_spec, worker_hooks,\n\u001b[1;32m   1240\u001b[0m                                              \u001b[0mhooks\u001b[0m\u001b[0;34m,\u001b[0m \u001b[0mglobal_step_tensor\u001b[0m\u001b[0;34m,\u001b[0m\u001b[0;34m\u001b[0m\u001b[0m\n\u001b[0;32m-> 1241\u001b[0;31m                                              saving_listeners)\n\u001b[0m\u001b[1;32m   1242\u001b[0m \u001b[0;34m\u001b[0m\u001b[0m\n\u001b[1;32m   1243\u001b[0m   \u001b[0;32mdef\u001b[0m \u001b[0m_train_model_distributed\u001b[0m\u001b[0;34m(\u001b[0m\u001b[0mself\u001b[0m\u001b[0;34m,\u001b[0m \u001b[0minput_fn\u001b[0m\u001b[0;34m,\u001b[0m \u001b[0mhooks\u001b[0m\u001b[0;34m,\u001b[0m \u001b[0msaving_listeners\u001b[0m\u001b[0;34m)\u001b[0m\u001b[0;34m:\u001b[0m\u001b[0;34m\u001b[0m\u001b[0m\n",
      "\u001b[0;32m~/anaconda3/lib/python3.6/site-packages/tensorflow/python/estimator/estimator.py\u001b[0m in \u001b[0;36m_train_with_estimator_spec\u001b[0;34m(self, estimator_spec, worker_hooks, hooks, global_step_tensor, saving_listeners)\u001b[0m\n\u001b[1;32m   1469\u001b[0m       \u001b[0mloss\u001b[0m \u001b[0;34m=\u001b[0m \u001b[0;32mNone\u001b[0m\u001b[0;34m\u001b[0m\u001b[0m\n\u001b[1;32m   1470\u001b[0m       \u001b[0;32mwhile\u001b[0m \u001b[0;32mnot\u001b[0m \u001b[0mmon_sess\u001b[0m\u001b[0;34m.\u001b[0m\u001b[0mshould_stop\u001b[0m\u001b[0;34m(\u001b[0m\u001b[0;34m)\u001b[0m\u001b[0;34m:\u001b[0m\u001b[0;34m\u001b[0m\u001b[0m\n\u001b[0;32m-> 1471\u001b[0;31m         \u001b[0m_\u001b[0m\u001b[0;34m,\u001b[0m \u001b[0mloss\u001b[0m \u001b[0;34m=\u001b[0m \u001b[0mmon_sess\u001b[0m\u001b[0;34m.\u001b[0m\u001b[0mrun\u001b[0m\u001b[0;34m(\u001b[0m\u001b[0;34m[\u001b[0m\u001b[0mestimator_spec\u001b[0m\u001b[0;34m.\u001b[0m\u001b[0mtrain_op\u001b[0m\u001b[0;34m,\u001b[0m \u001b[0mestimator_spec\u001b[0m\u001b[0;34m.\u001b[0m\u001b[0mloss\u001b[0m\u001b[0;34m]\u001b[0m\u001b[0;34m)\u001b[0m\u001b[0;34m\u001b[0m\u001b[0m\n\u001b[0m\u001b[1;32m   1472\u001b[0m     \u001b[0;32mreturn\u001b[0m \u001b[0mloss\u001b[0m\u001b[0;34m\u001b[0m\u001b[0m\n\u001b[1;32m   1473\u001b[0m \u001b[0;34m\u001b[0m\u001b[0m\n",
      "\u001b[0;32m~/anaconda3/lib/python3.6/site-packages/tensorflow/python/training/monitored_session.py\u001b[0m in \u001b[0;36mrun\u001b[0;34m(self, fetches, feed_dict, options, run_metadata)\u001b[0m\n\u001b[1;32m    669\u001b[0m                           \u001b[0mfeed_dict\u001b[0m\u001b[0;34m=\u001b[0m\u001b[0mfeed_dict\u001b[0m\u001b[0;34m,\u001b[0m\u001b[0;34m\u001b[0m\u001b[0m\n\u001b[1;32m    670\u001b[0m                           \u001b[0moptions\u001b[0m\u001b[0;34m=\u001b[0m\u001b[0moptions\u001b[0m\u001b[0;34m,\u001b[0m\u001b[0;34m\u001b[0m\u001b[0m\n\u001b[0;32m--> 671\u001b[0;31m                           run_metadata=run_metadata)\n\u001b[0m\u001b[1;32m    672\u001b[0m \u001b[0;34m\u001b[0m\u001b[0m\n\u001b[1;32m    673\u001b[0m   \u001b[0;32mdef\u001b[0m \u001b[0mrun_step_fn\u001b[0m\u001b[0;34m(\u001b[0m\u001b[0mself\u001b[0m\u001b[0;34m,\u001b[0m \u001b[0mstep_fn\u001b[0m\u001b[0;34m)\u001b[0m\u001b[0;34m:\u001b[0m\u001b[0;34m\u001b[0m\u001b[0m\n",
      "\u001b[0;32m~/anaconda3/lib/python3.6/site-packages/tensorflow/python/training/monitored_session.py\u001b[0m in \u001b[0;36mrun\u001b[0;34m(self, fetches, feed_dict, options, run_metadata)\u001b[0m\n\u001b[1;32m   1154\u001b[0m                               \u001b[0mfeed_dict\u001b[0m\u001b[0;34m=\u001b[0m\u001b[0mfeed_dict\u001b[0m\u001b[0;34m,\u001b[0m\u001b[0;34m\u001b[0m\u001b[0m\n\u001b[1;32m   1155\u001b[0m                               \u001b[0moptions\u001b[0m\u001b[0;34m=\u001b[0m\u001b[0moptions\u001b[0m\u001b[0;34m,\u001b[0m\u001b[0;34m\u001b[0m\u001b[0m\n\u001b[0;32m-> 1156\u001b[0;31m                               run_metadata=run_metadata)\n\u001b[0m\u001b[1;32m   1157\u001b[0m       \u001b[0;32mexcept\u001b[0m \u001b[0m_PREEMPTION_ERRORS\u001b[0m \u001b[0;32mas\u001b[0m \u001b[0me\u001b[0m\u001b[0;34m:\u001b[0m\u001b[0;34m\u001b[0m\u001b[0m\n\u001b[1;32m   1158\u001b[0m         logging.info('An error was raised. This may be due to a preemption in '\n",
      "\u001b[0;32m~/anaconda3/lib/python3.6/site-packages/tensorflow/python/training/monitored_session.py\u001b[0m in \u001b[0;36mrun\u001b[0;34m(self, *args, **kwargs)\u001b[0m\n\u001b[1;32m   1238\u001b[0m   \u001b[0;32mdef\u001b[0m \u001b[0mrun\u001b[0m\u001b[0;34m(\u001b[0m\u001b[0mself\u001b[0m\u001b[0;34m,\u001b[0m \u001b[0;34m*\u001b[0m\u001b[0margs\u001b[0m\u001b[0;34m,\u001b[0m \u001b[0;34m**\u001b[0m\u001b[0mkwargs\u001b[0m\u001b[0;34m)\u001b[0m\u001b[0;34m:\u001b[0m\u001b[0;34m\u001b[0m\u001b[0m\n\u001b[1;32m   1239\u001b[0m     \u001b[0;32mtry\u001b[0m\u001b[0;34m:\u001b[0m\u001b[0;34m\u001b[0m\u001b[0m\n\u001b[0;32m-> 1240\u001b[0;31m       \u001b[0;32mreturn\u001b[0m \u001b[0mself\u001b[0m\u001b[0;34m.\u001b[0m\u001b[0m_sess\u001b[0m\u001b[0;34m.\u001b[0m\u001b[0mrun\u001b[0m\u001b[0;34m(\u001b[0m\u001b[0;34m*\u001b[0m\u001b[0margs\u001b[0m\u001b[0;34m,\u001b[0m \u001b[0;34m**\u001b[0m\u001b[0mkwargs\u001b[0m\u001b[0;34m)\u001b[0m\u001b[0;34m\u001b[0m\u001b[0m\n\u001b[0m\u001b[1;32m   1241\u001b[0m     \u001b[0;32mexcept\u001b[0m \u001b[0m_PREEMPTION_ERRORS\u001b[0m\u001b[0;34m:\u001b[0m\u001b[0;34m\u001b[0m\u001b[0m\n\u001b[1;32m   1242\u001b[0m       \u001b[0;32mraise\u001b[0m\u001b[0;34m\u001b[0m\u001b[0m\n",
      "\u001b[0;32m~/anaconda3/lib/python3.6/site-packages/tensorflow/python/training/monitored_session.py\u001b[0m in \u001b[0;36mrun\u001b[0;34m(self, fetches, feed_dict, options, run_metadata)\u001b[0m\n\u001b[1;32m   1310\u001b[0m                                   \u001b[0mfeed_dict\u001b[0m\u001b[0;34m=\u001b[0m\u001b[0mfeed_dict\u001b[0m\u001b[0;34m,\u001b[0m\u001b[0;34m\u001b[0m\u001b[0m\n\u001b[1;32m   1311\u001b[0m                                   \u001b[0moptions\u001b[0m\u001b[0;34m=\u001b[0m\u001b[0moptions\u001b[0m\u001b[0;34m,\u001b[0m\u001b[0;34m\u001b[0m\u001b[0m\n\u001b[0;32m-> 1312\u001b[0;31m                                   run_metadata=run_metadata)\n\u001b[0m\u001b[1;32m   1313\u001b[0m \u001b[0;34m\u001b[0m\u001b[0m\n\u001b[1;32m   1314\u001b[0m     \u001b[0;32mfor\u001b[0m \u001b[0mhook\u001b[0m \u001b[0;32min\u001b[0m \u001b[0mself\u001b[0m\u001b[0;34m.\u001b[0m\u001b[0m_hooks\u001b[0m\u001b[0;34m:\u001b[0m\u001b[0;34m\u001b[0m\u001b[0m\n",
      "\u001b[0;32m~/anaconda3/lib/python3.6/site-packages/tensorflow/python/training/monitored_session.py\u001b[0m in \u001b[0;36mrun\u001b[0;34m(self, *args, **kwargs)\u001b[0m\n\u001b[1;32m   1074\u001b[0m \u001b[0;34m\u001b[0m\u001b[0m\n\u001b[1;32m   1075\u001b[0m   \u001b[0;32mdef\u001b[0m \u001b[0mrun\u001b[0m\u001b[0;34m(\u001b[0m\u001b[0mself\u001b[0m\u001b[0;34m,\u001b[0m \u001b[0;34m*\u001b[0m\u001b[0margs\u001b[0m\u001b[0;34m,\u001b[0m \u001b[0;34m**\u001b[0m\u001b[0mkwargs\u001b[0m\u001b[0;34m)\u001b[0m\u001b[0;34m:\u001b[0m\u001b[0;34m\u001b[0m\u001b[0m\n\u001b[0;32m-> 1076\u001b[0;31m     \u001b[0;32mreturn\u001b[0m \u001b[0mself\u001b[0m\u001b[0;34m.\u001b[0m\u001b[0m_sess\u001b[0m\u001b[0;34m.\u001b[0m\u001b[0mrun\u001b[0m\u001b[0;34m(\u001b[0m\u001b[0;34m*\u001b[0m\u001b[0margs\u001b[0m\u001b[0;34m,\u001b[0m \u001b[0;34m**\u001b[0m\u001b[0mkwargs\u001b[0m\u001b[0;34m)\u001b[0m\u001b[0;34m\u001b[0m\u001b[0m\n\u001b[0m\u001b[1;32m   1077\u001b[0m \u001b[0;34m\u001b[0m\u001b[0m\n\u001b[1;32m   1078\u001b[0m   \u001b[0;32mdef\u001b[0m \u001b[0mrun_step_fn\u001b[0m\u001b[0;34m(\u001b[0m\u001b[0mself\u001b[0m\u001b[0;34m,\u001b[0m \u001b[0mstep_fn\u001b[0m\u001b[0;34m,\u001b[0m \u001b[0mraw_session\u001b[0m\u001b[0;34m,\u001b[0m \u001b[0mrun_with_hooks\u001b[0m\u001b[0;34m)\u001b[0m\u001b[0;34m:\u001b[0m\u001b[0;34m\u001b[0m\u001b[0m\n",
      "\u001b[0;32m~/anaconda3/lib/python3.6/site-packages/tensorflow/python/client/session.py\u001b[0m in \u001b[0;36mrun\u001b[0;34m(self, fetches, feed_dict, options, run_metadata)\u001b[0m\n\u001b[1;32m    927\u001b[0m     \u001b[0;32mtry\u001b[0m\u001b[0;34m:\u001b[0m\u001b[0;34m\u001b[0m\u001b[0m\n\u001b[1;32m    928\u001b[0m       result = self._run(None, fetches, feed_dict, options_ptr,\n\u001b[0;32m--> 929\u001b[0;31m                          run_metadata_ptr)\n\u001b[0m\u001b[1;32m    930\u001b[0m       \u001b[0;32mif\u001b[0m \u001b[0mrun_metadata\u001b[0m\u001b[0;34m:\u001b[0m\u001b[0;34m\u001b[0m\u001b[0m\n\u001b[1;32m    931\u001b[0m         \u001b[0mproto_data\u001b[0m \u001b[0;34m=\u001b[0m \u001b[0mtf_session\u001b[0m\u001b[0;34m.\u001b[0m\u001b[0mTF_GetBuffer\u001b[0m\u001b[0;34m(\u001b[0m\u001b[0mrun_metadata_ptr\u001b[0m\u001b[0;34m)\u001b[0m\u001b[0;34m\u001b[0m\u001b[0m\n",
      "\u001b[0;32m~/anaconda3/lib/python3.6/site-packages/tensorflow/python/client/session.py\u001b[0m in \u001b[0;36m_run\u001b[0;34m(self, handle, fetches, feed_dict, options, run_metadata)\u001b[0m\n\u001b[1;32m   1150\u001b[0m     \u001b[0;32mif\u001b[0m \u001b[0mfinal_fetches\u001b[0m \u001b[0;32mor\u001b[0m \u001b[0mfinal_targets\u001b[0m \u001b[0;32mor\u001b[0m \u001b[0;34m(\u001b[0m\u001b[0mhandle\u001b[0m \u001b[0;32mand\u001b[0m \u001b[0mfeed_dict_tensor\u001b[0m\u001b[0;34m)\u001b[0m\u001b[0;34m:\u001b[0m\u001b[0;34m\u001b[0m\u001b[0m\n\u001b[1;32m   1151\u001b[0m       results = self._do_run(handle, final_targets, final_fetches,\n\u001b[0;32m-> 1152\u001b[0;31m                              feed_dict_tensor, options, run_metadata)\n\u001b[0m\u001b[1;32m   1153\u001b[0m     \u001b[0;32melse\u001b[0m\u001b[0;34m:\u001b[0m\u001b[0;34m\u001b[0m\u001b[0m\n\u001b[1;32m   1154\u001b[0m       \u001b[0mresults\u001b[0m \u001b[0;34m=\u001b[0m \u001b[0;34m[\u001b[0m\u001b[0;34m]\u001b[0m\u001b[0;34m\u001b[0m\u001b[0m\n",
      "\u001b[0;32m~/anaconda3/lib/python3.6/site-packages/tensorflow/python/client/session.py\u001b[0m in \u001b[0;36m_do_run\u001b[0;34m(self, handle, target_list, fetch_list, feed_dict, options, run_metadata)\u001b[0m\n\u001b[1;32m   1326\u001b[0m     \u001b[0;32mif\u001b[0m \u001b[0mhandle\u001b[0m \u001b[0;32mis\u001b[0m \u001b[0;32mNone\u001b[0m\u001b[0;34m:\u001b[0m\u001b[0;34m\u001b[0m\u001b[0m\n\u001b[1;32m   1327\u001b[0m       return self._do_call(_run_fn, feeds, fetches, targets, options,\n\u001b[0;32m-> 1328\u001b[0;31m                            run_metadata)\n\u001b[0m\u001b[1;32m   1329\u001b[0m     \u001b[0;32melse\u001b[0m\u001b[0;34m:\u001b[0m\u001b[0;34m\u001b[0m\u001b[0m\n\u001b[1;32m   1330\u001b[0m       \u001b[0;32mreturn\u001b[0m \u001b[0mself\u001b[0m\u001b[0;34m.\u001b[0m\u001b[0m_do_call\u001b[0m\u001b[0;34m(\u001b[0m\u001b[0m_prun_fn\u001b[0m\u001b[0;34m,\u001b[0m \u001b[0mhandle\u001b[0m\u001b[0;34m,\u001b[0m \u001b[0mfeeds\u001b[0m\u001b[0;34m,\u001b[0m \u001b[0mfetches\u001b[0m\u001b[0;34m)\u001b[0m\u001b[0;34m\u001b[0m\u001b[0m\n",
      "\u001b[0;32m~/anaconda3/lib/python3.6/site-packages/tensorflow/python/client/session.py\u001b[0m in \u001b[0;36m_do_call\u001b[0;34m(self, fn, *args)\u001b[0m\n\u001b[1;32m   1332\u001b[0m   \u001b[0;32mdef\u001b[0m \u001b[0m_do_call\u001b[0m\u001b[0;34m(\u001b[0m\u001b[0mself\u001b[0m\u001b[0;34m,\u001b[0m \u001b[0mfn\u001b[0m\u001b[0;34m,\u001b[0m \u001b[0;34m*\u001b[0m\u001b[0margs\u001b[0m\u001b[0;34m)\u001b[0m\u001b[0;34m:\u001b[0m\u001b[0;34m\u001b[0m\u001b[0m\n\u001b[1;32m   1333\u001b[0m     \u001b[0;32mtry\u001b[0m\u001b[0;34m:\u001b[0m\u001b[0;34m\u001b[0m\u001b[0m\n\u001b[0;32m-> 1334\u001b[0;31m       \u001b[0;32mreturn\u001b[0m \u001b[0mfn\u001b[0m\u001b[0;34m(\u001b[0m\u001b[0;34m*\u001b[0m\u001b[0margs\u001b[0m\u001b[0;34m)\u001b[0m\u001b[0;34m\u001b[0m\u001b[0m\n\u001b[0m\u001b[1;32m   1335\u001b[0m     \u001b[0;32mexcept\u001b[0m \u001b[0merrors\u001b[0m\u001b[0;34m.\u001b[0m\u001b[0mOpError\u001b[0m \u001b[0;32mas\u001b[0m \u001b[0me\u001b[0m\u001b[0;34m:\u001b[0m\u001b[0;34m\u001b[0m\u001b[0m\n\u001b[1;32m   1336\u001b[0m       \u001b[0mmessage\u001b[0m \u001b[0;34m=\u001b[0m \u001b[0mcompat\u001b[0m\u001b[0;34m.\u001b[0m\u001b[0mas_text\u001b[0m\u001b[0;34m(\u001b[0m\u001b[0me\u001b[0m\u001b[0;34m.\u001b[0m\u001b[0mmessage\u001b[0m\u001b[0;34m)\u001b[0m\u001b[0;34m\u001b[0m\u001b[0m\n",
      "\u001b[0;32m~/anaconda3/lib/python3.6/site-packages/tensorflow/python/client/session.py\u001b[0m in \u001b[0;36m_run_fn\u001b[0;34m(feed_dict, fetch_list, target_list, options, run_metadata)\u001b[0m\n\u001b[1;32m   1317\u001b[0m       \u001b[0mself\u001b[0m\u001b[0;34m.\u001b[0m\u001b[0m_extend_graph\u001b[0m\u001b[0;34m(\u001b[0m\u001b[0;34m)\u001b[0m\u001b[0;34m\u001b[0m\u001b[0m\n\u001b[1;32m   1318\u001b[0m       return self._call_tf_sessionrun(\n\u001b[0;32m-> 1319\u001b[0;31m           options, feed_dict, fetch_list, target_list, run_metadata)\n\u001b[0m\u001b[1;32m   1320\u001b[0m \u001b[0;34m\u001b[0m\u001b[0m\n\u001b[1;32m   1321\u001b[0m     \u001b[0;32mdef\u001b[0m \u001b[0m_prun_fn\u001b[0m\u001b[0;34m(\u001b[0m\u001b[0mhandle\u001b[0m\u001b[0;34m,\u001b[0m \u001b[0mfeed_dict\u001b[0m\u001b[0;34m,\u001b[0m \u001b[0mfetch_list\u001b[0m\u001b[0;34m)\u001b[0m\u001b[0;34m:\u001b[0m\u001b[0;34m\u001b[0m\u001b[0m\n",
      "\u001b[0;32m~/anaconda3/lib/python3.6/site-packages/tensorflow/python/client/session.py\u001b[0m in \u001b[0;36m_call_tf_sessionrun\u001b[0;34m(self, options, feed_dict, fetch_list, target_list, run_metadata)\u001b[0m\n\u001b[1;32m   1405\u001b[0m     return tf_session.TF_SessionRun_wrapper(\n\u001b[1;32m   1406\u001b[0m         \u001b[0mself\u001b[0m\u001b[0;34m.\u001b[0m\u001b[0m_session\u001b[0m\u001b[0;34m,\u001b[0m \u001b[0moptions\u001b[0m\u001b[0;34m,\u001b[0m \u001b[0mfeed_dict\u001b[0m\u001b[0;34m,\u001b[0m \u001b[0mfetch_list\u001b[0m\u001b[0;34m,\u001b[0m \u001b[0mtarget_list\u001b[0m\u001b[0;34m,\u001b[0m\u001b[0;34m\u001b[0m\u001b[0m\n\u001b[0;32m-> 1407\u001b[0;31m         run_metadata)\n\u001b[0m\u001b[1;32m   1408\u001b[0m \u001b[0;34m\u001b[0m\u001b[0m\n\u001b[1;32m   1409\u001b[0m   \u001b[0;32mdef\u001b[0m \u001b[0m_call_tf_sessionprun\u001b[0m\u001b[0;34m(\u001b[0m\u001b[0mself\u001b[0m\u001b[0;34m,\u001b[0m \u001b[0mhandle\u001b[0m\u001b[0;34m,\u001b[0m \u001b[0mfeed_dict\u001b[0m\u001b[0;34m,\u001b[0m \u001b[0mfetch_list\u001b[0m\u001b[0;34m)\u001b[0m\u001b[0;34m:\u001b[0m\u001b[0;34m\u001b[0m\u001b[0m\n",
      "\u001b[0;31mKeyboardInterrupt\u001b[0m: "
     ]
    }
   ],
   "source": [
    "estimator.train(\n",
    "    input_fn = lambda: input_fn(\n",
    "        df_train, \n",
    "        params,\n",
    "        tf.estimator.ModeKeys.TRAIN,\n",
    "    )\n",
    ")"
   ]
  },
  {
   "cell_type": "markdown",
   "metadata": {},
   "source": [
    "#### Evaluate\n",
    "To get some metrics about our models performance we will just use the `evaluate` method which also accepts a parameterless `input_fn`, we will also give it a lambda but this time we will pass the test dataset and change the mode to `EVAL`.\n",
    "\n",
    "`evaluate` will return the computed values of `eval_metric_ops` we gave to the `EstimatorSpec` in the `EVAL` model. "
   ]
  },
  {
   "cell_type": "code",
   "execution_count": 54,
   "metadata": {},
   "outputs": [
    {
     "name": "stdout",
     "output_type": "stream",
     "text": [
      "INFO:tensorflow:Calling model_fn.\n"
     ]
    },
    {
     "name": "stderr",
     "output_type": "stream",
     "text": [
      "/home/cristian/anaconda3/lib/python3.6/site-packages/tensorflow/python/util/tf_inspect.py:75: DeprecationWarning: inspect.getargspec() is deprecated, use inspect.signature() or inspect.getfullargspec()\n",
      "  return _inspect.getargspec(target)\n"
     ]
    },
    {
     "name": "stdout",
     "output_type": "stream",
     "text": [
      "##########################\n",
      "## AllCNN\n",
      "##########################\n",
      "Tensor(\"IteratorGetNext:2\", shape=(?, 28, 28, 1), dtype=float32)\n",
      "Tensor(\"AllCNN/Relu:0\", shape=(?, 14, 14, 16), dtype=float32)\n",
      "Tensor(\"AllCNN/Relu_1:0\", shape=(?, 7, 7, 32), dtype=float32)\n",
      "Tensor(\"AllCNN/Relu_2:0\", shape=(?, 5, 5, 64), dtype=float32)\n",
      "Tensor(\"AllCNN/conv2d_3/BiasAdd:0\", shape=(?, 3, 3, 10), dtype=float32)\n",
      "Tensor(\"AllCNN/Mean:0\", shape=(?, 10), dtype=float32)\n",
      "Tensor(\"AllCNN/Softmax:0\", shape=(?, 10), dtype=float32)\n",
      "\n",
      "INFO:tensorflow:Done calling model_fn.\n",
      "INFO:tensorflow:Starting evaluation at 2018-11-20-22:51:22\n",
      "INFO:tensorflow:Graph was finalized.\n",
      "INFO:tensorflow:Restoring parameters from models/all_cnn/model.ckpt-8200\n",
      "INFO:tensorflow:Running local_init_op.\n",
      "INFO:tensorflow:Done running local_init_op.\n",
      "INFO:tensorflow:Finished evaluation at 2018-11-20-22:51:28\n",
      "INFO:tensorflow:Saving dict for global step 8200: accuracy = 0.986286, global_step = 8200, loss = 0.0421019\n",
      "INFO:tensorflow:Saving 'checkpoint_path' summary for global step 8200: models/all_cnn/model.ckpt-8200\n"
     ]
    },
    {
     "data": {
      "text/plain": [
       "{'accuracy': 0.98628569, 'global_step': 8200, 'loss': 0.042101901}"
      ]
     },
     "execution_count": 54,
     "metadata": {},
     "output_type": "execute_result"
    }
   ],
   "source": [
    "metrics = estimator.evaluate(\n",
    "    input_fn = lambda: input_fn(\n",
    "        df_test, \n",
    "        params,\n",
    "        tf.estimator.ModeKeys.EVAL,\n",
    "    )\n",
    ")\n",
    "\n",
    "metrics"
   ]
  },
  {
   "cell_type": "markdown",
   "metadata": {},
   "source": [
    "#### Predict\n",
    "Similar to the previous methods, `predict` take the `input_fn` function but returns an iterator of the predictions for us to evaluate one by one. Firt we will just create the iterator"
   ]
  },
  {
   "cell_type": "code",
   "execution_count": 55,
   "metadata": {},
   "outputs": [],
   "source": [
    "iterator = estimator.predict(\n",
    "    input_fn = lambda: input_fn(\n",
    "        df_test,\n",
    "        params,\n",
    "        tf.estimator.ModeKeys.PREDICT,\n",
    "    )\n",
    ")"
   ]
  },
  {
   "cell_type": "markdown",
   "metadata": {},
   "source": [
    "and to end this tutorial we will perform inference some images from the test set and visualize the results! The number on top of the image is the predicted class (which should usually match), you can repeatedly run this cell to get different results."
   ]
  },
  {
   "cell_type": "code",
   "execution_count": 82,
   "metadata": {},
   "outputs": [
    {
     "data": {
      "image/png": "[encoded data removed]",
      "text/plain": [
       "<matplotlib.figure.Figure at 0x7fb1d8da7da0>"
      ]
     },
     "metadata": {},
     "output_type": "display_data"
    }
   ],
   "source": [
    "predictions = next(iterator)\n",
    "\n",
    "img = predictions[\"image\"]\n",
    "class_id = np.argmax(predictions[\"classes\"])\n",
    "\n",
    "ax = plt.axes()\n",
    "\n",
    "plt.imshow(img[:, :, 0], cmap=\"gray\")\n",
    "\n",
    "ax.title.set_text(class_id)\n",
    "ax.get_yaxis().set_visible(False)\n",
    "ax.get_xaxis().set_visible(False)\n",
    "\n",
    "plt.show()"
   ]
  },
  {
   "cell_type": "code",
   "execution_count": null,
   "metadata": {},
   "outputs": [],
   "source": []
  }
 ],
 "metadata": {
  "kernelspec": {
   "display_name": "Python 3",
   "language": "python",
   "name": "python3"
  },
  "language_info": {
   "codemirror_mode": {
    "name": "ipython",
    "version": 3
   },
   "file_extension": ".py",
   "mimetype": "text/x-python",
   "name": "python",
   "nbconvert_exporter": "python",
   "pygments_lexer": "ipython3",
   "version": "3.6.5"
  }
 },
 "nbformat": 4,
 "nbformat_minor": 2
}
